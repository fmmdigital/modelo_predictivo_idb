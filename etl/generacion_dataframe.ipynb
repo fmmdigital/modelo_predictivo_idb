{
 "cells": [
  {
   "cell_type": "code",
   "execution_count": 1,
   "id": "f4f113af",
   "metadata": {},
   "outputs": [],
   "source": [
    "import pandas as pd\n",
    "from pathlib import Path\n",
    "import os\n",
    "from sqlalchemy import create_engine\n",
    "import numpy as np\n",
    "import datetime"
   ]
  },
  {
   "cell_type": "code",
   "execution_count": 2,
   "id": "5cb0bc9c",
   "metadata": {},
   "outputs": [],
   "source": [
    "# Display options\n",
    "pd.options.display.max_colwidth = 200\n",
    "pd.options.display.float_format = '{:,.0f}'.format\n",
    "pd.options.display.max_columns = None\n",
    "pd.options.display.max_rows = None\n",
    "pd.set_option('display.max_colwidth', None)"
   ]
  },
  {
   "cell_type": "code",
   "execution_count": 3,
   "id": "496387be",
   "metadata": {},
   "outputs": [],
   "source": [
    "#  Working directory\n",
    "try:\n",
    "    path = Path(__file__).parent # para correr en consola\n",
    "except NameError:\n",
    "    path = Path('/Users/mac/Documents/IDB') #para correr en spyder\n",
    "os.chdir(path)"
   ]
  },
  {
   "cell_type": "code",
   "execution_count": 4,
   "id": "a5f96894",
   "metadata": {},
   "outputs": [],
   "source": [
    "# Credenciales conexion nueva BD\n",
    "import modelo_predictivo.etl.credentials_newdb as credentials"
   ]
  },
  {
   "cell_type": "code",
   "execution_count": 5,
   "id": "1a4211bc",
   "metadata": {},
   "outputs": [],
   "source": [
    "import importlib"
   ]
  },
  {
   "cell_type": "code",
   "execution_count": 6,
   "id": "b864ea42",
   "metadata": {},
   "outputs": [],
   "source": [
    "def convertir_a_minuscula(df):\n",
    "    '''\n",
    "    Convierte los nombres de columnas de dataframe a minuscula\n",
    "\n",
    "    Params\n",
    "    ------\n",
    "    df (dataframe): dataframe \n",
    "\n",
    "    Returns\n",
    "    ------\n",
    "    dataframe con columnas en minuscula\n",
    "\n",
    "    '''\n",
    "    df.columns = map(str.lower, df.columns)\n",
    "    return\n",
    "\n",
    "    \n",
    "def agregar_anio(df,variable):\n",
    "    '''\n",
    "    Agrega una columna con el anio extraido de una columna de dataframe de formato datetime\n",
    "\n",
    "    Params\n",
    "    ------\n",
    "    df (dataframe): dataframe que contiene columna datetime de la que se extraera el anio.\n",
    "    variable (string): nombre de columna que contiene la fecha desde donde se quiere extraer el anio.\n",
    "\n",
    "    Returns\n",
    "    -------\n",
    "    dataframe con columna con anio\n",
    "\n",
    "    '''\n",
    "    df['anio'] = df[variable].dt.year"
   ]
  },
  {
   "cell_type": "code",
   "execution_count": 7,
   "id": "58c0bce8",
   "metadata": {},
   "outputs": [],
   "source": [
    "def generar_onehot_encoding(df,variable):\n",
    "    '''\n",
    "    Genera dataframe con variable convertida a one-hot encoding\n",
    "    \n",
    "    Params\n",
    "    ------\n",
    "    df (dataframe): dataframe al que se quiere agregar one-hot encoding y que contiene la variable a tratar\n",
    "    variable (string): variable a convertir a one-hot encoding\n",
    "    \n",
    "    Returns\n",
    "    -------\n",
    "    df_rtdo (dataframe): dataframe sin variable original, reemplazada por one-hot encoding\n",
    "    \n",
    "    '''\n",
    "    # genero onehot\n",
    "    one_hot = pd.get_dummies(df[variable])\n",
    "    one_hot = one_hot.add_prefix(f'{variable}_')\n",
    "    \n",
    "    # drop de columna\n",
    "    df = df.drop(variable,axis = 1)\n",
    "    \n",
    "    # Join the encoded df\n",
    "    df_rtdo = df.join(one_hot)\n",
    "    \n",
    "    return(df_rtdo)"
   ]
  },
  {
   "cell_type": "code",
   "execution_count": 8,
   "id": "eaec757d",
   "metadata": {},
   "outputs": [],
   "source": [
    "# Conexion a BD\n",
    "hostname = credentials.hostname\n",
    "username = credentials.username\n",
    "password = credentials.password\n",
    "database = credentials.database\n",
    "port = credentials.port\n",
    "\n",
    "# Create an engine instance\n",
    "alchemyEngine = create_engine(f'postgresql+psycopg2://{username}:{password}@{hostname}:{port}/{database}', pool_recycle=3600);"
   ]
  },
  {
   "cell_type": "code",
   "execution_count": 9,
   "id": "c03ac2a4",
   "metadata": {},
   "outputs": [],
   "source": [
    "# Connect to PostgreSQL server\n",
    "dbConnection = alchemyEngine.connect();"
   ]
  },
  {
   "cell_type": "markdown",
   "id": "dd4d0382",
   "metadata": {},
   "source": [
    "### Importo bases"
   ]
  },
  {
   "cell_type": "code",
   "execution_count": 10,
   "id": "d207f40f",
   "metadata": {},
   "outputs": [],
   "source": [
    "# Base contratos a nivel convocatoria\n",
    "contratos = pd.read_sql_table('F_CONTRATOS_NEW', con = dbConnection) "
   ]
  },
  {
   "cell_type": "code",
   "execution_count": 11,
   "id": "30c90e6d",
   "metadata": {},
   "outputs": [
    {
     "data": {
      "text/plain": [
       "(202077, 35)"
      ]
     },
     "execution_count": 11,
     "metadata": {},
     "output_type": "execute_result"
    }
   ],
   "source": [
    "contratos.shape"
   ]
  },
  {
   "cell_type": "code",
   "execution_count": 12,
   "id": "c5844b36",
   "metadata": {},
   "outputs": [],
   "source": [
    "# Base convocatorias\n",
    "convocatorias = pd.read_sql_table('F_CONVOCATORIAS', con = dbConnection) "
   ]
  },
  {
   "cell_type": "code",
   "execution_count": 13,
   "id": "1f481cb1",
   "metadata": {},
   "outputs": [
    {
     "data": {
      "text/plain": [
       "(282989, 55)"
      ]
     },
     "execution_count": 13,
     "metadata": {},
     "output_type": "execute_result"
    }
   ],
   "source": [
    "convocatorias.shape"
   ]
  },
  {
   "cell_type": "code",
   "execution_count": 14,
   "id": "edceb646",
   "metadata": {},
   "outputs": [],
   "source": [
    "# Base adjudicaciones \n",
    "adjudicaciones = pd.read_sql_table('F_ADJUDICACIONES', con = dbConnection) "
   ]
  },
  {
   "cell_type": "code",
   "execution_count": 15,
   "id": "1d1f2b41",
   "metadata": {},
   "outputs": [
    {
     "data": {
      "text/plain": [
       "(242712, 43)"
      ]
     },
     "execution_count": 15,
     "metadata": {},
     "output_type": "execute_result"
    }
   ],
   "source": [
    "adjudicaciones.shape"
   ]
  },
  {
   "cell_type": "code",
   "execution_count": 16,
   "id": "fadd4cc7",
   "metadata": {},
   "outputs": [],
   "source": [
    "# Base postores\n",
    "postores = pd.read_sql_table('F_POSTOR', con = dbConnection) "
   ]
  },
  {
   "cell_type": "code",
   "execution_count": 17,
   "id": "7047a810",
   "metadata": {},
   "outputs": [
    {
     "data": {
      "text/plain": [
       "(1682950, 24)"
      ]
     },
     "execution_count": 17,
     "metadata": {},
     "output_type": "execute_result"
    }
   ],
   "source": [
    "postores.shape"
   ]
  },
  {
   "cell_type": "code",
   "execution_count": 18,
   "id": "ea5663aa",
   "metadata": {},
   "outputs": [],
   "source": [
    "# SUNAT\n",
    "sunat = pd.read_excel('./data/sunat/SUNAT.xlsx')"
   ]
  },
  {
   "cell_type": "code",
   "execution_count": 19,
   "id": "5477e0a8",
   "metadata": {},
   "outputs": [
    {
     "data": {
      "text/plain": [
       "(46645, 33)"
      ]
     },
     "execution_count": 19,
     "metadata": {},
     "output_type": "execute_result"
    }
   ],
   "source": [
    "sunat.shape"
   ]
  },
  {
   "cell_type": "code",
   "execution_count": 20,
   "id": "64bd10b6",
   "metadata": {},
   "outputs": [
    {
     "data": {
      "text/html": [
       "<div>\n",
       "<style scoped>\n",
       "    .dataframe tbody tr th:only-of-type {\n",
       "        vertical-align: middle;\n",
       "    }\n",
       "\n",
       "    .dataframe tbody tr th {\n",
       "        vertical-align: top;\n",
       "    }\n",
       "\n",
       "    .dataframe thead th {\n",
       "        text-align: right;\n",
       "    }\n",
       "</style>\n",
       "<table border=\"1\" class=\"dataframe\">\n",
       "  <thead>\n",
       "    <tr style=\"text-align: right;\">\n",
       "      <th></th>\n",
       "      <th>ruc</th>\n",
       "      <th>DDP_CIIU</th>\n",
       "      <th>DDP_DOBLE</th>\n",
       "      <th>DDP_ESTADO</th>\n",
       "      <th>DDP_FECALT</th>\n",
       "      <th>DDP_FECBAJ</th>\n",
       "      <th>DDP_IDENTI</th>\n",
       "      <th>DDP_NUMRUC</th>\n",
       "      <th>DDP_TAMANO</th>\n",
       "      <th>DDP_TPOEMP</th>\n",
       "      <th>DDP_UBIGEO</th>\n",
       "      <th>DESC_CIIU</th>\n",
       "      <th>DESC_ESTADO</th>\n",
       "      <th>ESHABIDO</th>\n",
       "      <th>DESC_TPOEMP</th>\n",
       "      <th>DDS_ASIENT</th>\n",
       "      <th>DDS_CALIFI</th>\n",
       "      <th>DDS_CIERRE</th>\n",
       "      <th>DDS_COMEXT</th>\n",
       "      <th>DDS_CONSTI</th>\n",
       "      <th>DDS_CONTAB</th>\n",
       "      <th>DDS_FICHA</th>\n",
       "      <th>DDS_INICIO</th>\n",
       "      <th>DECLARA</th>\n",
       "      <th>DDS_MOTBAJ</th>\n",
       "      <th>DESC_MOTBAJ</th>\n",
       "      <th>DESC_CIERRE</th>\n",
       "      <th>DESC_CONTAB</th>\n",
       "      <th>DESC_COMEXT</th>\n",
       "      <th>COD_PAICAP</th>\n",
       "      <th>COD_PAIORI</th>\n",
       "      <th>IND_CONLEG</th>\n",
       "      <th>DES_CONLEG</th>\n",
       "    </tr>\n",
       "  </thead>\n",
       "  <tbody>\n",
       "    <tr>\n",
       "      <th>0</th>\n",
       "      <td>10000020040</td>\n",
       "      <td>70109</td>\n",
       "      <td>0</td>\n",
       "      <td>0</td>\n",
       "      <td>2008-08-13</td>\n",
       "      <td>NaT</td>\n",
       "      <td>1</td>\n",
       "      <td>10000020040</td>\n",
       "      <td>3</td>\n",
       "      <td>1</td>\n",
       "      <td>250101</td>\n",
       "      <td>ACTIVIDADES INMOBILIARIAS</td>\n",
       "      <td>ACTIVO</td>\n",
       "      <td>HABIDO</td>\n",
       "      <td>PERSONA NATURAL SIN EMP.</td>\n",
       "      <td>-</td>\n",
       "      <td>-</td>\n",
       "      <td>-</td>\n",
       "      <td>00</td>\n",
       "      <td>NaN</td>\n",
       "      <td>01</td>\n",
       "      <td>-</td>\n",
       "      <td>2008-08-13</td>\n",
       "      <td>2008-08-13</td>\n",
       "      <td>-</td>\n",
       "      <td>NaN</td>\n",
       "      <td>NaN</td>\n",
       "      <td>MANUAL</td>\n",
       "      <td>SIN ACTIVIDAD</td>\n",
       "      <td>-</td>\n",
       "      <td>-</td>\n",
       "      <td>01</td>\n",
       "      <td>PROPIO</td>\n",
       "    </tr>\n",
       "    <tr>\n",
       "      <th>1</th>\n",
       "      <td>10000035012</td>\n",
       "      <td>70109</td>\n",
       "      <td>0</td>\n",
       "      <td>0</td>\n",
       "      <td>2015-05-21</td>\n",
       "      <td>NaT</td>\n",
       "      <td>1</td>\n",
       "      <td>10000035012</td>\n",
       "      <td>3</td>\n",
       "      <td>1</td>\n",
       "      <td>250101</td>\n",
       "      <td>ACTIVIDADES INMOBILIARIAS</td>\n",
       "      <td>ACTIVO</td>\n",
       "      <td>HABIDO</td>\n",
       "      <td>PERSONA NATURAL SIN EMP.</td>\n",
       "      <td>-</td>\n",
       "      <td>-</td>\n",
       "      <td>-</td>\n",
       "      <td>00</td>\n",
       "      <td>NaN</td>\n",
       "      <td>00</td>\n",
       "      <td>-</td>\n",
       "      <td>2015-06-01</td>\n",
       "      <td>2015-06-01</td>\n",
       "      <td>-</td>\n",
       "      <td>NaN</td>\n",
       "      <td>NaN</td>\n",
       "      <td>SIN SISTEMA</td>\n",
       "      <td>SIN ACTIVIDAD</td>\n",
       "      <td>-</td>\n",
       "      <td>-</td>\n",
       "      <td>01</td>\n",
       "      <td>PROPIO</td>\n",
       "    </tr>\n",
       "    <tr>\n",
       "      <th>2</th>\n",
       "      <td>10000130121</td>\n",
       "      <td>51502</td>\n",
       "      <td>0</td>\n",
       "      <td>0</td>\n",
       "      <td>1998-06-08</td>\n",
       "      <td>NaT</td>\n",
       "      <td>1</td>\n",
       "      <td>10000130121</td>\n",
       "      <td>3</td>\n",
       "      <td>2</td>\n",
       "      <td>250101</td>\n",
       "      <td>VTA. MAY. MAQUINARIA EQUIPO Y MATER.</td>\n",
       "      <td>ACTIVO</td>\n",
       "      <td>HABIDO</td>\n",
       "      <td>PERSONA NATURAL CON EMP. UNIPERS.</td>\n",
       "      <td>-</td>\n",
       "      <td>-</td>\n",
       "      <td>99</td>\n",
       "      <td>00</td>\n",
       "      <td>NaN</td>\n",
       "      <td>01</td>\n",
       "      <td>-</td>\n",
       "      <td>1998-06-08</td>\n",
       "      <td>1998-06-08</td>\n",
       "      <td>-</td>\n",
       "      <td>NaN</td>\n",
       "      <td>PROFESION U OCUPACION INDEFINIDA</td>\n",
       "      <td>MANUAL</td>\n",
       "      <td>SIN ACTIVIDAD</td>\n",
       "      <td>-</td>\n",
       "      <td>-</td>\n",
       "      <td>-</td>\n",
       "      <td>n.d.</td>\n",
       "    </tr>\n",
       "    <tr>\n",
       "      <th>3</th>\n",
       "      <td>10000137397</td>\n",
       "      <td>52348</td>\n",
       "      <td>0</td>\n",
       "      <td>0</td>\n",
       "      <td>2011-03-02</td>\n",
       "      <td>NaT</td>\n",
       "      <td>1</td>\n",
       "      <td>10000137397</td>\n",
       "      <td>3</td>\n",
       "      <td>2</td>\n",
       "      <td>150136</td>\n",
       "      <td>VTA. MIN. ARTICULOS DE FERRETERIA.</td>\n",
       "      <td>ACTIVO</td>\n",
       "      <td>HABIDO</td>\n",
       "      <td>PERSONA NATURAL CON EMP. UNIPERS.</td>\n",
       "      <td>-</td>\n",
       "      <td>-</td>\n",
       "      <td>99</td>\n",
       "      <td>00</td>\n",
       "      <td>NaN</td>\n",
       "      <td>01</td>\n",
       "      <td>-</td>\n",
       "      <td>2011-03-02</td>\n",
       "      <td>2011-03-02</td>\n",
       "      <td>-</td>\n",
       "      <td>NaN</td>\n",
       "      <td>PROFESION U OCUPACION INDEFINIDA</td>\n",
       "      <td>MANUAL</td>\n",
       "      <td>SIN ACTIVIDAD</td>\n",
       "      <td>-</td>\n",
       "      <td>-</td>\n",
       "      <td>02</td>\n",
       "      <td>ALQUILADO</td>\n",
       "    </tr>\n",
       "    <tr>\n",
       "      <th>4</th>\n",
       "      <td>10000165838</td>\n",
       "      <td>63024</td>\n",
       "      <td>0</td>\n",
       "      <td>0</td>\n",
       "      <td>1995-06-30</td>\n",
       "      <td>NaT</td>\n",
       "      <td>1</td>\n",
       "      <td>10000165838</td>\n",
       "      <td>3</td>\n",
       "      <td>2</td>\n",
       "      <td>250101</td>\n",
       "      <td>ALMACENAMIENTO Y DEPOSITO</td>\n",
       "      <td>ACTIVO</td>\n",
       "      <td>HABIDO</td>\n",
       "      <td>PERSONA NATURAL CON EMP. UNIPERS.</td>\n",
       "      <td>-</td>\n",
       "      <td>-</td>\n",
       "      <td>99</td>\n",
       "      <td>00</td>\n",
       "      <td>NaN</td>\n",
       "      <td>01</td>\n",
       "      <td>-</td>\n",
       "      <td>1995-07-01</td>\n",
       "      <td>1995-07-01</td>\n",
       "      <td>-</td>\n",
       "      <td>NaN</td>\n",
       "      <td>PROFESION U OCUPACION INDEFINIDA</td>\n",
       "      <td>MANUAL</td>\n",
       "      <td>SIN ACTIVIDAD</td>\n",
       "      <td>-</td>\n",
       "      <td>-</td>\n",
       "      <td>-</td>\n",
       "      <td>n.d.</td>\n",
       "    </tr>\n",
       "  </tbody>\n",
       "</table>\n",
       "</div>"
      ],
      "text/plain": [
       "           ruc  DDP_CIIU  DDP_DOBLE  DDP_ESTADO DDP_FECALT DDP_FECBAJ  \\\n",
       "0  10000020040     70109          0           0 2008-08-13        NaT   \n",
       "1  10000035012     70109          0           0 2015-05-21        NaT   \n",
       "2  10000130121     51502          0           0 1998-06-08        NaT   \n",
       "3  10000137397     52348          0           0 2011-03-02        NaT   \n",
       "4  10000165838     63024          0           0 1995-06-30        NaT   \n",
       "\n",
       "   DDP_IDENTI   DDP_NUMRUC  DDP_TAMANO  DDP_TPOEMP  DDP_UBIGEO  \\\n",
       "0           1  10000020040           3           1      250101   \n",
       "1           1  10000035012           3           1      250101   \n",
       "2           1  10000130121           3           2      250101   \n",
       "3           1  10000137397           3           2      150136   \n",
       "4           1  10000165838           3           2      250101   \n",
       "\n",
       "                              DESC_CIIU DESC_ESTADO ESHABIDO  \\\n",
       "0             ACTIVIDADES INMOBILIARIAS      ACTIVO   HABIDO   \n",
       "1             ACTIVIDADES INMOBILIARIAS      ACTIVO   HABIDO   \n",
       "2  VTA. MAY. MAQUINARIA EQUIPO Y MATER.      ACTIVO   HABIDO   \n",
       "3    VTA. MIN. ARTICULOS DE FERRETERIA.      ACTIVO   HABIDO   \n",
       "4             ALMACENAMIENTO Y DEPOSITO      ACTIVO   HABIDO   \n",
       "\n",
       "                         DESC_TPOEMP DDS_ASIENT DDS_CALIFI DDS_CIERRE  \\\n",
       "0           PERSONA NATURAL SIN EMP.      -             -          -    \n",
       "1           PERSONA NATURAL SIN EMP.      -             -          -    \n",
       "2  PERSONA NATURAL CON EMP. UNIPERS.      -             -          99   \n",
       "3  PERSONA NATURAL CON EMP. UNIPERS.      -             -          99   \n",
       "4  PERSONA NATURAL CON EMP. UNIPERS.      -             -          99   \n",
       "\n",
       "  DDS_COMEXT DDS_CONSTI DDS_CONTAB DDS_FICHA DDS_INICIO    DECLARA DDS_MOTBAJ  \\\n",
       "0         00        NaN         01  -        2008-08-13 2008-08-13         -    \n",
       "1         00        NaN         00  -        2015-06-01 2015-06-01         -    \n",
       "2         00        NaN         01  -        1998-06-08 1998-06-08         -    \n",
       "3         00        NaN         01  -        2011-03-02 2011-03-02         -    \n",
       "4         00        NaN         01  -        1995-07-01 1995-07-01         -    \n",
       "\n",
       "  DESC_MOTBAJ                       DESC_CIERRE  DESC_CONTAB    DESC_COMEXT  \\\n",
       "0         NaN                               NaN       MANUAL  SIN ACTIVIDAD   \n",
       "1         NaN                               NaN  SIN SISTEMA  SIN ACTIVIDAD   \n",
       "2         NaN  PROFESION U OCUPACION INDEFINIDA       MANUAL  SIN ACTIVIDAD   \n",
       "3         NaN  PROFESION U OCUPACION INDEFINIDA       MANUAL  SIN ACTIVIDAD   \n",
       "4         NaN  PROFESION U OCUPACION INDEFINIDA       MANUAL  SIN ACTIVIDAD   \n",
       "\n",
       "  COD_PAICAP COD_PAIORI IND_CONLEG DES_CONLEG  \n",
       "0       -          -            01     PROPIO  \n",
       "1       -          -            01     PROPIO  \n",
       "2       -          -            -        n.d.  \n",
       "3       -          -            02  ALQUILADO  \n",
       "4       -          -            -        n.d.  "
      ]
     },
     "execution_count": 20,
     "metadata": {},
     "output_type": "execute_result"
    }
   ],
   "source": [
    "sunat.head()"
   ]
  },
  {
   "cell_type": "code",
   "execution_count": 21,
   "id": "69f64799",
   "metadata": {},
   "outputs": [],
   "source": [
    "# Covid\n",
    "covid = pd.read_excel('./data/data_complementaria/COVID_CONVOCATORIAS_CONTRATACIONDIRECTA.xlsx')"
   ]
  },
  {
   "cell_type": "markdown",
   "id": "999511dd",
   "metadata": {},
   "source": [
    "### Preproceso"
   ]
  },
  {
   "cell_type": "code",
   "execution_count": 22,
   "id": "b1f25b5d",
   "metadata": {},
   "outputs": [],
   "source": [
    "# Convertir a minuscula\n",
    "convertir_a_minuscula(contratos)\n",
    "convertir_a_minuscula(convocatorias)\n",
    "convertir_a_minuscula(adjudicaciones)\n",
    "convertir_a_minuscula(postores)\n",
    "convertir_a_minuscula(sunat)\n",
    "convertir_a_minuscula(covid)\n",
    "\n",
    "# Agrego año de convocatoria\n",
    "agregar_anio(contratos,'fecha_suscripcion_contrato')"
   ]
  },
  {
   "cell_type": "code",
   "execution_count": 23,
   "id": "ea2a282c",
   "metadata": {},
   "outputs": [
    {
     "data": {
      "text/plain": [
       "(202077, 36)"
      ]
     },
     "execution_count": 23,
     "metadata": {},
     "output_type": "execute_result"
    }
   ],
   "source": [
    "contratos.shape"
   ]
  },
  {
   "cell_type": "code",
   "execution_count": 24,
   "id": "726da06e",
   "metadata": {},
   "outputs": [],
   "source": [
    "#data types\n",
    "contratos['ruc_entidad'] = contratos['ruc_entidad'].astype(int)"
   ]
  },
  {
   "cell_type": "markdown",
   "id": "e18501ae",
   "metadata": {},
   "source": [
    "#### Convocatorias - base anterior"
   ]
  },
  {
   "cell_type": "code",
   "execution_count": 25,
   "id": "d75e97a4",
   "metadata": {},
   "outputs": [],
   "source": [
    "# Traigo convocatorias de la base de datos abiertos para completar los datos que faltan en la nueva base\n",
    "# Conexion a BD\n",
    "import etl.etapa_1_nueva_base.credentials_newdb as credentials\n",
    "\n",
    "hostname = credentials.hostname_old\n",
    "username = credentials.username_old\n",
    "password = credentials.password_old\n",
    "database = credentials.database_old\n",
    "port = credentials.port_old\n",
    "\n",
    "# Create an engine instance\n",
    "alchemyEngine = create_engine(f'postgresql+psycopg2://{username}:{password}@{hostname}:{port}/{database}', pool_recycle=3600);\n",
    "\n",
    "dbConnection  = alchemyEngine.connect();\n",
    "\n",
    "convocatorias_old = pd.read_sql_table('convocatorias', con = dbConnection) "
   ]
  },
  {
   "cell_type": "code",
   "execution_count": 26,
   "id": "57b7b1fb",
   "metadata": {},
   "outputs": [],
   "source": [
    "# Genero un df con codigoconvocatorias y fechas\n",
    "convocatorias_old_flat = convocatorias_old[['codigoconvocatoria','fechaintegracionbases','fechapresentacionpropuesta']].drop_duplicates()\n",
    "\n",
    "# Join de data nueva con data de datos abiertos para traernos las fechas de integracion y presentacion de propuestas\n",
    "#df\n",
    "convocatorias = convocatorias.join(convocatorias_old_flat.set_index(['codigoconvocatoria']),\n",
    "             on = ['codigoconvocatoria'],\n",
    "             how = 'left')"
   ]
  },
  {
   "cell_type": "markdown",
   "id": "9c107f1b",
   "metadata": {},
   "source": [
    "#### Convocatorias"
   ]
  },
  {
   "cell_type": "code",
   "execution_count": 27,
   "id": "c1001138",
   "metadata": {},
   "outputs": [],
   "source": [
    "convocatorias_proc = convocatorias[['codigoconvocatoria','n_item',\n",
    "                                    'tipoprocesoseleccion',\n",
    "                                    'objetocontractual',\n",
    "                                    'tipo_compra',\n",
    "                                     'sector','tipoentidad',\n",
    "                                    'fechaintegracionbases',\n",
    "                                    'entidad_departamento', 'entidad_distrito', 'entidad_provincia',\n",
    "                                    'item_departamento', 'item_provincia', 'item_distrito',\n",
    "                                   'fechapresentacionpropuesta']].drop_duplicates()"
   ]
  },
  {
   "cell_type": "code",
   "execution_count": 28,
   "id": "62464133",
   "metadata": {},
   "outputs": [],
   "source": [
    "# Join con convocatoria\n",
    "contratos = contratos.join(convocatorias_proc.set_index(['codigoconvocatoria','n_item']),\n",
    "                           on = ['codigoconvocatoria','num_item'],\n",
    "                           how = 'inner')"
   ]
  },
  {
   "cell_type": "markdown",
   "id": "2c9c255a",
   "metadata": {},
   "source": [
    "#### Adjudicaciones"
   ]
  },
  {
   "cell_type": "code",
   "execution_count": 29,
   "id": "ae6e1e47",
   "metadata": {},
   "outputs": [],
   "source": [
    "# Convierto a Int todos los itemcubso\n",
    "adjudicaciones['codigogrupo'] = adjudicaciones['codigogrupo'].astype('Int64')\n",
    "adjudicaciones['codigoitem'] = adjudicaciones['codigoitem'].astype('Int64')\n",
    "adjudicaciones['codigofamilia'] = adjudicaciones['codigofamilia'].astype('Int64')\n",
    "adjudicaciones['codigoclase'] = adjudicaciones['codigoclase'].astype('Int64')\n",
    "adjudicaciones['codigocommodity'] = adjudicaciones['codigocommodity'].astype('Int64')"
   ]
  },
  {
   "cell_type": "code",
   "execution_count": 30,
   "id": "b7d85972",
   "metadata": {},
   "outputs": [],
   "source": [
    "# Funcion paraagregar 00 adelante de codigoitem para que tenga 8 caracteres de largo\n",
    "def agregar_ceros_codigoitem(codigoitem):\n",
    "    if pd.isnull(codigoitem):\n",
    "        nuevo_codigoitem = codigoitem\n",
    "    else:\n",
    "        if len(str(codigoitem)) == 1:\n",
    "            nuevo_codigoitem = str(\"0000000\") + str(codigoitem)\n",
    "        elif len(str(codigoitem)) == 2:\n",
    "            nuevo_codigoitem = str(\"000000\") + str(codigoitem)\n",
    "        elif len(str(codigoitem)) == 3:\n",
    "            nuevo_codigoitem = str(\"00000\") + str(codigoitem)\n",
    "        elif len(str(codigoitem)) == 4:\n",
    "            nuevo_codigoitem = str(\"0000\") + str(codigoitem)\n",
    "        elif len(str(codigoitem)) == 5:\n",
    "            nuevo_codigoitem = str(\"000\") + str(codigoitem)\n",
    "        elif len(str(codigoitem)) == 6:\n",
    "            nuevo_codigoitem = str(\"00\") + str(codigoitem)\n",
    "        elif len(str(codigoitem)) == 7:\n",
    "            nuevo_codigoitem = str(\"0\") + str(codigoitem)\n",
    "        else:\n",
    "            nuevo_codigoitem = str(codigoitem)\n",
    "        nuevo_codigoitem = nuevo_codigoitem[0:8]\n",
    "    return (nuevo_codigoitem)"
   ]
  },
  {
   "cell_type": "code",
   "execution_count": 31,
   "id": "298a0817",
   "metadata": {},
   "outputs": [],
   "source": [
    "# Agrego 00 adelante de codigoitem para que tenga 8 caracteres de largo\n",
    "adjudicaciones['codigoitem'] = adjudicaciones.apply(lambda x : agregar_ceros_codigoitem(x['codigoitem']) \n",
    "                                      if x['codigoitem'] is not None else x['codigoitem'], axis = 1)"
   ]
  },
  {
   "cell_type": "code",
   "execution_count": 32,
   "id": "5c57950c",
   "metadata": {},
   "outputs": [],
   "source": [
    "# Concatenar codigos items en adjudicaciones\n",
    "adjudicaciones['grupo_familia'] = adjudicaciones['codigogrupo'].astype(str) +'-'+ adjudicaciones['codigofamilia'].astype(str)\n",
    "adjudicaciones['grupo_familia_clase'] = adjudicaciones['codigogrupo'].astype(str) +'-'+ adjudicaciones['codigofamilia'].astype(str) +'-'+ adjudicaciones['codigoclase'].astype(str)\n",
    "adjudicaciones['grupo_familia_clase_commodity'] = adjudicaciones['codigogrupo'].astype(str) +'-'+ adjudicaciones['codigofamilia'].astype(str) +'-'+ adjudicaciones['codigoclase'].astype(str)+'-'+ adjudicaciones['codigocommodity'].astype(str)"
   ]
  },
  {
   "cell_type": "code",
   "execution_count": 33,
   "id": "8bf2bbd2",
   "metadata": {},
   "outputs": [],
   "source": [
    "adjudicaciones['codigoitem'] = adjudicaciones['codigoitem'].where(pd.notnull(adjudicaciones['codigoitem']),None)"
   ]
  },
  {
   "cell_type": "code",
   "execution_count": 34,
   "id": "7d8f92f5",
   "metadata": {},
   "outputs": [],
   "source": [
    "# Remove whitespaces\n",
    "adjudicaciones['codigogrupo'] = adjudicaciones['codigogrupo'].astype(str).str.strip()  # or .replace as above"
   ]
  },
  {
   "cell_type": "code",
   "execution_count": 35,
   "id": "b29b403a",
   "metadata": {},
   "outputs": [],
   "source": [
    "# convertir nan a none\n",
    "adjudicaciones.loc[adjudicaciones['grupo_familia']== '<NA>-<NA>',['grupo_familia']] = np.nan\n",
    "adjudicaciones.loc[adjudicaciones['codigogrupo'] == '<NA>',['codigogrupo']] = np.nan"
   ]
  },
  {
   "cell_type": "code",
   "execution_count": 36,
   "id": "f6afb0ba",
   "metadata": {},
   "outputs": [],
   "source": [
    "# Agrego fechas de buena pro a contratos\n",
    "adjudicaciones_proc = adjudicaciones[['codigoconvocatoria','n_item','ruc_codigo_ganador','fecha_buenapro','fecha_consentimiento_bp']].drop_duplicates()\n",
    "contratos = contratos.join(adjudicaciones_proc.set_index(['codigoconvocatoria','n_item','ruc_codigo_ganador']),\n",
    "                           on = ['codigoconvocatoria','num_item','ruc_codigo_ganador'],\n",
    "                           how = 'left')"
   ]
  },
  {
   "cell_type": "markdown",
   "id": "85ef4679",
   "metadata": {},
   "source": [
    "### Sunat"
   ]
  },
  {
   "cell_type": "code",
   "execution_count": 37,
   "id": "e3512c6d",
   "metadata": {},
   "outputs": [],
   "source": [
    "# data type\n",
    "sunat['ruc'] = sunat['ruc'].astype(str)"
   ]
  },
  {
   "cell_type": "code",
   "execution_count": 38,
   "id": "3b36abc4",
   "metadata": {},
   "outputs": [],
   "source": [
    "# Agrego prefijo a nombre de columnas\n",
    "sunat = sunat.add_prefix('sunat_')"
   ]
  },
  {
   "cell_type": "code",
   "execution_count": 39,
   "id": "fc0d8602",
   "metadata": {},
   "outputs": [],
   "source": [
    "# Reemplazo '-' por nan\n",
    "cols = sunat.select_dtypes(include = [object]).columns\n",
    "sunat[cols] = sunat[cols].astype(str).apply(lambda x: x.str.strip())\n",
    "sunat = sunat.replace('-',np.nan)"
   ]
  },
  {
   "cell_type": "markdown",
   "id": "c193b5c8",
   "metadata": {},
   "source": [
    "#### Covid"
   ]
  },
  {
   "cell_type": "code",
   "execution_count": 40,
   "id": "8cf2c0b6",
   "metadata": {},
   "outputs": [],
   "source": [
    "covid['convocatoria_covid'] = 1"
   ]
  },
  {
   "cell_type": "markdown",
   "id": "6ebb3d71",
   "metadata": {},
   "source": [
    "#### Contratos"
   ]
  },
  {
   "cell_type": "code",
   "execution_count": 41,
   "id": "00c291b7",
   "metadata": {},
   "outputs": [
    {
     "data": {
      "text/plain": [
       "(201560, 51)"
      ]
     },
     "execution_count": 41,
     "metadata": {},
     "output_type": "execute_result"
    }
   ],
   "source": [
    "contratos.shape"
   ]
  },
  {
   "cell_type": "code",
   "execution_count": 42,
   "id": "92eb9a35",
   "metadata": {},
   "outputs": [],
   "source": [
    "# Agrego anio de convocatoria\n",
    "contratos['anio_convocatoria'] = contratos['fechaconvocatoria'].dt.year.astype(int)"
   ]
  },
  {
   "cell_type": "code",
   "execution_count": 43,
   "id": "d591ceb9",
   "metadata": {},
   "outputs": [],
   "source": [
    "# Agrego codigos itemcubso a contratos\n",
    "adjudicaciones_proc = adjudicaciones[['codigoconvocatoria','n_item','codigogrupo','grupo_familia','codigoitem']].drop_duplicates()\n",
    "\n",
    "contratos = contratos.join(adjudicaciones_proc.set_index(['codigoconvocatoria','n_item']), \n",
    "               on = ['codigoconvocatoria','num_item'],\n",
    "              how = 'left')"
   ]
  },
  {
   "cell_type": "code",
   "execution_count": 44,
   "id": "76cdca59",
   "metadata": {},
   "outputs": [],
   "source": [
    "# Agrego tipo de proveedor\n",
    "tipoprov_proc = adjudicaciones[['codigoconvocatoria','ruc_codigo_ganador','tipo_proveedor']].drop_duplicates()\n",
    "\n",
    "contratos = contratos.join(tipoprov_proc.set_index(['codigoconvocatoria','ruc_codigo_ganador']), \n",
    "               on = ['codigoconvocatoria','ruc_codigo_ganador'],\n",
    "              how = 'left')"
   ]
  },
  {
   "cell_type": "code",
   "execution_count": 45,
   "id": "985f9175",
   "metadata": {},
   "outputs": [
    {
     "data": {
      "text/plain": [
       "(201560, 56)"
      ]
     },
     "execution_count": 45,
     "metadata": {},
     "output_type": "execute_result"
    }
   ],
   "source": [
    "contratos.shape"
   ]
  },
  {
   "cell_type": "markdown",
   "id": "7d94de0f",
   "metadata": {},
   "source": [
    "### Universo: Filtros"
   ]
  },
  {
   "cell_type": "code",
   "execution_count": 46,
   "id": "840ce2e4",
   "metadata": {},
   "outputs": [],
   "source": [
    "# Lista procesos seleccionados \n",
    "tipoprocesos = ['Adjudicación Simplificada', \n",
    "                'Contratación Directa', \n",
    "                'Subasta Inversa Electrónica',\n",
    "                'Licitación Pública',\n",
    "                'Comparación de Precios', \n",
    "                'Concurso Público']"
   ]
  },
  {
   "cell_type": "code",
   "execution_count": 47,
   "id": "c19a74f0",
   "metadata": {},
   "outputs": [],
   "source": [
    "# Procesos\n",
    "contratos = contratos.loc[contratos['tipoprocesoseleccion'].isin(tipoprocesos)]"
   ]
  },
  {
   "cell_type": "code",
   "execution_count": 48,
   "id": "cb97d70c",
   "metadata": {},
   "outputs": [],
   "source": [
    "# Objeto contractual\n",
    "contratos = contratos.loc[contratos['objetocontractual'] == 'Bien']"
   ]
  },
  {
   "cell_type": "code",
   "execution_count": 49,
   "id": "fbf6c081",
   "metadata": {},
   "outputs": [],
   "source": [
    "# Sacamos año 2020 porque no tiene casos de sobrecostos\n",
    "#contratos = contratos.loc[contratos['anio_convocatoria']!= 2020]"
   ]
  },
  {
   "cell_type": "code",
   "execution_count": 50,
   "id": "05f38b1e",
   "metadata": {},
   "outputs": [],
   "source": [
    "# Sacamos año 2021 porque tiene pocos sobrecostos - issue 26\n",
    "#contratos = contratos.loc[contratos['anio_convocatoria']!= 2021]"
   ]
  },
  {
   "cell_type": "code",
   "execution_count": 51,
   "id": "ed47afbf",
   "metadata": {},
   "outputs": [
    {
     "data": {
      "text/plain": [
       "(119025, 56)"
      ]
     },
     "execution_count": 51,
     "metadata": {},
     "output_type": "execute_result"
    }
   ],
   "source": [
    "contratos.shape"
   ]
  },
  {
   "cell_type": "markdown",
   "id": "13207baf",
   "metadata": {},
   "source": [
    "### Generacion de \"Y\""
   ]
  },
  {
   "cell_type": "markdown",
   "id": "963686da",
   "metadata": {},
   "source": [
    "#### Sobrecostos"
   ]
  },
  {
   "cell_type": "code",
   "execution_count": 52,
   "id": "24740329",
   "metadata": {},
   "outputs": [
    {
     "name": "stdout",
     "output_type": "stream",
     "text": [
      "Cantidad de observaciones = 119025\n",
      "Cantidad de nulls en monto adicional = 11833 - 10.0%\n",
      "Cantidad de nulls en monto reduccion = 11875 - 10.0%\n",
      "Cantidad de nulls en monto prorroga = 11915 - 10.0%\n",
      "Cantidad de nulls en monto complementario = 11898 - 10.0%\n"
     ]
    }
   ],
   "source": [
    "# Check nulls\n",
    "total_obs = contratos.shape[0]\n",
    "nulls_ad = contratos[\"monto_adicional\"].isnull().sum()\n",
    "nulls_red = contratos[\"monto_reduccion\"].isnull().sum()\n",
    "nulls_pro = contratos[\"monto_prorroga\"].isnull().sum()\n",
    "nulls_com = contratos[\"monto_complementario\"].isnull().sum()\n",
    "\n",
    "print(f'Cantidad de observaciones = {contratos.shape[0]}')\n",
    "\n",
    "print(f'Cantidad de nulls en monto adicional = {nulls_ad} - {round(nulls_ad/total_obs,2) * 100}%')\n",
    "print(f'Cantidad de nulls en monto reduccion = {nulls_red} - {round(nulls_red/total_obs,2) * 100}%')\n",
    "print(f'Cantidad de nulls en monto prorroga = {nulls_pro} - {round(nulls_pro/total_obs,2) * 100}%')\n",
    "print(f'Cantidad de nulls en monto complementario = {nulls_com} - {round(nulls_com/total_obs,2) * 100}%')"
   ]
  },
  {
   "cell_type": "code",
   "execution_count": 53,
   "id": "915bb6d5",
   "metadata": {},
   "outputs": [
    {
     "name": "stdout",
     "output_type": "stream",
     "text": [
      "Cantidad de contratos unicos = 84974\n",
      "Cantidad de nulls en monto adicional = 11184 - 13.0%\n",
      "Cantidad de nulls en monto reduccion = 11222 - 13.0%\n",
      "Cantidad de nulls en monto prorroga = 11256 - 13.0%\n",
      "Cantidad de nulls en monto complementario = 11239 - 13.0%\n"
     ]
    }
   ],
   "source": [
    "# Check nulls a nivel contrato\n",
    "contratos_c = contratos.drop_duplicates('codigo_contrato')\n",
    "total_obs = contratos_c.shape[0]\n",
    "nulls_ad = contratos_c[\"monto_adicional\"].isnull().sum()\n",
    "nulls_red = contratos_c[\"monto_reduccion\"].isnull().sum()\n",
    "nulls_pro = contratos_c[\"monto_prorroga\"].isnull().sum()\n",
    "nulls_com = contratos_c[\"monto_complementario\"].isnull().sum()\n",
    "\n",
    "print(f'Cantidad de contratos unicos = {contratos_c.shape[0]}')\n",
    "\n",
    "print(f'Cantidad de nulls en monto adicional = {nulls_ad} - {round(nulls_ad/total_obs,2) * 100}%')\n",
    "print(f'Cantidad de nulls en monto reduccion = {nulls_red} - {round(nulls_red/total_obs,2) * 100}%')\n",
    "print(f'Cantidad de nulls en monto prorroga = {nulls_pro} - {round(nulls_pro/total_obs,2) * 100}%')\n",
    "print(f'Cantidad de nulls en monto complementario = {nulls_com} - {round(nulls_com/total_obs,2) * 100}%')"
   ]
  },
  {
   "cell_type": "code",
   "execution_count": 54,
   "id": "58afb830",
   "metadata": {},
   "outputs": [],
   "source": [
    "# Nulls por año\n",
    "x = contratos_c[['anio_convocatoria','monto_adicional','monto_reduccion','monto_prorroga','monto_complementario']]\n",
    "x_na = x[x.isna().any(axis=1)]\n",
    "x_na = x_na.fillna('NULL')"
   ]
  },
  {
   "cell_type": "code",
   "execution_count": 55,
   "id": "3b18635e",
   "metadata": {
    "scrolled": true
   },
   "outputs": [
    {
     "data": {
      "text/html": [
       "<div>\n",
       "<style scoped>\n",
       "    .dataframe tbody tr th:only-of-type {\n",
       "        vertical-align: middle;\n",
       "    }\n",
       "\n",
       "    .dataframe tbody tr th {\n",
       "        vertical-align: top;\n",
       "    }\n",
       "\n",
       "    .dataframe thead th {\n",
       "        text-align: right;\n",
       "    }\n",
       "</style>\n",
       "<table border=\"1\" class=\"dataframe\">\n",
       "  <thead>\n",
       "    <tr style=\"text-align: right;\">\n",
       "      <th></th>\n",
       "      <th>monto_adicional</th>\n",
       "      <th>monto_reduccion</th>\n",
       "      <th>monto_prorroga</th>\n",
       "      <th>monto_complementario</th>\n",
       "    </tr>\n",
       "    <tr>\n",
       "      <th>anio_convocatoria</th>\n",
       "      <th></th>\n",
       "      <th></th>\n",
       "      <th></th>\n",
       "      <th></th>\n",
       "    </tr>\n",
       "  </thead>\n",
       "  <tbody>\n",
       "    <tr>\n",
       "      <th>2021</th>\n",
       "      <td>11256</td>\n",
       "      <td>11256</td>\n",
       "      <td>11256</td>\n",
       "      <td>11256</td>\n",
       "    </tr>\n",
       "  </tbody>\n",
       "</table>\n",
       "</div>"
      ],
      "text/plain": [
       "                   monto_adicional  monto_reduccion  monto_prorroga  \\\n",
       "anio_convocatoria                                                     \n",
       "2021                         11256            11256           11256   \n",
       "\n",
       "                   monto_complementario  \n",
       "anio_convocatoria                        \n",
       "2021                              11256  "
      ]
     },
     "execution_count": 55,
     "metadata": {},
     "output_type": "execute_result"
    }
   ],
   "source": [
    "x_na.groupby('anio_convocatoria', dropna=False).count()"
   ]
  },
  {
   "cell_type": "code",
   "execution_count": 56,
   "id": "3d99c3fd",
   "metadata": {},
   "outputs": [
    {
     "data": {
      "text/html": [
       "<div>\n",
       "<style scoped>\n",
       "    .dataframe tbody tr th:only-of-type {\n",
       "        vertical-align: middle;\n",
       "    }\n",
       "\n",
       "    .dataframe tbody tr th {\n",
       "        vertical-align: top;\n",
       "    }\n",
       "\n",
       "    .dataframe thead th {\n",
       "        text-align: right;\n",
       "    }\n",
       "</style>\n",
       "<table border=\"1\" class=\"dataframe\">\n",
       "  <thead>\n",
       "    <tr style=\"text-align: right;\">\n",
       "      <th></th>\n",
       "      <th>cantidad_m_adicional_mayor_a_0</th>\n",
       "      <th>cantidad_m_reduccion_mayor_a_0</th>\n",
       "      <th>cantidad_m_prorroga_mayor_a_0</th>\n",
       "      <th>cantidad_m_complementario_mayor_a_0</th>\n",
       "    </tr>\n",
       "    <tr>\n",
       "      <th>anio_convocatoria</th>\n",
       "      <th></th>\n",
       "      <th></th>\n",
       "      <th></th>\n",
       "      <th></th>\n",
       "    </tr>\n",
       "  </thead>\n",
       "  <tbody>\n",
       "    <tr>\n",
       "      <th>2018</th>\n",
       "      <td>1024</td>\n",
       "      <td>311</td>\n",
       "      <td>0</td>\n",
       "      <td>682</td>\n",
       "    </tr>\n",
       "    <tr>\n",
       "      <th>2019</th>\n",
       "      <td>662</td>\n",
       "      <td>216</td>\n",
       "      <td>0</td>\n",
       "      <td>386</td>\n",
       "    </tr>\n",
       "    <tr>\n",
       "      <th>2020</th>\n",
       "      <td>9</td>\n",
       "      <td>9</td>\n",
       "      <td>0</td>\n",
       "      <td>0</td>\n",
       "    </tr>\n",
       "    <tr>\n",
       "      <th>2021</th>\n",
       "      <td>72</td>\n",
       "      <td>33</td>\n",
       "      <td>0</td>\n",
       "      <td>17</td>\n",
       "    </tr>\n",
       "  </tbody>\n",
       "</table>\n",
       "</div>"
      ],
      "text/plain": [
       "                   cantidad_m_adicional_mayor_a_0  \\\n",
       "anio_convocatoria                                   \n",
       "2018                                         1024   \n",
       "2019                                          662   \n",
       "2020                                            9   \n",
       "2021                                           72   \n",
       "\n",
       "                   cantidad_m_reduccion_mayor_a_0  \\\n",
       "anio_convocatoria                                   \n",
       "2018                                          311   \n",
       "2019                                          216   \n",
       "2020                                            9   \n",
       "2021                                           33   \n",
       "\n",
       "                   cantidad_m_prorroga_mayor_a_0  \\\n",
       "anio_convocatoria                                  \n",
       "2018                                           0   \n",
       "2019                                           0   \n",
       "2020                                           0   \n",
       "2021                                           0   \n",
       "\n",
       "                   cantidad_m_complementario_mayor_a_0  \n",
       "anio_convocatoria                                       \n",
       "2018                                               682  \n",
       "2019                                               386  \n",
       "2020                                                 0  \n",
       "2021                                                17  "
      ]
     },
     "execution_count": 56,
     "metadata": {},
     "output_type": "execute_result"
    }
   ],
   "source": [
    "# PARA VERLO SACAR FILTRO 2020!!!!!!!!!!!!!!\n",
    "\n",
    "# Analisis de cantidad de contratos que tuvieron sobrecostos\n",
    "# Cantidad de contratos con monto adicional > 0 por año\n",
    "ma = contratos_c.loc[contratos_c[\"monto_adicional\"] > 0].groupby('anio_convocatoria').count()[['index']].rename(columns = {'index':'cantidad_m_adicional_mayor_a_0'})\n",
    "# Cantidad de contratos con monto reduccion > 0 por año\n",
    "mr = contratos_c.loc[contratos_c[\"monto_reduccion\"] > 0].groupby('anio_convocatoria').count()[['index']].rename(columns = {'index':'cantidad_m_reduccion_mayor_a_0'})\n",
    "# Cantidad de contratos con monto prorroga > 0 por año\n",
    "mp = contratos_c.loc[contratos_c[\"monto_prorroga\"] > 0].groupby('anio_convocatoria').count()[['index']].rename(columns = {'index':'cantidad_m_prorroga_mayor_a_0'})\n",
    "# Cantidad de contratos con monto complementario > 0 por año\n",
    "mc = contratos_c.loc[contratos_c[\"monto_complementario\"] > 0].groupby('anio_convocatoria').count()[['index']].rename(columns = {'index':'cantidad_m_complementario_mayor_a_0'})\n",
    "z = ma.join(mr).join(mp).join(mc)\n",
    "z = z.fillna(0)\n",
    "z"
   ]
  },
  {
   "cell_type": "code",
   "execution_count": 57,
   "id": "153c13ba",
   "metadata": {},
   "outputs": [
    {
     "data": {
      "text/html": [
       "<div>\n",
       "<style scoped>\n",
       "    .dataframe tbody tr th:only-of-type {\n",
       "        vertical-align: middle;\n",
       "    }\n",
       "\n",
       "    .dataframe tbody tr th {\n",
       "        vertical-align: top;\n",
       "    }\n",
       "\n",
       "    .dataframe thead th {\n",
       "        text-align: right;\n",
       "    }\n",
       "</style>\n",
       "<table border=\"1\" class=\"dataframe\">\n",
       "  <thead>\n",
       "    <tr style=\"text-align: right;\">\n",
       "      <th></th>\n",
       "      <th>cantidad_contratos</th>\n",
       "    </tr>\n",
       "    <tr>\n",
       "      <th>anio_convocatoria</th>\n",
       "      <th></th>\n",
       "    </tr>\n",
       "  </thead>\n",
       "  <tbody>\n",
       "    <tr>\n",
       "      <th>2018</th>\n",
       "      <td>31022</td>\n",
       "    </tr>\n",
       "    <tr>\n",
       "      <th>2019</th>\n",
       "      <td>32380</td>\n",
       "    </tr>\n",
       "    <tr>\n",
       "      <th>2020</th>\n",
       "      <td>10316</td>\n",
       "    </tr>\n",
       "    <tr>\n",
       "      <th>2021</th>\n",
       "      <td>11256</td>\n",
       "    </tr>\n",
       "  </tbody>\n",
       "</table>\n",
       "</div>"
      ],
      "text/plain": [
       "                   cantidad_contratos\n",
       "anio_convocatoria                    \n",
       "2018                            31022\n",
       "2019                            32380\n",
       "2020                            10316\n",
       "2021                            11256"
      ]
     },
     "execution_count": 57,
     "metadata": {},
     "output_type": "execute_result"
    }
   ],
   "source": [
    "# Cantidad de contratos con monto adicional > 0 por año\n",
    "cc = contratos_c.groupby('anio_convocatoria').count()[['index']].rename(columns = {'index':'cantidad_contratos'})\n",
    "cc=cc.fillna(0)\n",
    "cc"
   ]
  },
  {
   "cell_type": "code",
   "execution_count": 58,
   "id": "57febf2e",
   "metadata": {},
   "outputs": [],
   "source": [
    "# Son de 2021\n",
    "#contratos.loc[contratos[\"monto_reduccion\"].isna()].groupby('anio').count()[['index']]\n",
    "#contratos.loc[contratos[\"monto_adicional\"].isna()].groupby('anio').count()[['index']]\n",
    "#contratos.loc[contratos[\"monto_prorroga\"].isna()].groupby('anio').count()[['index']]\n",
    "#contratos.loc[contratos[\"monto_complementario\"].isna()].groupby('anio').count()[['index']]"
   ]
  },
  {
   "cell_type": "code",
   "execution_count": 59,
   "id": "3a22f7a2",
   "metadata": {},
   "outputs": [],
   "source": [
    "# Nan a 0\n",
    "contratos['monto_adicional'].fillna(0, inplace = True)\n",
    "contratos['monto_reduccion'].fillna(0, inplace = True)\n",
    "contratos['monto_prorroga'].fillna(0, inplace = True)\n",
    "contratos['monto_complementario'].fillna(0, inplace = True)"
   ]
  },
  {
   "cell_type": "code",
   "execution_count": 60,
   "id": "bc32ac57",
   "metadata": {},
   "outputs": [],
   "source": [
    "# Genero Y sobrecostos: \n",
    "#Si tuvo adicional o complementario o prorroga - sin considerar reducción - \n",
    "contratos['Y_sobrecostos'] = contratos.apply(lambda x: 1 if (x['monto_adicional']>0) or \\\n",
    "                                             (x['monto_prorroga']>0) or\\\n",
    "                                             #(x['monto_reduccion']>0) or\\\n",
    "                                             (x['monto_complementario']>0) else 0, axis = 1)"
   ]
  },
  {
   "cell_type": "code",
   "execution_count": 61,
   "id": "338237b5",
   "metadata": {},
   "outputs": [
    {
     "data": {
      "text/html": [
       "<div>\n",
       "<style scoped>\n",
       "    .dataframe tbody tr th:only-of-type {\n",
       "        vertical-align: middle;\n",
       "    }\n",
       "\n",
       "    .dataframe tbody tr th {\n",
       "        vertical-align: top;\n",
       "    }\n",
       "\n",
       "    .dataframe thead th {\n",
       "        text-align: right;\n",
       "    }\n",
       "</style>\n",
       "<table border=\"1\" class=\"dataframe\">\n",
       "  <thead>\n",
       "    <tr style=\"text-align: right;\">\n",
       "      <th></th>\n",
       "      <th>Y_sobrecostos</th>\n",
       "      <th>codigo_contrato</th>\n",
       "      <th>%</th>\n",
       "    </tr>\n",
       "  </thead>\n",
       "  <tbody>\n",
       "    <tr>\n",
       "      <th>0</th>\n",
       "      <td>0</td>\n",
       "      <td>82370</td>\n",
       "      <td>97</td>\n",
       "    </tr>\n",
       "    <tr>\n",
       "      <th>1</th>\n",
       "      <td>1</td>\n",
       "      <td>2604</td>\n",
       "      <td>3</td>\n",
       "    </tr>\n",
       "    <tr>\n",
       "      <th>2</th>\n",
       "      <td>total</td>\n",
       "      <td>84974</td>\n",
       "      <td>100</td>\n",
       "    </tr>\n",
       "  </tbody>\n",
       "</table>\n",
       "</div>"
      ],
      "text/plain": [
       "  Y_sobrecostos  codigo_contrato   %\n",
       "0             0            82370  97\n",
       "1             1             2604   3\n",
       "2         total            84974 100"
      ]
     },
     "execution_count": 61,
     "metadata": {},
     "output_type": "execute_result"
    }
   ],
   "source": [
    "# Cantidad de 1 en Y\n",
    "#Si tuvo adicional o complementario o prorroga - sin considerar reducción - \n",
    "contratos_dedup = contratos[['codigo_contrato','Y_sobrecostos']].drop_duplicates()\n",
    "resumen = contratos_dedup.groupby(\"Y_sobrecostos\",as_index = False).count()[[\"Y_sobrecostos\",'codigo_contrato']]\n",
    "resumen = resumen.append(resumen.sum(), ignore_index=True)\n",
    "resumen.iloc[2,0] = 'total'\n",
    "total = resumen.iloc[2,1]\n",
    "resumen['%'] = resumen['codigo_contrato'] * 1.00 / (total * 1.00) * 100\n",
    "resumen"
   ]
  },
  {
   "cell_type": "code",
   "execution_count": 62,
   "id": "776646f1",
   "metadata": {},
   "outputs": [],
   "source": [
    "# Genero Y sobrecostos: \n",
    "# Sumatoria de adicional + prorroga + complementario - reduccion\n",
    "contratos['Y_sobrecostos_suma'] = contratos.apply(lambda x: 1 if (x['monto_adicional'] + x['monto_prorroga'] + x['monto_complementario'] - x['monto_reduccion'])\n",
    "                                else 0, axis = 1)"
   ]
  },
  {
   "cell_type": "code",
   "execution_count": 63,
   "id": "52bb1b7f",
   "metadata": {},
   "outputs": [],
   "source": [
    "# Genero Y sobrecostos: \n",
    "#contratos['Y_sobrecostos_suma'] = contratos['monto_adicional'] + contratos['monto_prorroga'] + contratos['monto_complementario'] - contratos['monto_reduccion']"
   ]
  },
  {
   "cell_type": "code",
   "execution_count": 64,
   "id": "31497cc5",
   "metadata": {},
   "outputs": [],
   "source": [
    "# Genero Y sobrecostos binaria para ver cantidad de casos: \n",
    "contratos['Y_sobrecostos_suma_binaria'] = contratos.apply(lambda x: 1 if (x['Y_sobrecostos_suma']>0)\n",
    "                                else 0, axis = 1)"
   ]
  },
  {
   "cell_type": "code",
   "execution_count": 65,
   "id": "09234125",
   "metadata": {},
   "outputs": [
    {
     "data": {
      "text/html": [
       "<div>\n",
       "<style scoped>\n",
       "    .dataframe tbody tr th:only-of-type {\n",
       "        vertical-align: middle;\n",
       "    }\n",
       "\n",
       "    .dataframe tbody tr th {\n",
       "        vertical-align: top;\n",
       "    }\n",
       "\n",
       "    .dataframe thead th {\n",
       "        text-align: right;\n",
       "    }\n",
       "</style>\n",
       "<table border=\"1\" class=\"dataframe\">\n",
       "  <thead>\n",
       "    <tr style=\"text-align: right;\">\n",
       "      <th></th>\n",
       "      <th>Y_sobrecostos_suma_binaria</th>\n",
       "      <th>codigo_contrato</th>\n",
       "      <th>%</th>\n",
       "    </tr>\n",
       "  </thead>\n",
       "  <tbody>\n",
       "    <tr>\n",
       "      <th>0</th>\n",
       "      <td>0</td>\n",
       "      <td>81858</td>\n",
       "      <td>96</td>\n",
       "    </tr>\n",
       "    <tr>\n",
       "      <th>1</th>\n",
       "      <td>1</td>\n",
       "      <td>3117</td>\n",
       "      <td>4</td>\n",
       "    </tr>\n",
       "    <tr>\n",
       "      <th>2</th>\n",
       "      <td>total</td>\n",
       "      <td>84975</td>\n",
       "      <td>100</td>\n",
       "    </tr>\n",
       "  </tbody>\n",
       "</table>\n",
       "</div>"
      ],
      "text/plain": [
       "  Y_sobrecostos_suma_binaria  codigo_contrato   %\n",
       "0                          0            81858  96\n",
       "1                          1             3117   4\n",
       "2                      total            84975 100"
      ]
     },
     "execution_count": 65,
     "metadata": {},
     "output_type": "execute_result"
    }
   ],
   "source": [
    "# Cantidad de 1 en Y sobrecostos suma\n",
    "# adicional + prorroga + complementario - reduccion\n",
    "contratos_dedup = contratos[['codigo_contrato','Y_sobrecostos_suma_binaria']].drop_duplicates()\n",
    "resumen = contratos_dedup.groupby(\"Y_sobrecostos_suma_binaria\",as_index = False).count()[[\"Y_sobrecostos_suma_binaria\",'codigo_contrato']]\n",
    "resumen = resumen.append(resumen.sum(), ignore_index=True)\n",
    "resumen.iloc[2,0] = 'total'\n",
    "total = resumen.iloc[2,1]\n",
    "resumen['%'] = resumen['codigo_contrato'] * 1.00 / (total * 1.00) * 100\n",
    "resumen"
   ]
  },
  {
   "cell_type": "markdown",
   "id": "25ab2074",
   "metadata": {},
   "source": [
    "#### Sobretiempos"
   ]
  },
  {
   "cell_type": "code",
   "execution_count": 66,
   "id": "ecd0ce16",
   "metadata": {},
   "outputs": [
    {
     "name": "stdout",
     "output_type": "stream",
     "text": [
      "Cantidad de observaciones = 119025\n",
      "Cantidad de nulls en fecha_vigencia_final = 0 - 0.0%\n",
      "Cantidad de nulls en fecha_vigencia_fin_actualizada = 1 - 0.0%\n"
     ]
    }
   ],
   "source": [
    "# Si hay contratos en 1900, cambiar a null\n",
    "contratos.loc[contratos[\"fecha_vigencia_final\"].dt.year == 1900] = np.nan\n",
    "contratos.loc[contratos[\"fecha_vigencia_fin_actualizada\"].dt.year == 1900] = np.nan\n",
    "\n",
    "# Cantidad nulls\n",
    "nulls_fin = contratos[\"fecha_vigencia_final\"].isnull().sum()\n",
    "nulls_fin_act = contratos[\"fecha_vigencia_fin_actualizada\"].isnull().sum()\n",
    "\n",
    "print(f'Cantidad de observaciones = {contratos.shape[0]}')\n",
    "\n",
    "print(f'Cantidad de nulls en fecha_vigencia_final = {nulls_fin} - {round(nulls_fin/total_obs,2) * 100}%')\n",
    "print(f'Cantidad de nulls en fecha_vigencia_fin_actualizada = {nulls_fin_act} - {round(nulls_fin_act/total_obs,2) * 100}%')"
   ]
  },
  {
   "cell_type": "code",
   "execution_count": 67,
   "id": "4a389a43",
   "metadata": {},
   "outputs": [],
   "source": [
    "# Drop observacion null\n",
    "contratos = contratos[contratos['fecha_vigencia_fin_actualizada'].notna()]"
   ]
  },
  {
   "cell_type": "code",
   "execution_count": 68,
   "id": "3e5368ac",
   "metadata": {},
   "outputs": [],
   "source": [
    "# Genero diferencia de fechas\n",
    "contratos['dif_fin_actualizada'] = contratos['fecha_vigencia_fin_actualizada'] - contratos['fecha_vigencia_final']"
   ]
  },
  {
   "cell_type": "code",
   "execution_count": 69,
   "id": "04e76e1b",
   "metadata": {},
   "outputs": [
    {
     "data": {
      "text/html": [
       "<div>\n",
       "<style scoped>\n",
       "    .dataframe tbody tr th:only-of-type {\n",
       "        vertical-align: middle;\n",
       "    }\n",
       "\n",
       "    .dataframe tbody tr th {\n",
       "        vertical-align: top;\n",
       "    }\n",
       "\n",
       "    .dataframe thead th {\n",
       "        text-align: right;\n",
       "    }\n",
       "</style>\n",
       "<table border=\"1\" class=\"dataframe\">\n",
       "  <thead>\n",
       "    <tr style=\"text-align: right;\">\n",
       "      <th></th>\n",
       "      <th>fecha_vigencia_final</th>\n",
       "      <th>fecha_vigencia_fin_actualizada</th>\n",
       "      <th>dif_fin_actualizada</th>\n",
       "    </tr>\n",
       "  </thead>\n",
       "  <tbody>\n",
       "    <tr>\n",
       "      <th>74838</th>\n",
       "      <td>2019-04-30 00:00:00</td>\n",
       "      <td>2020-11-20 00:00:00</td>\n",
       "      <td>570 days</td>\n",
       "    </tr>\n",
       "    <tr>\n",
       "      <th>110509</th>\n",
       "      <td>2020-06-01 00:00:00</td>\n",
       "      <td>2021-12-31 00:00:00</td>\n",
       "      <td>578 days</td>\n",
       "    </tr>\n",
       "    <tr>\n",
       "      <th>30312</th>\n",
       "      <td>2019-02-08 00:00:00</td>\n",
       "      <td>2020-10-09 00:00:00</td>\n",
       "      <td>609 days</td>\n",
       "    </tr>\n",
       "    <tr>\n",
       "      <th>13217</th>\n",
       "      <td>2018-05-16 10:00:00</td>\n",
       "      <td>2020-04-23 10:00:00</td>\n",
       "      <td>708 days</td>\n",
       "    </tr>\n",
       "    <tr>\n",
       "      <th>104391</th>\n",
       "      <td>2020-07-02 00:00:00</td>\n",
       "      <td>2022-12-31 00:00:00</td>\n",
       "      <td>912 days</td>\n",
       "    </tr>\n",
       "  </tbody>\n",
       "</table>\n",
       "</div>"
      ],
      "text/plain": [
       "       fecha_vigencia_final fecha_vigencia_fin_actualizada dif_fin_actualizada\n",
       "74838   2019-04-30 00:00:00            2020-11-20 00:00:00            570 days\n",
       "110509  2020-06-01 00:00:00            2021-12-31 00:00:00            578 days\n",
       "30312   2019-02-08 00:00:00            2020-10-09 00:00:00            609 days\n",
       "13217   2018-05-16 10:00:00            2020-04-23 10:00:00            708 days\n",
       "104391  2020-07-02 00:00:00            2022-12-31 00:00:00            912 days"
      ]
     },
     "execution_count": 69,
     "metadata": {},
     "output_type": "execute_result"
    }
   ],
   "source": [
    "contratos[['fecha_vigencia_final','fecha_vigencia_fin_actualizada','dif_fin_actualizada']]\\\n",
    ".sort_values(by='dif_fin_actualizada').tail()"
   ]
  },
  {
   "cell_type": "code",
   "execution_count": 70,
   "id": "78a20398",
   "metadata": {},
   "outputs": [],
   "source": [
    "# Genero Y sobretiempos\n",
    "contratos['Y_sobretiempos'] = contratos.apply(lambda x: 1 if x['dif_fin_actualizada'].days > 0 else 0, axis = 1)"
   ]
  },
  {
   "cell_type": "code",
   "execution_count": 71,
   "id": "8cbed014",
   "metadata": {},
   "outputs": [
    {
     "data": {
      "text/html": [
       "<div>\n",
       "<style scoped>\n",
       "    .dataframe tbody tr th:only-of-type {\n",
       "        vertical-align: middle;\n",
       "    }\n",
       "\n",
       "    .dataframe tbody tr th {\n",
       "        vertical-align: top;\n",
       "    }\n",
       "\n",
       "    .dataframe thead th {\n",
       "        text-align: right;\n",
       "    }\n",
       "</style>\n",
       "<table border=\"1\" class=\"dataframe\">\n",
       "  <thead>\n",
       "    <tr style=\"text-align: right;\">\n",
       "      <th></th>\n",
       "      <th>fecha_vigencia_final</th>\n",
       "      <th>fecha_vigencia_fin_actualizada</th>\n",
       "      <th>dif_fin_actualizada</th>\n",
       "      <th>Y_sobretiempos</th>\n",
       "    </tr>\n",
       "  </thead>\n",
       "  <tbody>\n",
       "    <tr>\n",
       "      <th>48978</th>\n",
       "      <td>2018-11-30</td>\n",
       "      <td>2018-11-30</td>\n",
       "      <td>0 days</td>\n",
       "      <td>0</td>\n",
       "    </tr>\n",
       "  </tbody>\n",
       "</table>\n",
       "</div>"
      ],
      "text/plain": [
       "      fecha_vigencia_final fecha_vigencia_fin_actualizada dif_fin_actualizada  \\\n",
       "48978           2018-11-30                     2018-11-30              0 days   \n",
       "\n",
       "       Y_sobretiempos  \n",
       "48978               0  "
      ]
     },
     "execution_count": 71,
     "metadata": {},
     "output_type": "execute_result"
    }
   ],
   "source": [
    "contratos[['fecha_vigencia_final','fecha_vigencia_fin_actualizada','dif_fin_actualizada','Y_sobretiempos']]\\\n",
    ".sort_values(by='dif_fin_actualizada').sample()"
   ]
  },
  {
   "cell_type": "code",
   "execution_count": 72,
   "id": "2e1aa7d9",
   "metadata": {},
   "outputs": [
    {
     "data": {
      "text/html": [
       "<div>\n",
       "<style scoped>\n",
       "    .dataframe tbody tr th:only-of-type {\n",
       "        vertical-align: middle;\n",
       "    }\n",
       "\n",
       "    .dataframe tbody tr th {\n",
       "        vertical-align: top;\n",
       "    }\n",
       "\n",
       "    .dataframe thead th {\n",
       "        text-align: right;\n",
       "    }\n",
       "</style>\n",
       "<table border=\"1\" class=\"dataframe\">\n",
       "  <thead>\n",
       "    <tr style=\"text-align: right;\">\n",
       "      <th></th>\n",
       "      <th>Y_sobretiempos</th>\n",
       "      <th>codigo_contrato</th>\n",
       "      <th>%</th>\n",
       "    </tr>\n",
       "  </thead>\n",
       "  <tbody>\n",
       "    <tr>\n",
       "      <th>0</th>\n",
       "      <td>0</td>\n",
       "      <td>83533</td>\n",
       "      <td>98</td>\n",
       "    </tr>\n",
       "    <tr>\n",
       "      <th>1</th>\n",
       "      <td>1</td>\n",
       "      <td>1440</td>\n",
       "      <td>2</td>\n",
       "    </tr>\n",
       "    <tr>\n",
       "      <th>2</th>\n",
       "      <td>total</td>\n",
       "      <td>84973</td>\n",
       "      <td>100</td>\n",
       "    </tr>\n",
       "  </tbody>\n",
       "</table>\n",
       "</div>"
      ],
      "text/plain": [
       "  Y_sobretiempos  codigo_contrato   %\n",
       "0              0            83533  98\n",
       "1              1             1440   2\n",
       "2          total            84973 100"
      ]
     },
     "execution_count": 72,
     "metadata": {},
     "output_type": "execute_result"
    }
   ],
   "source": [
    "# Cantidad de 1 en Y\n",
    "contratos_dedup = contratos[['codigo_contrato','Y_sobretiempos']].drop_duplicates()\n",
    "resumen = contratos_dedup.groupby(\"Y_sobretiempos\",as_index = False).count()[[\"Y_sobretiempos\",'codigo_contrato']]\n",
    "resumen = resumen.append(resumen.sum(), ignore_index=True)\n",
    "resumen.iloc[2,0] = 'total'\n",
    "total = resumen.iloc[2,1]\n",
    "resumen['%'] = resumen['codigo_contrato'] * 1.00 / (total * 1.00) * 100\n",
    "resumen"
   ]
  },
  {
   "cell_type": "markdown",
   "id": "62d03494",
   "metadata": {},
   "source": [
    "### Elección de nivel de observaciones"
   ]
  },
  {
   "cell_type": "markdown",
   "id": "f9bbd185",
   "metadata": {},
   "source": [
    "Analizamos si el dataset debe ser a nivel contrato o contrato-item. Lo decidimos en base al nivel en el que esten las variables Y."
   ]
  },
  {
   "cell_type": "markdown",
   "id": "1e080f88",
   "metadata": {},
   "source": [
    "###### Check nivel de Y_sobrecostos (contrato o contrato-item)"
   ]
  },
  {
   "cell_type": "code",
   "execution_count": 73,
   "id": "030ca59f",
   "metadata": {},
   "outputs": [
    {
     "data": {
      "text/html": [
       "<div>\n",
       "<style scoped>\n",
       "    .dataframe tbody tr th:only-of-type {\n",
       "        vertical-align: middle;\n",
       "    }\n",
       "\n",
       "    .dataframe tbody tr th {\n",
       "        vertical-align: top;\n",
       "    }\n",
       "\n",
       "    .dataframe thead th {\n",
       "        text-align: right;\n",
       "    }\n",
       "</style>\n",
       "<table border=\"1\" class=\"dataframe\">\n",
       "  <thead>\n",
       "    <tr style=\"text-align: right;\">\n",
       "      <th></th>\n",
       "      <th>num_item</th>\n",
       "    </tr>\n",
       "    <tr>\n",
       "      <th>codigo_contrato</th>\n",
       "      <th></th>\n",
       "    </tr>\n",
       "  </thead>\n",
       "  <tbody>\n",
       "    <tr>\n",
       "      <th>200159-00505229-01235627</th>\n",
       "      <td>16</td>\n",
       "    </tr>\n",
       "    <tr>\n",
       "      <th>002543-00444978-01176715</th>\n",
       "      <td>18</td>\n",
       "    </tr>\n",
       "    <tr>\n",
       "      <th>203086-00505229-01239372</th>\n",
       "      <td>19</td>\n",
       "    </tr>\n",
       "    <tr>\n",
       "      <th>200098-00444978-01205921</th>\n",
       "      <td>23</td>\n",
       "    </tr>\n",
       "    <tr>\n",
       "      <th>010393-00444978-01187409</th>\n",
       "      <td>27</td>\n",
       "    </tr>\n",
       "  </tbody>\n",
       "</table>\n",
       "</div>"
      ],
      "text/plain": [
       "                          num_item\n",
       "codigo_contrato                   \n",
       "200159-00505229-01235627        16\n",
       "002543-00444978-01176715        18\n",
       "203086-00505229-01239372        19\n",
       "200098-00444978-01205921        23\n",
       "010393-00444978-01187409        27"
      ]
     },
     "execution_count": 73,
     "metadata": {},
     "output_type": "execute_result"
    }
   ],
   "source": [
    "# Cantidad de items distintos en cada contrato\n",
    "contratos.loc[contratos[\"Y_sobrecostos\"] == 1][['codigo_contrato','num_item']].groupby('codigo_contrato').count().sort_values(by='num_item').tail()"
   ]
  },
  {
   "cell_type": "code",
   "execution_count": 74,
   "id": "d924c815",
   "metadata": {
    "scrolled": true
   },
   "outputs": [
    {
     "data": {
      "text/html": [
       "<div>\n",
       "<style scoped>\n",
       "    .dataframe tbody tr th:only-of-type {\n",
       "        vertical-align: middle;\n",
       "    }\n",
       "\n",
       "    .dataframe tbody tr th {\n",
       "        vertical-align: top;\n",
       "    }\n",
       "\n",
       "    .dataframe thead th {\n",
       "        text-align: right;\n",
       "    }\n",
       "</style>\n",
       "<table border=\"1\" class=\"dataframe\">\n",
       "  <thead>\n",
       "    <tr style=\"text-align: right;\">\n",
       "      <th></th>\n",
       "      <th>codigo_contrato</th>\n",
       "      <th>num_item</th>\n",
       "      <th>monto_adicional</th>\n",
       "      <th>monto_reduccion</th>\n",
       "      <th>monto_prorroga</th>\n",
       "      <th>monto_complementario</th>\n",
       "      <th>Y_sobrecostos</th>\n",
       "    </tr>\n",
       "  </thead>\n",
       "  <tbody>\n",
       "    <tr>\n",
       "      <th>22562</th>\n",
       "      <td>010393-00444978-01187409</td>\n",
       "      <td>208</td>\n",
       "      <td>9,979</td>\n",
       "      <td>0</td>\n",
       "      <td>0</td>\n",
       "      <td>0</td>\n",
       "      <td>1</td>\n",
       "    </tr>\n",
       "    <tr>\n",
       "      <th>72963</th>\n",
       "      <td>010393-00444978-01187409</td>\n",
       "      <td>55</td>\n",
       "      <td>9,979</td>\n",
       "      <td>0</td>\n",
       "      <td>0</td>\n",
       "      <td>0</td>\n",
       "      <td>1</td>\n",
       "    </tr>\n",
       "    <tr>\n",
       "      <th>20308</th>\n",
       "      <td>010393-00444978-01187409</td>\n",
       "      <td>34</td>\n",
       "      <td>9,979</td>\n",
       "      <td>0</td>\n",
       "      <td>0</td>\n",
       "      <td>0</td>\n",
       "      <td>1</td>\n",
       "    </tr>\n",
       "    <tr>\n",
       "      <th>61973</th>\n",
       "      <td>010393-00444978-01187409</td>\n",
       "      <td>145</td>\n",
       "      <td>9,979</td>\n",
       "      <td>0</td>\n",
       "      <td>0</td>\n",
       "      <td>0</td>\n",
       "      <td>1</td>\n",
       "    </tr>\n",
       "    <tr>\n",
       "      <th>3425</th>\n",
       "      <td>010393-00444978-01187409</td>\n",
       "      <td>108</td>\n",
       "      <td>9,979</td>\n",
       "      <td>0</td>\n",
       "      <td>0</td>\n",
       "      <td>0</td>\n",
       "      <td>1</td>\n",
       "    </tr>\n",
       "  </tbody>\n",
       "</table>\n",
       "</div>"
      ],
      "text/plain": [
       "                codigo_contrato  num_item  monto_adicional  monto_reduccion  \\\n",
       "22562  010393-00444978-01187409       208            9,979                0   \n",
       "72963  010393-00444978-01187409        55            9,979                0   \n",
       "20308  010393-00444978-01187409        34            9,979                0   \n",
       "61973  010393-00444978-01187409       145            9,979                0   \n",
       "3425   010393-00444978-01187409       108            9,979                0   \n",
       "\n",
       "       monto_prorroga  monto_complementario  Y_sobrecostos  \n",
       "22562               0                     0              1  \n",
       "72963               0                     0              1  \n",
       "20308               0                     0              1  \n",
       "61973               0                     0              1  \n",
       "3425                0                     0              1  "
      ]
     },
     "execution_count": 74,
     "metadata": {},
     "output_type": "execute_result"
    }
   ],
   "source": [
    "# Check si el monto adicional /reduccion etc a cambia por item o es a nivel contrato\n",
    "contratos.loc[contratos['codigo_contrato'] == '010393-00444978-01187409']\\\n",
    "[['codigo_contrato','num_item',\"monto_adicional\",\"monto_reduccion\",\"monto_prorroga\",\"monto_complementario\",\"Y_sobrecostos\"]].head(5)"
   ]
  },
  {
   "cell_type": "code",
   "execution_count": 75,
   "id": "fc832690",
   "metadata": {},
   "outputs": [
    {
     "data": {
      "text/html": [
       "<div>\n",
       "<style scoped>\n",
       "    .dataframe tbody tr th:only-of-type {\n",
       "        vertical-align: middle;\n",
       "    }\n",
       "\n",
       "    .dataframe tbody tr th {\n",
       "        vertical-align: top;\n",
       "    }\n",
       "\n",
       "    .dataframe thead th {\n",
       "        text-align: right;\n",
       "    }\n",
       "</style>\n",
       "<table border=\"1\" class=\"dataframe\">\n",
       "  <thead>\n",
       "    <tr style=\"text-align: right;\">\n",
       "      <th></th>\n",
       "      <th>codigo_contrato</th>\n",
       "      <th>num_item</th>\n",
       "      <th>monto_adicional</th>\n",
       "      <th>monto_reduccion</th>\n",
       "      <th>monto_prorroga</th>\n",
       "      <th>monto_complementario</th>\n",
       "      <th>Y_sobrecostos</th>\n",
       "    </tr>\n",
       "  </thead>\n",
       "  <tbody>\n",
       "    <tr>\n",
       "      <th>45089</th>\n",
       "      <td>200098-00444978-01205921</td>\n",
       "      <td>208</td>\n",
       "      <td>5,494</td>\n",
       "      <td>2,433</td>\n",
       "      <td>0</td>\n",
       "      <td>0</td>\n",
       "      <td>1</td>\n",
       "    </tr>\n",
       "    <tr>\n",
       "      <th>68381</th>\n",
       "      <td>200098-00444978-01205921</td>\n",
       "      <td>186</td>\n",
       "      <td>5,494</td>\n",
       "      <td>2,433</td>\n",
       "      <td>0</td>\n",
       "      <td>0</td>\n",
       "      <td>1</td>\n",
       "    </tr>\n",
       "    <tr>\n",
       "      <th>50501</th>\n",
       "      <td>200098-00444978-01205921</td>\n",
       "      <td>227</td>\n",
       "      <td>5,494</td>\n",
       "      <td>2,433</td>\n",
       "      <td>0</td>\n",
       "      <td>0</td>\n",
       "      <td>1</td>\n",
       "    </tr>\n",
       "    <tr>\n",
       "      <th>12236</th>\n",
       "      <td>200098-00444978-01205921</td>\n",
       "      <td>34</td>\n",
       "      <td>5,494</td>\n",
       "      <td>2,433</td>\n",
       "      <td>0</td>\n",
       "      <td>0</td>\n",
       "      <td>1</td>\n",
       "    </tr>\n",
       "    <tr>\n",
       "      <th>56550</th>\n",
       "      <td>200098-00444978-01205921</td>\n",
       "      <td>145</td>\n",
       "      <td>5,494</td>\n",
       "      <td>2,433</td>\n",
       "      <td>0</td>\n",
       "      <td>0</td>\n",
       "      <td>1</td>\n",
       "    </tr>\n",
       "  </tbody>\n",
       "</table>\n",
       "</div>"
      ],
      "text/plain": [
       "                codigo_contrato  num_item  monto_adicional  monto_reduccion  \\\n",
       "45089  200098-00444978-01205921       208            5,494            2,433   \n",
       "68381  200098-00444978-01205921       186            5,494            2,433   \n",
       "50501  200098-00444978-01205921       227            5,494            2,433   \n",
       "12236  200098-00444978-01205921        34            5,494            2,433   \n",
       "56550  200098-00444978-01205921       145            5,494            2,433   \n",
       "\n",
       "       monto_prorroga  monto_complementario  Y_sobrecostos  \n",
       "45089               0                     0              1  \n",
       "68381               0                     0              1  \n",
       "50501               0                     0              1  \n",
       "12236               0                     0              1  \n",
       "56550               0                     0              1  "
      ]
     },
     "execution_count": 75,
     "metadata": {},
     "output_type": "execute_result"
    }
   ],
   "source": [
    "# Check si el monto adicional /reduccion etc a cambia por item o es a nivel contrato\n",
    "contratos.loc[contratos['codigo_contrato'] == '200098-00444978-01205921']\\\n",
    "[['codigo_contrato','num_item',\"monto_adicional\",\"monto_reduccion\",\"monto_prorroga\",\"monto_complementario\",\"Y_sobrecostos\"]].head()"
   ]
  },
  {
   "cell_type": "code",
   "execution_count": 76,
   "id": "782fc1d2",
   "metadata": {},
   "outputs": [
    {
     "data": {
      "text/plain": [
       "7"
      ]
     },
     "execution_count": 76,
     "metadata": {},
     "output_type": "execute_result"
    }
   ],
   "source": [
    "# Identifico duplicados en monto adicional - 7 casos\n",
    "df_ma = contratos[['codigo_contrato','monto_adicional']].drop_duplicates()\n",
    "resumen = df_ma.groupby('codigo_contrato', as_index = False).count().\\\n",
    "sort_values(by='monto_adicional').rename(columns = {'monto_adicional':'cantidad'})\n",
    "duplicados_ma = resumen.loc[resumen['cantidad']>1]['codigo_contrato'].values\n",
    "len(duplicados_ma)"
   ]
  },
  {
   "cell_type": "markdown",
   "id": "120fb017",
   "metadata": {},
   "source": [
    "###### Check nivel de Y_sobretiempos (contrato o contrato-item)"
   ]
  },
  {
   "cell_type": "code",
   "execution_count": 77,
   "id": "4e0daaf8",
   "metadata": {},
   "outputs": [
    {
     "data": {
      "text/html": [
       "<div>\n",
       "<style scoped>\n",
       "    .dataframe tbody tr th:only-of-type {\n",
       "        vertical-align: middle;\n",
       "    }\n",
       "\n",
       "    .dataframe tbody tr th {\n",
       "        vertical-align: top;\n",
       "    }\n",
       "\n",
       "    .dataframe thead th {\n",
       "        text-align: right;\n",
       "    }\n",
       "</style>\n",
       "<table border=\"1\" class=\"dataframe\">\n",
       "  <thead>\n",
       "    <tr style=\"text-align: right;\">\n",
       "      <th></th>\n",
       "      <th>num_item</th>\n",
       "    </tr>\n",
       "    <tr>\n",
       "      <th>codigo_contrato</th>\n",
       "      <th></th>\n",
       "    </tr>\n",
       "  </thead>\n",
       "  <tbody>\n",
       "    <tr>\n",
       "      <th>010393-00444978-01187409</th>\n",
       "      <td>27</td>\n",
       "    </tr>\n",
       "    <tr>\n",
       "      <th>002543-00505229-01225679</th>\n",
       "      <td>28</td>\n",
       "    </tr>\n",
       "    <tr>\n",
       "      <th>010214-00505229-01243009</th>\n",
       "      <td>48</td>\n",
       "    </tr>\n",
       "    <tr>\n",
       "      <th>203086-00505229-01239427</th>\n",
       "      <td>56</td>\n",
       "    </tr>\n",
       "    <tr>\n",
       "      <th>010208-00505229-01239310</th>\n",
       "      <td>61</td>\n",
       "    </tr>\n",
       "  </tbody>\n",
       "</table>\n",
       "</div>"
      ],
      "text/plain": [
       "                          num_item\n",
       "codigo_contrato                   \n",
       "010393-00444978-01187409        27\n",
       "002543-00505229-01225679        28\n",
       "010214-00505229-01243009        48\n",
       "203086-00505229-01239427        56\n",
       "010208-00505229-01239310        61"
      ]
     },
     "execution_count": 77,
     "metadata": {},
     "output_type": "execute_result"
    }
   ],
   "source": [
    "# Cantidad de items distintos en cada contrato\n",
    "contratos.loc[contratos[\"Y_sobretiempos\"] == 1][['codigo_contrato','num_item']].groupby('codigo_contrato').count().sort_values(by='num_item').tail()"
   ]
  },
  {
   "cell_type": "code",
   "execution_count": 78,
   "id": "c0e2a6d3",
   "metadata": {
    "scrolled": true
   },
   "outputs": [
    {
     "data": {
      "text/html": [
       "<div>\n",
       "<style scoped>\n",
       "    .dataframe tbody tr th:only-of-type {\n",
       "        vertical-align: middle;\n",
       "    }\n",
       "\n",
       "    .dataframe tbody tr th {\n",
       "        vertical-align: top;\n",
       "    }\n",
       "\n",
       "    .dataframe thead th {\n",
       "        text-align: right;\n",
       "    }\n",
       "</style>\n",
       "<table border=\"1\" class=\"dataframe\">\n",
       "  <thead>\n",
       "    <tr style=\"text-align: right;\">\n",
       "      <th></th>\n",
       "      <th>codigo_contrato</th>\n",
       "      <th>num_item</th>\n",
       "      <th>fecha_vigencia_final</th>\n",
       "      <th>fecha_vigencia_fin_actualizada</th>\n",
       "      <th>dif_fin_actualizada</th>\n",
       "      <th>Y_sobretiempos</th>\n",
       "    </tr>\n",
       "  </thead>\n",
       "  <tbody>\n",
       "    <tr>\n",
       "      <th>22562</th>\n",
       "      <td>010393-00444978-01187409</td>\n",
       "      <td>208</td>\n",
       "      <td>2019-08-30</td>\n",
       "      <td>2019-09-12</td>\n",
       "      <td>13 days</td>\n",
       "      <td>1</td>\n",
       "    </tr>\n",
       "    <tr>\n",
       "      <th>72963</th>\n",
       "      <td>010393-00444978-01187409</td>\n",
       "      <td>55</td>\n",
       "      <td>2019-08-30</td>\n",
       "      <td>2019-09-12</td>\n",
       "      <td>13 days</td>\n",
       "      <td>1</td>\n",
       "    </tr>\n",
       "    <tr>\n",
       "      <th>20308</th>\n",
       "      <td>010393-00444978-01187409</td>\n",
       "      <td>34</td>\n",
       "      <td>2019-08-30</td>\n",
       "      <td>2019-09-12</td>\n",
       "      <td>13 days</td>\n",
       "      <td>1</td>\n",
       "    </tr>\n",
       "    <tr>\n",
       "      <th>61973</th>\n",
       "      <td>010393-00444978-01187409</td>\n",
       "      <td>145</td>\n",
       "      <td>2019-08-30</td>\n",
       "      <td>2019-09-12</td>\n",
       "      <td>13 days</td>\n",
       "      <td>1</td>\n",
       "    </tr>\n",
       "    <tr>\n",
       "      <th>3425</th>\n",
       "      <td>010393-00444978-01187409</td>\n",
       "      <td>108</td>\n",
       "      <td>2019-08-30</td>\n",
       "      <td>2019-09-12</td>\n",
       "      <td>13 days</td>\n",
       "      <td>1</td>\n",
       "    </tr>\n",
       "    <tr>\n",
       "      <th>24796</th>\n",
       "      <td>010393-00444978-01187409</td>\n",
       "      <td>184</td>\n",
       "      <td>2019-08-30</td>\n",
       "      <td>2019-09-12</td>\n",
       "      <td>13 days</td>\n",
       "      <td>1</td>\n",
       "    </tr>\n",
       "    <tr>\n",
       "      <th>46179</th>\n",
       "      <td>010393-00444978-01187409</td>\n",
       "      <td>26</td>\n",
       "      <td>2019-08-30</td>\n",
       "      <td>2019-09-12</td>\n",
       "      <td>13 days</td>\n",
       "      <td>1</td>\n",
       "    </tr>\n",
       "    <tr>\n",
       "      <th>51881</th>\n",
       "      <td>010393-00444978-01187409</td>\n",
       "      <td>136</td>\n",
       "      <td>2019-08-30</td>\n",
       "      <td>2019-09-12</td>\n",
       "      <td>13 days</td>\n",
       "      <td>1</td>\n",
       "    </tr>\n",
       "    <tr>\n",
       "      <th>33494</th>\n",
       "      <td>010393-00444978-01187409</td>\n",
       "      <td>82</td>\n",
       "      <td>2019-08-30</td>\n",
       "      <td>2019-09-12</td>\n",
       "      <td>13 days</td>\n",
       "      <td>1</td>\n",
       "    </tr>\n",
       "    <tr>\n",
       "      <th>57647</th>\n",
       "      <td>010393-00444978-01187409</td>\n",
       "      <td>92</td>\n",
       "      <td>2019-08-30</td>\n",
       "      <td>2019-09-12</td>\n",
       "      <td>13 days</td>\n",
       "      <td>1</td>\n",
       "    </tr>\n",
       "  </tbody>\n",
       "</table>\n",
       "</div>"
      ],
      "text/plain": [
       "                codigo_contrato  num_item fecha_vigencia_final  \\\n",
       "22562  010393-00444978-01187409       208           2019-08-30   \n",
       "72963  010393-00444978-01187409        55           2019-08-30   \n",
       "20308  010393-00444978-01187409        34           2019-08-30   \n",
       "61973  010393-00444978-01187409       145           2019-08-30   \n",
       "3425   010393-00444978-01187409       108           2019-08-30   \n",
       "24796  010393-00444978-01187409       184           2019-08-30   \n",
       "46179  010393-00444978-01187409        26           2019-08-30   \n",
       "51881  010393-00444978-01187409       136           2019-08-30   \n",
       "33494  010393-00444978-01187409        82           2019-08-30   \n",
       "57647  010393-00444978-01187409        92           2019-08-30   \n",
       "\n",
       "      fecha_vigencia_fin_actualizada dif_fin_actualizada  Y_sobretiempos  \n",
       "22562                     2019-09-12             13 days               1  \n",
       "72963                     2019-09-12             13 days               1  \n",
       "20308                     2019-09-12             13 days               1  \n",
       "61973                     2019-09-12             13 days               1  \n",
       "3425                      2019-09-12             13 days               1  \n",
       "24796                     2019-09-12             13 days               1  \n",
       "46179                     2019-09-12             13 days               1  \n",
       "51881                     2019-09-12             13 days               1  \n",
       "33494                     2019-09-12             13 days               1  \n",
       "57647                     2019-09-12             13 days               1  "
      ]
     },
     "execution_count": 78,
     "metadata": {},
     "output_type": "execute_result"
    }
   ],
   "source": [
    "# Check si fechas cambia por item o es a nivel contrato\n",
    "contratos.loc[contratos['codigo_contrato'] == '010393-00444978-01187409']\\\n",
    "[['codigo_contrato','num_item','fecha_vigencia_final','fecha_vigencia_fin_actualizada','dif_fin_actualizada',\"Y_sobretiempos\"]].head(10)"
   ]
  },
  {
   "cell_type": "code",
   "execution_count": 79,
   "id": "025ce14b",
   "metadata": {},
   "outputs": [
    {
     "data": {
      "text/html": [
       "<div>\n",
       "<style scoped>\n",
       "    .dataframe tbody tr th:only-of-type {\n",
       "        vertical-align: middle;\n",
       "    }\n",
       "\n",
       "    .dataframe tbody tr th {\n",
       "        vertical-align: top;\n",
       "    }\n",
       "\n",
       "    .dataframe thead th {\n",
       "        text-align: right;\n",
       "    }\n",
       "</style>\n",
       "<table border=\"1\" class=\"dataframe\">\n",
       "  <thead>\n",
       "    <tr style=\"text-align: right;\">\n",
       "      <th></th>\n",
       "      <th>codigo_contrato</th>\n",
       "      <th>num_item</th>\n",
       "      <th>fecha_vigencia_final</th>\n",
       "      <th>fecha_vigencia_fin_actualizada</th>\n",
       "      <th>dif_fin_actualizada</th>\n",
       "      <th>Y_sobretiempos</th>\n",
       "    </tr>\n",
       "  </thead>\n",
       "  <tbody>\n",
       "    <tr>\n",
       "      <th>67109</th>\n",
       "      <td>002543-00505229-01225679</td>\n",
       "      <td>84</td>\n",
       "      <td>2020-09-16</td>\n",
       "      <td>2020-11-01</td>\n",
       "      <td>46 days</td>\n",
       "      <td>1</td>\n",
       "    </tr>\n",
       "    <tr>\n",
       "      <th>41854</th>\n",
       "      <td>002543-00505229-01225679</td>\n",
       "      <td>331</td>\n",
       "      <td>2020-09-16</td>\n",
       "      <td>2020-11-01</td>\n",
       "      <td>46 days</td>\n",
       "      <td>1</td>\n",
       "    </tr>\n",
       "    <tr>\n",
       "      <th>7739</th>\n",
       "      <td>002543-00505229-01225679</td>\n",
       "      <td>270</td>\n",
       "      <td>2020-09-16</td>\n",
       "      <td>2020-11-01</td>\n",
       "      <td>46 days</td>\n",
       "      <td>1</td>\n",
       "    </tr>\n",
       "    <tr>\n",
       "      <th>37076</th>\n",
       "      <td>002543-00505229-01225679</td>\n",
       "      <td>234</td>\n",
       "      <td>2020-09-16</td>\n",
       "      <td>2020-11-01</td>\n",
       "      <td>46 days</td>\n",
       "      <td>1</td>\n",
       "    </tr>\n",
       "    <tr>\n",
       "      <th>28433</th>\n",
       "      <td>002543-00505229-01225679</td>\n",
       "      <td>301</td>\n",
       "      <td>2020-09-16</td>\n",
       "      <td>2020-11-01</td>\n",
       "      <td>46 days</td>\n",
       "      <td>1</td>\n",
       "    </tr>\n",
       "    <tr>\n",
       "      <th>28434</th>\n",
       "      <td>002543-00505229-01225679</td>\n",
       "      <td>376</td>\n",
       "      <td>2020-09-16</td>\n",
       "      <td>2020-11-01</td>\n",
       "      <td>46 days</td>\n",
       "      <td>1</td>\n",
       "    </tr>\n",
       "    <tr>\n",
       "      <th>72427</th>\n",
       "      <td>002543-00505229-01225679</td>\n",
       "      <td>250</td>\n",
       "      <td>2020-09-16</td>\n",
       "      <td>2020-11-01</td>\n",
       "      <td>46 days</td>\n",
       "      <td>1</td>\n",
       "    </tr>\n",
       "    <tr>\n",
       "      <th>76821</th>\n",
       "      <td>002543-00505229-01225679</td>\n",
       "      <td>154</td>\n",
       "      <td>2020-09-16</td>\n",
       "      <td>2020-11-01</td>\n",
       "      <td>46 days</td>\n",
       "      <td>1</td>\n",
       "    </tr>\n",
       "    <tr>\n",
       "      <th>68348</th>\n",
       "      <td>002543-00505229-01225679</td>\n",
       "      <td>33</td>\n",
       "      <td>2020-09-16</td>\n",
       "      <td>2020-11-01</td>\n",
       "      <td>46 days</td>\n",
       "      <td>1</td>\n",
       "    </tr>\n",
       "    <tr>\n",
       "      <th>64291</th>\n",
       "      <td>002543-00505229-01225679</td>\n",
       "      <td>265</td>\n",
       "      <td>2020-09-16</td>\n",
       "      <td>2020-11-01</td>\n",
       "      <td>46 days</td>\n",
       "      <td>1</td>\n",
       "    </tr>\n",
       "  </tbody>\n",
       "</table>\n",
       "</div>"
      ],
      "text/plain": [
       "                codigo_contrato  num_item fecha_vigencia_final  \\\n",
       "67109  002543-00505229-01225679        84           2020-09-16   \n",
       "41854  002543-00505229-01225679       331           2020-09-16   \n",
       "7739   002543-00505229-01225679       270           2020-09-16   \n",
       "37076  002543-00505229-01225679       234           2020-09-16   \n",
       "28433  002543-00505229-01225679       301           2020-09-16   \n",
       "28434  002543-00505229-01225679       376           2020-09-16   \n",
       "72427  002543-00505229-01225679       250           2020-09-16   \n",
       "76821  002543-00505229-01225679       154           2020-09-16   \n",
       "68348  002543-00505229-01225679        33           2020-09-16   \n",
       "64291  002543-00505229-01225679       265           2020-09-16   \n",
       "\n",
       "      fecha_vigencia_fin_actualizada dif_fin_actualizada  Y_sobretiempos  \n",
       "67109                     2020-11-01             46 days               1  \n",
       "41854                     2020-11-01             46 days               1  \n",
       "7739                      2020-11-01             46 days               1  \n",
       "37076                     2020-11-01             46 days               1  \n",
       "28433                     2020-11-01             46 days               1  \n",
       "28434                     2020-11-01             46 days               1  \n",
       "72427                     2020-11-01             46 days               1  \n",
       "76821                     2020-11-01             46 days               1  \n",
       "68348                     2020-11-01             46 days               1  \n",
       "64291                     2020-11-01             46 days               1  "
      ]
     },
     "execution_count": 79,
     "metadata": {},
     "output_type": "execute_result"
    }
   ],
   "source": [
    "# Check si fechas cambia por item o es a nivel contrato\n",
    "contratos.loc[contratos['codigo_contrato'] == '002543-00505229-01225679']\\\n",
    "[['codigo_contrato','num_item','fecha_vigencia_final','fecha_vigencia_fin_actualizada','dif_fin_actualizada',\"Y_sobretiempos\"]].head(10)"
   ]
  },
  {
   "cell_type": "markdown",
   "id": "d3fef6da",
   "metadata": {},
   "source": [
    "#### Elección del código de contrato a tomar"
   ]
  },
  {
   "cell_type": "markdown",
   "id": "3dd23acd",
   "metadata": {},
   "source": [
    "Existen 3 columnas que hacen referencia al código de contrato, tomamos \"codigo_contrato\" ya que que \"num_contrato\" no esta normalizada y \"n_cod_contrato\" esta contenida en codigo_contrato."
   ]
  },
  {
   "cell_type": "code",
   "execution_count": 80,
   "id": "059a23c1",
   "metadata": {},
   "outputs": [
    {
     "data": {
      "text/html": [
       "<div>\n",
       "<style scoped>\n",
       "    .dataframe tbody tr th:only-of-type {\n",
       "        vertical-align: middle;\n",
       "    }\n",
       "\n",
       "    .dataframe tbody tr th {\n",
       "        vertical-align: top;\n",
       "    }\n",
       "\n",
       "    .dataframe thead th {\n",
       "        text-align: right;\n",
       "    }\n",
       "</style>\n",
       "<table border=\"1\" class=\"dataframe\">\n",
       "  <thead>\n",
       "    <tr style=\"text-align: right;\">\n",
       "      <th></th>\n",
       "      <th>codigo_contrato</th>\n",
       "      <th>num_contrato</th>\n",
       "      <th>n_cod_contrato</th>\n",
       "    </tr>\n",
       "  </thead>\n",
       "  <tbody>\n",
       "    <tr>\n",
       "      <th>1</th>\n",
       "      <td>000430-00428797-01149803</td>\n",
       "      <td>AS-001-20018-MDNP</td>\n",
       "      <td>1,149,803</td>\n",
       "    </tr>\n",
       "    <tr>\n",
       "      <th>2</th>\n",
       "      <td>010247-00427829-01148482</td>\n",
       "      <td>5 - 2018</td>\n",
       "      <td>1,148,482</td>\n",
       "    </tr>\n",
       "    <tr>\n",
       "      <th>3</th>\n",
       "      <td>001263-00427524-01148368</td>\n",
       "      <td>S/N</td>\n",
       "      <td>1,148,368</td>\n",
       "    </tr>\n",
       "    <tr>\n",
       "      <th>7</th>\n",
       "      <td>010141-00429476-01150180</td>\n",
       "      <td>165-18</td>\n",
       "      <td>1,150,180</td>\n",
       "    </tr>\n",
       "    <tr>\n",
       "      <th>8</th>\n",
       "      <td>010407-00425579-01150470</td>\n",
       "      <td>51</td>\n",
       "      <td>1,150,470</td>\n",
       "    </tr>\n",
       "  </tbody>\n",
       "</table>\n",
       "</div>"
      ],
      "text/plain": [
       "            codigo_contrato       num_contrato  n_cod_contrato\n",
       "1  000430-00428797-01149803  AS-001-20018-MDNP       1,149,803\n",
       "2  010247-00427829-01148482           5 - 2018       1,148,482\n",
       "3  001263-00427524-01148368                S/N       1,148,368\n",
       "7  010141-00429476-01150180             165-18       1,150,180\n",
       "8  010407-00425579-01150470                 51       1,150,470"
      ]
     },
     "execution_count": 80,
     "metadata": {},
     "output_type": "execute_result"
    }
   ],
   "source": [
    "contratos[['codigo_contrato','num_contrato','n_cod_contrato']].head()"
   ]
  },
  {
   "cell_type": "code",
   "execution_count": 81,
   "id": "4b8f6af5",
   "metadata": {},
   "outputs": [],
   "source": [
    "contratos['len_codigo_contrato'] = contratos['codigo_contrato'].str.len()"
   ]
  },
  {
   "cell_type": "code",
   "execution_count": 82,
   "id": "064b8055",
   "metadata": {},
   "outputs": [
    {
     "data": {
      "text/html": [
       "<div>\n",
       "<style scoped>\n",
       "    .dataframe tbody tr th:only-of-type {\n",
       "        vertical-align: middle;\n",
       "    }\n",
       "\n",
       "    .dataframe tbody tr th {\n",
       "        vertical-align: top;\n",
       "    }\n",
       "\n",
       "    .dataframe thead th {\n",
       "        text-align: right;\n",
       "    }\n",
       "</style>\n",
       "<table border=\"1\" class=\"dataframe\">\n",
       "  <thead>\n",
       "    <tr style=\"text-align: right;\">\n",
       "      <th></th>\n",
       "      <th>index</th>\n",
       "    </tr>\n",
       "    <tr>\n",
       "      <th>len_codigo_contrato</th>\n",
       "      <th></th>\n",
       "    </tr>\n",
       "  </thead>\n",
       "  <tbody>\n",
       "    <tr>\n",
       "      <th>7</th>\n",
       "      <td>11914</td>\n",
       "    </tr>\n",
       "    <tr>\n",
       "      <th>24</th>\n",
       "      <td>107110</td>\n",
       "    </tr>\n",
       "  </tbody>\n",
       "</table>\n",
       "</div>"
      ],
      "text/plain": [
       "                      index\n",
       "len_codigo_contrato        \n",
       "7                     11914\n",
       "24                   107110"
      ]
     },
     "execution_count": 82,
     "metadata": {},
     "output_type": "execute_result"
    }
   ],
   "source": [
    "contratos.groupby('len_codigo_contrato').count()[['index']].head()"
   ]
  },
  {
   "cell_type": "markdown",
   "id": "d389e74c",
   "metadata": {},
   "source": [
    "### Generacion de variables \"X\""
   ]
  },
  {
   "cell_type": "markdown",
   "id": "c8360dbf",
   "metadata": {},
   "source": [
    "#### Caracteristicas del contrato"
   ]
  },
  {
   "cell_type": "code",
   "execution_count": 174,
   "id": "aba852b9",
   "metadata": {},
   "outputs": [
    {
     "name": "stdout",
     "output_type": "stream",
     "text": [
      "Cantidad de contratos unicos sin sacar duplicados = 84973\n"
     ]
    }
   ],
   "source": [
    "print(f'Cantidad de contratos unicos sin sacar duplicados = {contratos[\"codigo_contrato\"].drop_duplicates().shape[0]}')"
   ]
  },
  {
   "cell_type": "code",
   "execution_count": 175,
   "id": "dcd34079",
   "metadata": {},
   "outputs": [],
   "source": [
    "# Dataframe a nivel contratos con caracteristicas\n",
    "df = contratos[['codigo_contrato',\n",
    "                'Y_sobrecostos', \n",
    "                'Y_sobrecostos_suma', \n",
    "                'Y_sobretiempos',\n",
    "                'codigoconvocatoria',\n",
    "                'tipo_compra',\n",
    "                'sector',\n",
    "                'tipoentidad',\n",
    "                #'anio', # es el de suscripcion de contrato\n",
    "                #'anio_convocatoria',\n",
    "                'tipoprocesoseleccion',\n",
    "                'monto_referencial_total',\n",
    "                'monto_contratado_total',\n",
    "                'ruc_entidad',\n",
    "                'ruc_codigo_ganador'          \n",
    "               ]]\n",
    "df = df.drop_duplicates()"
   ]
  },
  {
   "cell_type": "code",
   "execution_count": 176,
   "id": "dde653da",
   "metadata": {},
   "outputs": [],
   "source": [
    "# Identifico duplicados en monto referencial - ~ 450 casos\n",
    "df_mr = contratos[['codigo_contrato','monto_referencial_total']].drop_duplicates()\n",
    "resumen = df_mr.groupby('codigo_contrato', as_index = False).count().\\\n",
    "sort_values(by='monto_referencial_total').rename(columns = {'monto_referencial_total':'cantidad'})\n",
    "duplicados_mr = resumen.loc[resumen['cantidad']>1]['codigo_contrato'].values\n",
    "\n",
    "# Quito duplicados de df\n",
    "df = df.loc[~df['codigo_contrato'].isin(duplicados_mr)]"
   ]
  },
  {
   "cell_type": "code",
   "execution_count": 177,
   "id": "38805a46",
   "metadata": {
    "scrolled": true
   },
   "outputs": [
    {
     "name": "stdout",
     "output_type": "stream",
     "text": [
      "Cantidad de contratos unicos sin montos duplicados = 84478\n"
     ]
    }
   ],
   "source": [
    "print(f'Cantidad de contratos unicos sin montos duplicados = {df[\"codigo_contrato\"].drop_duplicates().shape[0]}')"
   ]
  },
  {
   "cell_type": "code",
   "execution_count": 178,
   "id": "ab4c13e6",
   "metadata": {},
   "outputs": [],
   "source": [
    "# Onehot encoding\n",
    "\n",
    "#variables_para_onehot = ['tipo_compra',\n",
    "#                         'sector',\n",
    "#                          'tipoentidad',\n",
    "#                         'tipoprocesoseleccion']\n",
    "#for variable in variables_para_onehot:\n",
    "#    df = generar_onehot_encoding(df,variable)"
   ]
  },
  {
   "cell_type": "markdown",
   "id": "8bfb122b",
   "metadata": {},
   "source": [
    "#### Montos"
   ]
  },
  {
   "cell_type": "code",
   "execution_count": 179,
   "id": "2b14d3ba",
   "metadata": {},
   "outputs": [],
   "source": [
    "# Dif % entre referencial y contrato\n",
    "df['monto_referencial_vs_total'] = df['monto_contratado_total'] * 1.00/ df['monto_referencial_total'] * 1.00"
   ]
  },
  {
   "cell_type": "code",
   "execution_count": 180,
   "id": "195fc641",
   "metadata": {},
   "outputs": [
    {
     "data": {
      "text/html": [
       "<div>\n",
       "<style scoped>\n",
       "    .dataframe tbody tr th:only-of-type {\n",
       "        vertical-align: middle;\n",
       "    }\n",
       "\n",
       "    .dataframe tbody tr th {\n",
       "        vertical-align: top;\n",
       "    }\n",
       "\n",
       "    .dataframe thead th {\n",
       "        text-align: right;\n",
       "    }\n",
       "</style>\n",
       "<table border=\"1\" class=\"dataframe\">\n",
       "  <thead>\n",
       "    <tr style=\"text-align: right;\">\n",
       "      <th></th>\n",
       "      <th>monto_referencial_vs_total</th>\n",
       "      <th>monto_contratado_total</th>\n",
       "      <th>monto_referencial_total</th>\n",
       "    </tr>\n",
       "  </thead>\n",
       "  <tbody>\n",
       "    <tr>\n",
       "      <th>1</th>\n",
       "      <td>1</td>\n",
       "      <td>38,222</td>\n",
       "      <td>38,222</td>\n",
       "    </tr>\n",
       "    <tr>\n",
       "      <th>2</th>\n",
       "      <td>1</td>\n",
       "      <td>38,937</td>\n",
       "      <td>38,937</td>\n",
       "    </tr>\n",
       "    <tr>\n",
       "      <th>3</th>\n",
       "      <td>0</td>\n",
       "      <td>51,900</td>\n",
       "      <td>243,250</td>\n",
       "    </tr>\n",
       "    <tr>\n",
       "      <th>7</th>\n",
       "      <td>1</td>\n",
       "      <td>57,625</td>\n",
       "      <td>73,920</td>\n",
       "    </tr>\n",
       "    <tr>\n",
       "      <th>8</th>\n",
       "      <td>1</td>\n",
       "      <td>67,399</td>\n",
       "      <td>75,000</td>\n",
       "    </tr>\n",
       "  </tbody>\n",
       "</table>\n",
       "</div>"
      ],
      "text/plain": [
       "   monto_referencial_vs_total  monto_contratado_total  monto_referencial_total\n",
       "1                           1                  38,222                   38,222\n",
       "2                           1                  38,937                   38,937\n",
       "3                           0                  51,900                  243,250\n",
       "7                           1                  57,625                   73,920\n",
       "8                           1                  67,399                   75,000"
      ]
     },
     "execution_count": 180,
     "metadata": {},
     "output_type": "execute_result"
    }
   ],
   "source": [
    "df[['monto_referencial_vs_total','monto_contratado_total','monto_referencial_total']].head()"
   ]
  },
  {
   "cell_type": "code",
   "execution_count": 181,
   "id": "ff9c9a2f",
   "metadata": {},
   "outputs": [],
   "source": [
    "# Cantidad de cifras de montos\n",
    "df['len_monto_referencial'] = len(df['monto_referencial_total'].astype(str))"
   ]
  },
  {
   "cell_type": "code",
   "execution_count": 182,
   "id": "0b688480",
   "metadata": {},
   "outputs": [],
   "source": [
    "df['len_monto_referencial'] = df.apply(lambda x: len(str(round(x['monto_referencial_total']))), axis = 1)\n",
    "df['len_monto_contratado_total'] = df.apply(lambda x: len(str(round(x['monto_contratado_total']))), axis = 1)"
   ]
  },
  {
   "cell_type": "code",
   "execution_count": 183,
   "id": "82958731",
   "metadata": {
    "scrolled": true
   },
   "outputs": [
    {
     "data": {
      "text/plain": [
       "(84479, 16)"
      ]
     },
     "execution_count": 183,
     "metadata": {},
     "output_type": "execute_result"
    }
   ],
   "source": [
    "df.shape"
   ]
  },
  {
   "cell_type": "markdown",
   "id": "03fab54b",
   "metadata": {},
   "source": [
    "#### Proveedores y postores"
   ]
  },
  {
   "cell_type": "code",
   "execution_count": 93,
   "id": "748569db",
   "metadata": {},
   "outputs": [
    {
     "name": "stdout",
     "output_type": "stream",
     "text": [
      "(84973, 2)\n"
     ]
    }
   ],
   "source": [
    "df_proveedores = contratos[['codigo_contrato','codigoconvocatoria']].drop_duplicates()\n",
    "print(df_proveedores.shape)"
   ]
  },
  {
   "cell_type": "code",
   "execution_count": 94,
   "id": "b4ce0c59",
   "metadata": {},
   "outputs": [],
   "source": [
    "# Cantidad de proveedores de la convocatoria\n",
    "df_proveedores_cantidad = contratos[['codigoconvocatoria','ruc_codigo_ganador']]\\\n",
    ".groupby('codigoconvocatoria',as_index = False)['ruc_codigo_ganador'].nunique()\\\n",
    ".rename(columns = {'ruc_codigo_ganador': 'cantidad_proveedores'})"
   ]
  },
  {
   "cell_type": "code",
   "execution_count": 95,
   "id": "12985b9d",
   "metadata": {},
   "outputs": [],
   "source": [
    "# Cantidad de postores de la convocatoria\n",
    "df_postores_cantidad = postores[['codigo_convocatoria','ruc_detallepostor']]\\\n",
    ".groupby('codigo_convocatoria',as_index = False)['ruc_detallepostor'].nunique()\\\n",
    ".rename(columns = {'ruc_detallepostor': 'cantidad_postores'})\n",
    "df_postores_cantidad.fillna(-9999, inplace = True)"
   ]
  },
  {
   "cell_type": "code",
   "execution_count": 96,
   "id": "99514115",
   "metadata": {},
   "outputs": [],
   "source": [
    "# SUNAT\n",
    "sunat_sel = sunat[['sunat_ruc',\n",
    "                    'sunat_ddp_ciiu', \n",
    "                    'sunat_ddp_doble', \n",
    "                    'sunat_ddp_estado',\n",
    "                    'sunat_ddp_identi', \n",
    "                    'sunat_ddp_tamano', \n",
    "                    'sunat_ddp_tpoemp',\n",
    "                    'sunat_ddp_ubigeo', \n",
    "                    'sunat_desc_ciiu', \n",
    "                    'sunat_desc_estado',\n",
    "                    'sunat_eshabido', \n",
    "                    'sunat_desc_tpoemp', \n",
    "                    'sunat_dds_cierre', \n",
    "                    'sunat_dds_comext',\n",
    "                    'sunat_dds_contab', \n",
    "                    'sunat_dds_ficha',\n",
    "                    'sunat_dds_motbaj', \n",
    "                    'sunat_desc_contab',\n",
    "                    'sunat_desc_comext', \n",
    "                    'sunat_cod_paicap', \n",
    "                    'sunat_cod_paiori',\n",
    "                    'sunat_ind_conleg', \n",
    "                    'sunat_des_conleg']]\n",
    "\n",
    "df_sunat = contratos.join(sunat_sel.set_index('sunat_ruc'),\n",
    "                         on = 'ruc_codigo_ganador',\n",
    "                         how = 'left')"
   ]
  },
  {
   "cell_type": "code",
   "execution_count": 97,
   "id": "9242deb2",
   "metadata": {},
   "outputs": [],
   "source": [
    "# Tipo de proveedor\n",
    "df_tipo_proveedor = contratos[['codigo_contrato','tipo_proveedor']].drop_duplicates()\n",
    "\n",
    "# Onehot encoding\n",
    "#variables_para_onehot = ['tipo_proveedor']\n",
    "#for variable in variables_para_onehot:\n",
    "#    df_tipo_proveedor = generar_onehot_encoding(df_tipo_proveedor,variable)"
   ]
  },
  {
   "cell_type": "code",
   "execution_count": 98,
   "id": "eceb9cbe",
   "metadata": {},
   "outputs": [],
   "source": [
    "# Proveedor con problema en el pasado\n",
    "contratos['fecha_fecha_suscripcion_contrato'] = contratos['fecha_suscripcion_contrato'].dt.date #la hora genera duplicados\n",
    "df_proveedor_y_pasado  = contratos[['codigo_contrato','fecha_fecha_suscripcion_contrato','ruc_codigo_ganador','Y_sobrecostos','Y_sobretiempos']].drop_duplicates()"
   ]
  },
  {
   "cell_type": "code",
   "execution_count": 99,
   "id": "bd653e84",
   "metadata": {},
   "outputs": [],
   "source": [
    "# Proveedor con problema en el pasado\n",
    "def identificar_proveedor_tuvo_ineficiencias_antes(df,ruc_codigo_ganador,fecha_suscripcion_contrato, tipo_ineficiencia):\n",
    "    df = df.loc[(df['ruc_codigo_ganador'] == ruc_codigo_ganador) & (df['fecha_fecha_suscripcion_contrato'] < fecha_suscripcion_contrato)]\n",
    "    cantidad_contratos_pasado = len(df[tipo_ineficiencia])\n",
    "    cantidad_ineficiencias_pasado = len(df.loc[df[tipo_ineficiencia]==1])\n",
    "    if cantidad_contratos_pasado == 0:\n",
    "        proveedor_porcentaje_ineficiencias_contatos = 0\n",
    "    else:\n",
    "        proveedor_porcentaje_ineficiencias_contatos = (cantidad_ineficiencias_pasado * 1.00 /cantidad_contratos_pasado * 1.00) * 100\n",
    "    \n",
    "    return(pd.Series([cantidad_contratos_pasado,cantidad_ineficiencias_pasado,proveedor_porcentaje_ineficiencias_contatos]))"
   ]
  },
  {
   "cell_type": "code",
   "execution_count": 100,
   "id": "c143edce",
   "metadata": {},
   "outputs": [],
   "source": [
    "# Proveedor con problema en el pasado - sobrecostos\n",
    "#df_proveedor_y_pasado[['proveedor_cantidad_contratos_pasado','proveedor_cantidad_sobrecostos_pasado','proveedor_porcentaje_sobrecostos_contatos']] = df_proveedor_y_pasado.apply(lambda x: identificar_proveedor_tuvo_ineficiencias_antes(df_proveedor_y_pasado,\n",
    "#                                                                                                                                                      x['ruc_codigo_ganador'],\n",
    "#                                                                                                                                                      x['fecha_fecha_suscripcion_contrato'],\n",
    "#                                                                                                                                                      'Y_sobrecostos'), axis = 1) "
   ]
  },
  {
   "cell_type": "code",
   "execution_count": 101,
   "id": "9596f41b",
   "metadata": {},
   "outputs": [],
   "source": [
    "# Proveedor con problema en el pasado - sobretiempos\n",
    "df_proveedor_y_pasado[['proveedor_cantidad_contratos_pasado','proveedor_cantidad_sobretiempos_pasado','proveedor_porcentaje_sobretiempos_contatos']] = df_proveedor_y_pasado.apply(lambda x: identificar_proveedor_tuvo_ineficiencias_antes(df_proveedor_y_pasado,\n",
    "                                                                                                                                                      x['ruc_codigo_ganador'],\n",
    "                                                                                                                                                      x['fecha_fecha_suscripcion_contrato'],\n",
    "                                                                                                                                                      'Y_sobretiempos'), axis = 1) "
   ]
  },
  {
   "cell_type": "code",
   "execution_count": 102,
   "id": "13788c5c",
   "metadata": {},
   "outputs": [],
   "source": [
    "df_proveedor_y_pasado.drop(columns = ['fecha_fecha_suscripcion_contrato','ruc_codigo_ganador','Y_sobrecostos','Y_sobretiempos'], inplace = True)"
   ]
  },
  {
   "cell_type": "code",
   "execution_count": 103,
   "id": "133a11c4",
   "metadata": {},
   "outputs": [
    {
     "name": "stdout",
     "output_type": "stream",
     "text": [
      "(84973, 2)\n",
      "(84973, 7)\n"
     ]
    }
   ],
   "source": [
    "# Join de sub-dataframes\n",
    "print(df_proveedores.shape)\n",
    "\n",
    "df_proveedores = df_proveedores.join(df_proveedores_cantidad.set_index('codigoconvocatoria'),\n",
    "                   on = 'codigoconvocatoria', how = 'left')\n",
    "df_proveedores = df_proveedores.join(df_postores_cantidad.set_index('codigo_convocatoria'),\n",
    "                   on = 'codigoconvocatoria', how = 'left')\n",
    "df_proveedores = df_proveedores.join(df_tipo_proveedor.set_index('codigo_contrato'),\n",
    "                   on = 'codigo_contrato', how = 'left')\n",
    "df_proveedores = df_proveedores.join(df_proveedor_y_pasado.set_index('codigo_contrato'),\n",
    "                   on = 'codigo_contrato', how = 'left')\n",
    "\n",
    "# drop codigoconvocatoria\n",
    "df_proveedores = df_proveedores.drop('codigoconvocatoria', axis = 1)\n",
    "\n",
    "# print\n",
    "print(df_proveedores.shape)"
   ]
  },
  {
   "cell_type": "markdown",
   "id": "ac7ada00",
   "metadata": {},
   "source": [
    "#### Entes"
   ]
  },
  {
   "cell_type": "code",
   "execution_count": 104,
   "id": "01f4aa4f",
   "metadata": {},
   "outputs": [],
   "source": [
    "df_ente = contratos[['codigo_contrato','ruc_entidad','fecha_fecha_suscripcion_contrato','Y_sobrecostos','Y_sobretiempos']].drop_duplicates()"
   ]
  },
  {
   "cell_type": "code",
   "execution_count": 105,
   "id": "bca25f8c",
   "metadata": {},
   "outputs": [],
   "source": [
    "# Ente con sobrecostos en el pasado\n",
    "def identificar_ente_tuvo_ineficiencias_antes(df,ruc_entidad,fecha_suscripcion_contrato,tipo_ineficiencia):\n",
    "    df = df.loc[(df['ruc_entidad'] == ruc_entidad) & (df['fecha_fecha_suscripcion_contrato'] < fecha_suscripcion_contrato)]\n",
    "    cantidad_contratos_pasado = len(df[tipo_ineficiencia])\n",
    "    cantidad_ineficiencia_pasado = len(df.loc[df[tipo_ineficiencia]==1])\n",
    "    if cantidad_contratos_pasado == 0:\n",
    "        ente_porcentaje_ineficiencia_contatos = 0\n",
    "    else:\n",
    "        ente_porcentaje_ineficiencia_contatos = (cantidad_ineficiencia_pasado * 1.00 /cantidad_contratos_pasado * 1.00) * 100\n",
    "    \n",
    "    return(pd.Series([cantidad_contratos_pasado,cantidad_ineficiencia_pasado,ente_porcentaje_ineficiencia_contatos]))\n"
   ]
  },
  {
   "cell_type": "code",
   "execution_count": 106,
   "id": "28e2791b",
   "metadata": {},
   "outputs": [],
   "source": [
    "# Ente con sobrecosto en el pasado\n",
    "#df_ente[['ente_cantidad_contratos_pasado','ente_cantidad_sobrecostos_pasado','ente_porcentaje_sobrecostos_contatos']] = df_ente.apply(lambda x: identificar_ente_tuvo_ineficiencias_antes(df_ente,\n",
    "#                                                                                                                                                      x['ruc_entidad'],\n",
    "#                                                                                                                                                      x['fecha_fecha_suscripcion_contrato',\n",
    "#                                                                                                                                                      'Y_sobrecostos']), axis = 1) "
   ]
  },
  {
   "cell_type": "code",
   "execution_count": 107,
   "id": "428e7251",
   "metadata": {},
   "outputs": [],
   "source": [
    "# Ente con sobretiempos en el pasado\n",
    "df_ente[['ente_cantidad_contratos_pasado','ente_cantidad_sobretiempos_pasado','ente_porcentaje_sobretiempos_contatos']] = df_ente.apply(lambda x: identificar_ente_tuvo_ineficiencias_antes(df_ente,\n",
    "                                                                                                                                                      x['ruc_entidad'],\n",
    "                                                                                                                                                      x['fecha_fecha_suscripcion_contrato'],\n",
    "                                                                                                                                                      'Y_sobretiempos'), axis = 1) "
   ]
  },
  {
   "cell_type": "code",
   "execution_count": 108,
   "id": "1b00ed15",
   "metadata": {},
   "outputs": [],
   "source": [
    "df_ente.drop(columns = ['ruc_entidad','fecha_fecha_suscripcion_contrato','Y_sobrecostos','Y_sobretiempos'], inplace = True)"
   ]
  },
  {
   "cell_type": "code",
   "execution_count": 109,
   "id": "f43f4c2f",
   "metadata": {},
   "outputs": [
    {
     "data": {
      "text/plain": [
       "(84973, 4)"
      ]
     },
     "execution_count": 109,
     "metadata": {},
     "output_type": "execute_result"
    }
   ],
   "source": [
    "df_ente.shape"
   ]
  },
  {
   "cell_type": "markdown",
   "id": "60685f90",
   "metadata": {},
   "source": [
    "#### Entes y proveedores"
   ]
  },
  {
   "cell_type": "code",
   "execution_count": 110,
   "id": "9c1da1b3",
   "metadata": {},
   "outputs": [],
   "source": [
    "df_ente_proveedor = contratos[['codigo_contrato','ruc_entidad','ruc_codigo_ganador','fecha_fecha_suscripcion_contrato','Y_sobrecostos','Y_sobretiempos']].drop_duplicates()"
   ]
  },
  {
   "cell_type": "code",
   "execution_count": 111,
   "id": "91bbcd08",
   "metadata": {},
   "outputs": [],
   "source": [
    "# Combinacion Ente-Proveedor con sobrecostos en el pasado\n",
    "def identificar_ente_proveedor_tuvo_ineficiencias_antes(df,ruc_codigo_ganador,ruc_entidad,fecha_suscripcion_contrato,tipo_ineficiencia):\n",
    "    df = df.loc[(df['ruc_entidad'] == ruc_entidad) & (df['ruc_codigo_ganador'] == ruc_codigo_ganador) &(df['fecha_fecha_suscripcion_contrato'] < fecha_suscripcion_contrato)]\n",
    "    cantidad_contratos_pasado = len(df[tipo_ineficiencia])\n",
    "    cantidad_ineficiencias_pasado = len(df.loc[df[tipo_ineficiencia]==1])\n",
    "    if cantidad_contratos_pasado == 0:\n",
    "        ente_proveedor_porcentaje_ineficiencia_contatos = 0\n",
    "    else:\n",
    "        ente_proveedor_porcentaje_ineficiencia_contatos = (cantidad_ineficiencias_pasado * 1.00 /cantidad_contratos_pasado * 1.00) * 100\n",
    "    \n",
    "    return(pd.Series([cantidad_contratos_pasado,cantidad_ineficiencias_pasado,ente_proveedor_porcentaje_ineficiencia_contatos]))\n"
   ]
  },
  {
   "cell_type": "code",
   "execution_count": 112,
   "id": "eef7b0d3",
   "metadata": {},
   "outputs": [],
   "source": [
    "# sobrecostos\n",
    "#df_ente_proveedor[['ente_proveedor_cantidad_contratos_pasado','ente_proveedor_cantidad_sobrecostos_pasado','ente_proveedor_porcentaje_sobrecostos_contatos']] = df_ente_proveedor.apply(lambda x: identificar_ente_proveedor_tuvo_ineficiencias_antes(df_ente_proveedor,\n",
    "#                                                                                                                                                      x['ruc_codigo_ganador'],\n",
    "#                                                                                                                                                      x['ruc_entidad'],\n",
    "#                                                                                                                                                      x['fecha_fecha_suscripcion_contrato'],\n",
    "#'Y_sobrecostos'), axis = 1)  "
   ]
  },
  {
   "cell_type": "code",
   "execution_count": 113,
   "id": "522ede29",
   "metadata": {},
   "outputs": [],
   "source": [
    "#sobretiempos\n",
    "df_ente_proveedor[['ente_proveedor_cantidad_contratos_pasado','ente_proveedor_cantidad_ineficiencias_pasado','ente_proveedor_porcentaje_ineficiencias_contatos']] = df_ente_proveedor.apply(lambda x: identificar_ente_proveedor_tuvo_ineficiencias_antes(df_ente_proveedor,\n",
    "                                                                                                                                                      x['ruc_codigo_ganador'],\n",
    "                                                                                                                                                      x['ruc_entidad'],\n",
    "                                                                                                                                                      x['fecha_fecha_suscripcion_contrato'],\n",
    "                                                                                                                                                      'Y_sobretiempos'), axis = 1)  "
   ]
  },
  {
   "cell_type": "code",
   "execution_count": 114,
   "id": "ba2c29fb",
   "metadata": {},
   "outputs": [],
   "source": [
    "df_ente_proveedor.drop(columns = ['ruc_entidad','ruc_codigo_ganador','fecha_fecha_suscripcion_contrato','Y_sobrecostos','Y_sobretiempos'], inplace = True)"
   ]
  },
  {
   "cell_type": "code",
   "execution_count": 115,
   "id": "bdb1bfc7",
   "metadata": {},
   "outputs": [
    {
     "data": {
      "text/plain": [
       "(84973, 4)"
      ]
     },
     "execution_count": 115,
     "metadata": {},
     "output_type": "execute_result"
    }
   ],
   "source": [
    "df_ente_proveedor.shape"
   ]
  },
  {
   "cell_type": "markdown",
   "id": "df940c5f",
   "metadata": {},
   "source": [
    "#### Items del contrato"
   ]
  },
  {
   "cell_type": "code",
   "execution_count": 165,
   "id": "c98b13d8",
   "metadata": {},
   "outputs": [
    {
     "name": "stdout",
     "output_type": "stream",
     "text": [
      "(84973, 1)\n"
     ]
    }
   ],
   "source": [
    "df_items = contratos[['codigo_contrato']].drop_duplicates()\n",
    "print(df_items.shape)"
   ]
  },
  {
   "cell_type": "code",
   "execution_count": 166,
   "id": "d269296b",
   "metadata": {},
   "outputs": [
    {
     "name": "stdout",
     "output_type": "stream",
     "text": [
      "(84973, 1)\n"
     ]
    }
   ],
   "source": [
    "print(df_items.shape)"
   ]
  },
  {
   "cell_type": "code",
   "execution_count": 167,
   "id": "a6457f26",
   "metadata": {},
   "outputs": [],
   "source": [
    "# montos\n",
    "df_items_montos = contratos[['codigo_contrato','monto_referencial_item','monto_contratado_item']]\\\n",
    ".groupby('codigo_contrato').agg(['sum', 'mean','median','min','max'])\n",
    "df_items_montos = df_items_montos.reset_index()\n",
    "df_items_montos.columns = ['_'.join(tup).rstrip('_') for tup in df_items_montos.columns.values]\n",
    "df_items_montos['monto_contratado_item_max_sobre_total'] = df_items_montos['monto_contratado_item_max'] / df_items_montos['monto_contratado_item_sum']\n",
    "df_items_montos['monto_referencial_item_max_sobre_total'] = df_items_montos['monto_referencial_item_max'] / df_items_montos['monto_referencial_item_sum']"
   ]
  },
  {
   "cell_type": "code",
   "execution_count": 168,
   "id": "0ba2ee78",
   "metadata": {},
   "outputs": [],
   "source": [
    "# cantidad\n",
    "df_items_cantidad = contratos[['codigo_contrato','grupo_familia','codigogrupo','codigoitem']]\\\n",
    ".groupby('codigo_contrato').agg(['count'])\n",
    "df_items_cantidad = df_items_cantidad.reset_index()\n",
    "df_items_cantidad.columns = ['_'.join(tup).rstrip('_') for tup in df_items_cantidad.columns.values]\n",
    "\n",
    "# dummy contrato tiene solo un item\n",
    "df_items_cantidad['un_item'] =  df_items_cantidad.apply(lambda x: 1 if x['codigoitem_count'] == 1 else 0 , axis = 1)"
   ]
  },
  {
   "cell_type": "code",
   "execution_count": 169,
   "id": "1c78f0a2",
   "metadata": {},
   "outputs": [],
   "source": [
    "# Diferencia entre sumatoria monto contratado item y monto contratado total\n",
    "# Sumatoria de items\n",
    "df_items_sum_items = contratos[['codigo_contrato','monto_contratado_item']]\\\n",
    ".groupby('codigo_contrato', as_index = False)[['monto_contratado_item']].sum()\\\n",
    ".rename(columns = {'monto_contratado_item': 'sum_monto_items'})\n",
    "\n",
    "# Monto total contrato\n",
    "df_items_total_contrato = contratos[['codigo_contrato','monto_contratado_total']].drop_duplicates()\n",
    "\n",
    "# Join con df_items\n",
    "df_items = df_items.join(df_items_sum_items.set_index('codigo_contrato'), on = 'codigo_contrato', how ='left')\\\n",
    ".join(df_items_total_contrato.set_index('codigo_contrato'), on = 'codigo_contrato', how ='left')\n",
    "\n",
    "# Genero variable de la diferencia entre los dos montos\n",
    "df_items['monto_contratado_total'] = df_items['monto_contratado_total'].astype(int)\n",
    "df_items['sum_monto_items'] = df_items['sum_monto_items'].astype(int)\n",
    "df_items['dif_montocontrato_sumitems'] = df_items['monto_contratado_total'] - df_items['sum_monto_items']\n",
    "\n",
    "# Genero dummy de la variable de la diferencia entre los dos montos\n",
    "df_items['dif_montocontrato_sumitems_dummy'] = df_items.apply(lambda x: 1 if x['dif_montocontrato_sumitems'] != 0 else 0, axis = 1)"
   ]
  },
  {
   "cell_type": "code",
   "execution_count": 170,
   "id": "a530355c",
   "metadata": {},
   "outputs": [
    {
     "name": "stderr",
     "output_type": "stream",
     "text": [
      "/Users/mac/anaconda3/envs/IDB/lib/python3.8/site-packages/pandas/core/indexing.py:670: SettingWithCopyWarning: \n",
      "A value is trying to be set on a copy of a slice from a DataFrame\n",
      "\n",
      "See the caveats in the documentation: https://pandas.pydata.org/pandas-docs/stable/user_guide/indexing.html#returning-a-view-versus-a-copy\n",
      "  iloc._setitem_with_indexer(indexer, value)\n",
      "/Users/mac/anaconda3/envs/IDB/lib/python3.8/site-packages/pandas/core/indexing.py:670: SettingWithCopyWarning: \n",
      "A value is trying to be set on a copy of a slice from a DataFrame\n",
      "\n",
      "See the caveats in the documentation: https://pandas.pydata.org/pandas-docs/stable/user_guide/indexing.html#returning-a-view-versus-a-copy\n",
      "  iloc._setitem_with_indexer(indexer, value)\n",
      "/Users/mac/anaconda3/envs/IDB/lib/python3.8/site-packages/pandas/core/indexing.py:670: SettingWithCopyWarning: \n",
      "A value is trying to be set on a copy of a slice from a DataFrame\n",
      "\n",
      "See the caveats in the documentation: https://pandas.pydata.org/pandas-docs/stable/user_guide/indexing.html#returning-a-view-versus-a-copy\n",
      "  iloc._setitem_with_indexer(indexer, value)\n",
      "/Users/mac/anaconda3/envs/IDB/lib/python3.8/site-packages/pandas/core/indexing.py:670: SettingWithCopyWarning: \n",
      "A value is trying to be set on a copy of a slice from a DataFrame\n",
      "\n",
      "See the caveats in the documentation: https://pandas.pydata.org/pandas-docs/stable/user_guide/indexing.html#returning-a-view-versus-a-copy\n",
      "  iloc._setitem_with_indexer(indexer, value)\n",
      "/Users/mac/anaconda3/envs/IDB/lib/python3.8/site-packages/pandas/core/indexing.py:670: SettingWithCopyWarning: \n",
      "A value is trying to be set on a copy of a slice from a DataFrame\n",
      "\n",
      "See the caveats in the documentation: https://pandas.pydata.org/pandas-docs/stable/user_guide/indexing.html#returning-a-view-versus-a-copy\n",
      "  iloc._setitem_with_indexer(indexer, value)\n",
      "/Users/mac/anaconda3/envs/IDB/lib/python3.8/site-packages/pandas/core/indexing.py:670: SettingWithCopyWarning: \n",
      "A value is trying to be set on a copy of a slice from a DataFrame\n",
      "\n",
      "See the caveats in the documentation: https://pandas.pydata.org/pandas-docs/stable/user_guide/indexing.html#returning-a-view-versus-a-copy\n",
      "  iloc._setitem_with_indexer(indexer, value)\n",
      "/Users/mac/anaconda3/envs/IDB/lib/python3.8/site-packages/pandas/core/indexing.py:670: SettingWithCopyWarning: \n",
      "A value is trying to be set on a copy of a slice from a DataFrame\n",
      "\n",
      "See the caveats in the documentation: https://pandas.pydata.org/pandas-docs/stable/user_guide/indexing.html#returning-a-view-versus-a-copy\n",
      "  iloc._setitem_with_indexer(indexer, value)\n",
      "/Users/mac/anaconda3/envs/IDB/lib/python3.8/site-packages/pandas/core/indexing.py:670: SettingWithCopyWarning: \n",
      "A value is trying to be set on a copy of a slice from a DataFrame\n",
      "\n",
      "See the caveats in the documentation: https://pandas.pydata.org/pandas-docs/stable/user_guide/indexing.html#returning-a-view-versus-a-copy\n",
      "  iloc._setitem_with_indexer(indexer, value)\n",
      "/Users/mac/anaconda3/envs/IDB/lib/python3.8/site-packages/pandas/core/indexing.py:670: SettingWithCopyWarning: \n",
      "A value is trying to be set on a copy of a slice from a DataFrame\n",
      "\n",
      "See the caveats in the documentation: https://pandas.pydata.org/pandas-docs/stable/user_guide/indexing.html#returning-a-view-versus-a-copy\n",
      "  iloc._setitem_with_indexer(indexer, value)\n",
      "/Users/mac/anaconda3/envs/IDB/lib/python3.8/site-packages/pandas/core/indexing.py:670: SettingWithCopyWarning: \n",
      "A value is trying to be set on a copy of a slice from a DataFrame\n",
      "\n",
      "See the caveats in the documentation: https://pandas.pydata.org/pandas-docs/stable/user_guide/indexing.html#returning-a-view-versus-a-copy\n",
      "  iloc._setitem_with_indexer(indexer, value)\n",
      "/Users/mac/anaconda3/envs/IDB/lib/python3.8/site-packages/pandas/core/indexing.py:670: SettingWithCopyWarning: \n",
      "A value is trying to be set on a copy of a slice from a DataFrame\n",
      "\n",
      "See the caveats in the documentation: https://pandas.pydata.org/pandas-docs/stable/user_guide/indexing.html#returning-a-view-versus-a-copy\n",
      "  iloc._setitem_with_indexer(indexer, value)\n",
      "/Users/mac/anaconda3/envs/IDB/lib/python3.8/site-packages/pandas/core/indexing.py:670: SettingWithCopyWarning: \n",
      "A value is trying to be set on a copy of a slice from a DataFrame\n",
      "\n",
      "See the caveats in the documentation: https://pandas.pydata.org/pandas-docs/stable/user_guide/indexing.html#returning-a-view-versus-a-copy\n",
      "  iloc._setitem_with_indexer(indexer, value)\n",
      "/Users/mac/anaconda3/envs/IDB/lib/python3.8/site-packages/pandas/core/indexing.py:670: SettingWithCopyWarning: \n",
      "A value is trying to be set on a copy of a slice from a DataFrame\n",
      "\n",
      "See the caveats in the documentation: https://pandas.pydata.org/pandas-docs/stable/user_guide/indexing.html#returning-a-view-versus-a-copy\n",
      "  iloc._setitem_with_indexer(indexer, value)\n",
      "/Users/mac/anaconda3/envs/IDB/lib/python3.8/site-packages/pandas/core/indexing.py:670: SettingWithCopyWarning: \n",
      "A value is trying to be set on a copy of a slice from a DataFrame\n",
      "\n",
      "See the caveats in the documentation: https://pandas.pydata.org/pandas-docs/stable/user_guide/indexing.html#returning-a-view-versus-a-copy\n",
      "  iloc._setitem_with_indexer(indexer, value)\n",
      "/Users/mac/anaconda3/envs/IDB/lib/python3.8/site-packages/pandas/core/indexing.py:670: SettingWithCopyWarning: \n",
      "A value is trying to be set on a copy of a slice from a DataFrame\n",
      "\n",
      "See the caveats in the documentation: https://pandas.pydata.org/pandas-docs/stable/user_guide/indexing.html#returning-a-view-versus-a-copy\n",
      "  iloc._setitem_with_indexer(indexer, value)\n",
      "/Users/mac/anaconda3/envs/IDB/lib/python3.8/site-packages/pandas/core/indexing.py:670: SettingWithCopyWarning: \n",
      "A value is trying to be set on a copy of a slice from a DataFrame\n",
      "\n",
      "See the caveats in the documentation: https://pandas.pydata.org/pandas-docs/stable/user_guide/indexing.html#returning-a-view-versus-a-copy\n",
      "  iloc._setitem_with_indexer(indexer, value)\n",
      "/Users/mac/anaconda3/envs/IDB/lib/python3.8/site-packages/pandas/core/indexing.py:670: SettingWithCopyWarning: \n",
      "A value is trying to be set on a copy of a slice from a DataFrame\n",
      "\n",
      "See the caveats in the documentation: https://pandas.pydata.org/pandas-docs/stable/user_guide/indexing.html#returning-a-view-versus-a-copy\n",
      "  iloc._setitem_with_indexer(indexer, value)\n",
      "/Users/mac/anaconda3/envs/IDB/lib/python3.8/site-packages/pandas/core/indexing.py:670: SettingWithCopyWarning: \n",
      "A value is trying to be set on a copy of a slice from a DataFrame\n",
      "\n",
      "See the caveats in the documentation: https://pandas.pydata.org/pandas-docs/stable/user_guide/indexing.html#returning-a-view-versus-a-copy\n",
      "  iloc._setitem_with_indexer(indexer, value)\n",
      "/Users/mac/anaconda3/envs/IDB/lib/python3.8/site-packages/pandas/core/indexing.py:670: SettingWithCopyWarning: \n",
      "A value is trying to be set on a copy of a slice from a DataFrame\n",
      "\n",
      "See the caveats in the documentation: https://pandas.pydata.org/pandas-docs/stable/user_guide/indexing.html#returning-a-view-versus-a-copy\n",
      "  iloc._setitem_with_indexer(indexer, value)\n",
      "/Users/mac/anaconda3/envs/IDB/lib/python3.8/site-packages/pandas/core/indexing.py:670: SettingWithCopyWarning: \n",
      "A value is trying to be set on a copy of a slice from a DataFrame\n",
      "\n",
      "See the caveats in the documentation: https://pandas.pydata.org/pandas-docs/stable/user_guide/indexing.html#returning-a-view-versus-a-copy\n",
      "  iloc._setitem_with_indexer(indexer, value)\n",
      "/Users/mac/anaconda3/envs/IDB/lib/python3.8/site-packages/pandas/core/indexing.py:670: SettingWithCopyWarning: \n",
      "A value is trying to be set on a copy of a slice from a DataFrame\n",
      "\n",
      "See the caveats in the documentation: https://pandas.pydata.org/pandas-docs/stable/user_guide/indexing.html#returning-a-view-versus-a-copy\n",
      "  iloc._setitem_with_indexer(indexer, value)\n",
      "/Users/mac/anaconda3/envs/IDB/lib/python3.8/site-packages/pandas/core/indexing.py:670: SettingWithCopyWarning: \n",
      "A value is trying to be set on a copy of a slice from a DataFrame\n",
      "\n",
      "See the caveats in the documentation: https://pandas.pydata.org/pandas-docs/stable/user_guide/indexing.html#returning-a-view-versus-a-copy\n",
      "  iloc._setitem_with_indexer(indexer, value)\n",
      "/Users/mac/anaconda3/envs/IDB/lib/python3.8/site-packages/pandas/core/indexing.py:670: SettingWithCopyWarning: \n",
      "A value is trying to be set on a copy of a slice from a DataFrame\n",
      "\n",
      "See the caveats in the documentation: https://pandas.pydata.org/pandas-docs/stable/user_guide/indexing.html#returning-a-view-versus-a-copy\n",
      "  iloc._setitem_with_indexer(indexer, value)\n",
      "/Users/mac/anaconda3/envs/IDB/lib/python3.8/site-packages/pandas/core/indexing.py:670: SettingWithCopyWarning: \n",
      "A value is trying to be set on a copy of a slice from a DataFrame\n",
      "\n",
      "See the caveats in the documentation: https://pandas.pydata.org/pandas-docs/stable/user_guide/indexing.html#returning-a-view-versus-a-copy\n",
      "  iloc._setitem_with_indexer(indexer, value)\n",
      "/Users/mac/anaconda3/envs/IDB/lib/python3.8/site-packages/pandas/core/indexing.py:670: SettingWithCopyWarning: \n",
      "A value is trying to be set on a copy of a slice from a DataFrame\n",
      "\n",
      "See the caveats in the documentation: https://pandas.pydata.org/pandas-docs/stable/user_guide/indexing.html#returning-a-view-versus-a-copy\n",
      "  iloc._setitem_with_indexer(indexer, value)\n",
      "/Users/mac/anaconda3/envs/IDB/lib/python3.8/site-packages/pandas/core/indexing.py:670: SettingWithCopyWarning: \n",
      "A value is trying to be set on a copy of a slice from a DataFrame\n",
      "\n",
      "See the caveats in the documentation: https://pandas.pydata.org/pandas-docs/stable/user_guide/indexing.html#returning-a-view-versus-a-copy\n",
      "  iloc._setitem_with_indexer(indexer, value)\n",
      "/Users/mac/anaconda3/envs/IDB/lib/python3.8/site-packages/pandas/core/indexing.py:670: SettingWithCopyWarning: \n",
      "A value is trying to be set on a copy of a slice from a DataFrame\n",
      "\n",
      "See the caveats in the documentation: https://pandas.pydata.org/pandas-docs/stable/user_guide/indexing.html#returning-a-view-versus-a-copy\n",
      "  iloc._setitem_with_indexer(indexer, value)\n",
      "/Users/mac/anaconda3/envs/IDB/lib/python3.8/site-packages/pandas/core/indexing.py:670: SettingWithCopyWarning: \n",
      "A value is trying to be set on a copy of a slice from a DataFrame\n",
      "\n",
      "See the caveats in the documentation: https://pandas.pydata.org/pandas-docs/stable/user_guide/indexing.html#returning-a-view-versus-a-copy\n",
      "  iloc._setitem_with_indexer(indexer, value)\n",
      "/Users/mac/anaconda3/envs/IDB/lib/python3.8/site-packages/pandas/core/indexing.py:670: SettingWithCopyWarning: \n",
      "A value is trying to be set on a copy of a slice from a DataFrame\n",
      "\n",
      "See the caveats in the documentation: https://pandas.pydata.org/pandas-docs/stable/user_guide/indexing.html#returning-a-view-versus-a-copy\n",
      "  iloc._setitem_with_indexer(indexer, value)\n",
      "/Users/mac/anaconda3/envs/IDB/lib/python3.8/site-packages/pandas/core/indexing.py:670: SettingWithCopyWarning: \n",
      "A value is trying to be set on a copy of a slice from a DataFrame\n",
      "\n",
      "See the caveats in the documentation: https://pandas.pydata.org/pandas-docs/stable/user_guide/indexing.html#returning-a-view-versus-a-copy\n",
      "  iloc._setitem_with_indexer(indexer, value)\n",
      "/Users/mac/anaconda3/envs/IDB/lib/python3.8/site-packages/pandas/core/indexing.py:670: SettingWithCopyWarning: \n",
      "A value is trying to be set on a copy of a slice from a DataFrame\n",
      "\n",
      "See the caveats in the documentation: https://pandas.pydata.org/pandas-docs/stable/user_guide/indexing.html#returning-a-view-versus-a-copy\n",
      "  iloc._setitem_with_indexer(indexer, value)\n",
      "/Users/mac/anaconda3/envs/IDB/lib/python3.8/site-packages/pandas/core/indexing.py:670: SettingWithCopyWarning: \n",
      "A value is trying to be set on a copy of a slice from a DataFrame\n",
      "\n",
      "See the caveats in the documentation: https://pandas.pydata.org/pandas-docs/stable/user_guide/indexing.html#returning-a-view-versus-a-copy\n",
      "  iloc._setitem_with_indexer(indexer, value)\n",
      "/Users/mac/anaconda3/envs/IDB/lib/python3.8/site-packages/pandas/core/indexing.py:670: SettingWithCopyWarning: \n",
      "A value is trying to be set on a copy of a slice from a DataFrame\n",
      "\n",
      "See the caveats in the documentation: https://pandas.pydata.org/pandas-docs/stable/user_guide/indexing.html#returning-a-view-versus-a-copy\n",
      "  iloc._setitem_with_indexer(indexer, value)\n",
      "/Users/mac/anaconda3/envs/IDB/lib/python3.8/site-packages/pandas/core/indexing.py:670: SettingWithCopyWarning: \n",
      "A value is trying to be set on a copy of a slice from a DataFrame\n",
      "\n",
      "See the caveats in the documentation: https://pandas.pydata.org/pandas-docs/stable/user_guide/indexing.html#returning-a-view-versus-a-copy\n",
      "  iloc._setitem_with_indexer(indexer, value)\n",
      "/Users/mac/anaconda3/envs/IDB/lib/python3.8/site-packages/pandas/core/indexing.py:670: SettingWithCopyWarning: \n",
      "A value is trying to be set on a copy of a slice from a DataFrame\n",
      "\n",
      "See the caveats in the documentation: https://pandas.pydata.org/pandas-docs/stable/user_guide/indexing.html#returning-a-view-versus-a-copy\n",
      "  iloc._setitem_with_indexer(indexer, value)\n",
      "/Users/mac/anaconda3/envs/IDB/lib/python3.8/site-packages/pandas/core/indexing.py:670: SettingWithCopyWarning: \n",
      "A value is trying to be set on a copy of a slice from a DataFrame\n",
      "\n",
      "See the caveats in the documentation: https://pandas.pydata.org/pandas-docs/stable/user_guide/indexing.html#returning-a-view-versus-a-copy\n",
      "  iloc._setitem_with_indexer(indexer, value)\n",
      "/Users/mac/anaconda3/envs/IDB/lib/python3.8/site-packages/pandas/core/indexing.py:670: SettingWithCopyWarning: \n",
      "A value is trying to be set on a copy of a slice from a DataFrame\n",
      "\n",
      "See the caveats in the documentation: https://pandas.pydata.org/pandas-docs/stable/user_guide/indexing.html#returning-a-view-versus-a-copy\n",
      "  iloc._setitem_with_indexer(indexer, value)\n",
      "/Users/mac/anaconda3/envs/IDB/lib/python3.8/site-packages/pandas/core/indexing.py:670: SettingWithCopyWarning: \n",
      "A value is trying to be set on a copy of a slice from a DataFrame\n",
      "\n",
      "See the caveats in the documentation: https://pandas.pydata.org/pandas-docs/stable/user_guide/indexing.html#returning-a-view-versus-a-copy\n",
      "  iloc._setitem_with_indexer(indexer, value)\n",
      "/Users/mac/anaconda3/envs/IDB/lib/python3.8/site-packages/pandas/core/indexing.py:670: SettingWithCopyWarning: \n",
      "A value is trying to be set on a copy of a slice from a DataFrame\n",
      "\n",
      "See the caveats in the documentation: https://pandas.pydata.org/pandas-docs/stable/user_guide/indexing.html#returning-a-view-versus-a-copy\n",
      "  iloc._setitem_with_indexer(indexer, value)\n",
      "/Users/mac/anaconda3/envs/IDB/lib/python3.8/site-packages/pandas/core/indexing.py:670: SettingWithCopyWarning: \n",
      "A value is trying to be set on a copy of a slice from a DataFrame\n",
      "\n",
      "See the caveats in the documentation: https://pandas.pydata.org/pandas-docs/stable/user_guide/indexing.html#returning-a-view-versus-a-copy\n",
      "  iloc._setitem_with_indexer(indexer, value)\n",
      "/Users/mac/anaconda3/envs/IDB/lib/python3.8/site-packages/pandas/core/indexing.py:670: SettingWithCopyWarning: \n",
      "A value is trying to be set on a copy of a slice from a DataFrame\n",
      "\n",
      "See the caveats in the documentation: https://pandas.pydata.org/pandas-docs/stable/user_guide/indexing.html#returning-a-view-versus-a-copy\n",
      "  iloc._setitem_with_indexer(indexer, value)\n",
      "/Users/mac/anaconda3/envs/IDB/lib/python3.8/site-packages/pandas/core/indexing.py:670: SettingWithCopyWarning: \n",
      "A value is trying to be set on a copy of a slice from a DataFrame\n",
      "\n",
      "See the caveats in the documentation: https://pandas.pydata.org/pandas-docs/stable/user_guide/indexing.html#returning-a-view-versus-a-copy\n",
      "  iloc._setitem_with_indexer(indexer, value)\n"
     ]
    }
   ],
   "source": [
    "# Onehot encoding\n",
    "df_itemcubso = contratos[['codigo_contrato','codigogrupo','grupo_familia']]\n",
    "\n",
    "variables_para_onehot = ['codigogrupo']\n",
    "                         #'grupo_familia'] la saco porque genera demasiadas columnas\n",
    "\n",
    "for variable in variables_para_onehot:\n",
    "    df_itemcubso = generar_onehot_encoding(df_itemcubso,variable)\n",
    "\n",
    "\n",
    "#flatteen a nivel contrato\n",
    "df_itemcubso = df_itemcubso.groupby('codigo_contrato', as_index = False).sum()\n",
    "\n",
    "#dummies\n",
    "columns = df_itemcubso.drop('codigo_contrato',axis=1).columns\n",
    "for col in columns:\n",
    "    df_itemcubso[col].loc[df_itemcubso[col] > 1] = 1"
   ]
  },
  {
   "cell_type": "code",
   "execution_count": 171,
   "id": "f386bc66",
   "metadata": {},
   "outputs": [
    {
     "name": "stdout",
     "output_type": "stream",
     "text": [
      "(84973, 63)\n"
     ]
    },
    {
     "data": {
      "text/html": [
       "<div>\n",
       "<style scoped>\n",
       "    .dataframe tbody tr th:only-of-type {\n",
       "        vertical-align: middle;\n",
       "    }\n",
       "\n",
       "    .dataframe tbody tr th {\n",
       "        vertical-align: top;\n",
       "    }\n",
       "\n",
       "    .dataframe thead th {\n",
       "        text-align: right;\n",
       "    }\n",
       "</style>\n",
       "<table border=\"1\" class=\"dataframe\">\n",
       "  <thead>\n",
       "    <tr style=\"text-align: right;\">\n",
       "      <th></th>\n",
       "      <th>codigo_contrato</th>\n",
       "      <th>dif_montocontrato_sumitems</th>\n",
       "      <th>dif_montocontrato_sumitems_dummy</th>\n",
       "      <th>monto_referencial_item_sum</th>\n",
       "      <th>monto_referencial_item_mean</th>\n",
       "      <th>monto_referencial_item_median</th>\n",
       "      <th>monto_referencial_item_min</th>\n",
       "      <th>monto_referencial_item_max</th>\n",
       "      <th>monto_contratado_item_sum</th>\n",
       "      <th>monto_contratado_item_mean</th>\n",
       "      <th>monto_contratado_item_median</th>\n",
       "      <th>monto_contratado_item_min</th>\n",
       "      <th>monto_contratado_item_max</th>\n",
       "      <th>monto_contratado_item_max_sobre_total</th>\n",
       "      <th>monto_referencial_item_max_sobre_total</th>\n",
       "      <th>grupo_familia_count</th>\n",
       "      <th>codigogrupo_count</th>\n",
       "      <th>codigoitem_count</th>\n",
       "      <th>un_item</th>\n",
       "      <th>codigogrupo_10</th>\n",
       "      <th>codigogrupo_11</th>\n",
       "      <th>codigogrupo_12</th>\n",
       "      <th>codigogrupo_13</th>\n",
       "      <th>codigogrupo_14</th>\n",
       "      <th>codigogrupo_15</th>\n",
       "      <th>codigogrupo_20</th>\n",
       "      <th>codigogrupo_21</th>\n",
       "      <th>codigogrupo_22</th>\n",
       "      <th>codigogrupo_23</th>\n",
       "      <th>codigogrupo_24</th>\n",
       "      <th>codigogrupo_25</th>\n",
       "      <th>codigogrupo_26</th>\n",
       "      <th>codigogrupo_27</th>\n",
       "      <th>codigogrupo_30</th>\n",
       "      <th>codigogrupo_31</th>\n",
       "      <th>codigogrupo_32</th>\n",
       "      <th>codigogrupo_39</th>\n",
       "      <th>codigogrupo_40</th>\n",
       "      <th>codigogrupo_41</th>\n",
       "      <th>codigogrupo_42</th>\n",
       "      <th>codigogrupo_43</th>\n",
       "      <th>codigogrupo_44</th>\n",
       "      <th>codigogrupo_45</th>\n",
       "      <th>codigogrupo_46</th>\n",
       "      <th>codigogrupo_47</th>\n",
       "      <th>codigogrupo_48</th>\n",
       "      <th>codigogrupo_49</th>\n",
       "      <th>codigogrupo_50</th>\n",
       "      <th>codigogrupo_51</th>\n",
       "      <th>codigogrupo_52</th>\n",
       "      <th>codigogrupo_53</th>\n",
       "      <th>codigogrupo_55</th>\n",
       "      <th>codigogrupo_56</th>\n",
       "      <th>codigogrupo_60</th>\n",
       "      <th>codigogrupo_72</th>\n",
       "      <th>codigogrupo_78</th>\n",
       "      <th>codigogrupo_80</th>\n",
       "      <th>codigogrupo_81</th>\n",
       "      <th>codigogrupo_82</th>\n",
       "      <th>codigogrupo_83</th>\n",
       "      <th>codigogrupo_95</th>\n",
       "    </tr>\n",
       "  </thead>\n",
       "  <tbody>\n",
       "    <tr>\n",
       "      <th>1</th>\n",
       "      <td>000430-00428797-01149803</td>\n",
       "      <td>0</td>\n",
       "      <td>0</td>\n",
       "      <td>38,222</td>\n",
       "      <td>38,222</td>\n",
       "      <td>38,222</td>\n",
       "      <td>38,222</td>\n",
       "      <td>38,222</td>\n",
       "      <td>38,222</td>\n",
       "      <td>38,222</td>\n",
       "      <td>38,222</td>\n",
       "      <td>38,222</td>\n",
       "      <td>38,222</td>\n",
       "      <td>1</td>\n",
       "      <td>1</td>\n",
       "      <td>1</td>\n",
       "      <td>1</td>\n",
       "      <td>1</td>\n",
       "      <td>1</td>\n",
       "      <td>0</td>\n",
       "      <td>0</td>\n",
       "      <td>0</td>\n",
       "      <td>0</td>\n",
       "      <td>0</td>\n",
       "      <td>0</td>\n",
       "      <td>0</td>\n",
       "      <td>0</td>\n",
       "      <td>0</td>\n",
       "      <td>0</td>\n",
       "      <td>0</td>\n",
       "      <td>0</td>\n",
       "      <td>0</td>\n",
       "      <td>0</td>\n",
       "      <td>0</td>\n",
       "      <td>0</td>\n",
       "      <td>0</td>\n",
       "      <td>0</td>\n",
       "      <td>0</td>\n",
       "      <td>0</td>\n",
       "      <td>0</td>\n",
       "      <td>0</td>\n",
       "      <td>0</td>\n",
       "      <td>0</td>\n",
       "      <td>0</td>\n",
       "      <td>0</td>\n",
       "      <td>0</td>\n",
       "      <td>0</td>\n",
       "      <td>1</td>\n",
       "      <td>0</td>\n",
       "      <td>0</td>\n",
       "      <td>0</td>\n",
       "      <td>0</td>\n",
       "      <td>0</td>\n",
       "      <td>0</td>\n",
       "      <td>0</td>\n",
       "      <td>0</td>\n",
       "      <td>0</td>\n",
       "      <td>0</td>\n",
       "      <td>0</td>\n",
       "      <td>0</td>\n",
       "      <td>0</td>\n",
       "    </tr>\n",
       "    <tr>\n",
       "      <th>2</th>\n",
       "      <td>010247-00427829-01148482</td>\n",
       "      <td>0</td>\n",
       "      <td>0</td>\n",
       "      <td>38,937</td>\n",
       "      <td>38,937</td>\n",
       "      <td>38,937</td>\n",
       "      <td>38,937</td>\n",
       "      <td>38,937</td>\n",
       "      <td>38,937</td>\n",
       "      <td>38,937</td>\n",
       "      <td>38,937</td>\n",
       "      <td>38,937</td>\n",
       "      <td>38,937</td>\n",
       "      <td>1</td>\n",
       "      <td>1</td>\n",
       "      <td>0</td>\n",
       "      <td>0</td>\n",
       "      <td>0</td>\n",
       "      <td>0</td>\n",
       "      <td>0</td>\n",
       "      <td>0</td>\n",
       "      <td>0</td>\n",
       "      <td>0</td>\n",
       "      <td>0</td>\n",
       "      <td>0</td>\n",
       "      <td>0</td>\n",
       "      <td>0</td>\n",
       "      <td>0</td>\n",
       "      <td>0</td>\n",
       "      <td>0</td>\n",
       "      <td>0</td>\n",
       "      <td>0</td>\n",
       "      <td>0</td>\n",
       "      <td>0</td>\n",
       "      <td>0</td>\n",
       "      <td>0</td>\n",
       "      <td>0</td>\n",
       "      <td>0</td>\n",
       "      <td>0</td>\n",
       "      <td>0</td>\n",
       "      <td>0</td>\n",
       "      <td>0</td>\n",
       "      <td>0</td>\n",
       "      <td>0</td>\n",
       "      <td>0</td>\n",
       "      <td>0</td>\n",
       "      <td>0</td>\n",
       "      <td>0</td>\n",
       "      <td>0</td>\n",
       "      <td>0</td>\n",
       "      <td>0</td>\n",
       "      <td>0</td>\n",
       "      <td>0</td>\n",
       "      <td>0</td>\n",
       "      <td>0</td>\n",
       "      <td>0</td>\n",
       "      <td>0</td>\n",
       "      <td>0</td>\n",
       "      <td>0</td>\n",
       "      <td>0</td>\n",
       "      <td>0</td>\n",
       "    </tr>\n",
       "  </tbody>\n",
       "</table>\n",
       "</div>"
      ],
      "text/plain": [
       "            codigo_contrato  dif_montocontrato_sumitems  \\\n",
       "1  000430-00428797-01149803                           0   \n",
       "2  010247-00427829-01148482                           0   \n",
       "\n",
       "   dif_montocontrato_sumitems_dummy  monto_referencial_item_sum  \\\n",
       "1                                 0                      38,222   \n",
       "2                                 0                      38,937   \n",
       "\n",
       "   monto_referencial_item_mean  monto_referencial_item_median  \\\n",
       "1                       38,222                         38,222   \n",
       "2                       38,937                         38,937   \n",
       "\n",
       "   monto_referencial_item_min  monto_referencial_item_max  \\\n",
       "1                      38,222                      38,222   \n",
       "2                      38,937                      38,937   \n",
       "\n",
       "   monto_contratado_item_sum  monto_contratado_item_mean  \\\n",
       "1                     38,222                      38,222   \n",
       "2                     38,937                      38,937   \n",
       "\n",
       "   monto_contratado_item_median  monto_contratado_item_min  \\\n",
       "1                        38,222                     38,222   \n",
       "2                        38,937                     38,937   \n",
       "\n",
       "   monto_contratado_item_max  monto_contratado_item_max_sobre_total  \\\n",
       "1                     38,222                                      1   \n",
       "2                     38,937                                      1   \n",
       "\n",
       "   monto_referencial_item_max_sobre_total  grupo_familia_count  \\\n",
       "1                                       1                    1   \n",
       "2                                       1                    0   \n",
       "\n",
       "   codigogrupo_count  codigoitem_count  un_item  codigogrupo_10  \\\n",
       "1                  1                 1        1               0   \n",
       "2                  0                 0        0               0   \n",
       "\n",
       "   codigogrupo_11  codigogrupo_12  codigogrupo_13  codigogrupo_14  \\\n",
       "1               0               0               0               0   \n",
       "2               0               0               0               0   \n",
       "\n",
       "   codigogrupo_15  codigogrupo_20  codigogrupo_21  codigogrupo_22  \\\n",
       "1               0               0               0               0   \n",
       "2               0               0               0               0   \n",
       "\n",
       "   codigogrupo_23  codigogrupo_24  codigogrupo_25  codigogrupo_26  \\\n",
       "1               0               0               0               0   \n",
       "2               0               0               0               0   \n",
       "\n",
       "   codigogrupo_27  codigogrupo_30  codigogrupo_31  codigogrupo_32  \\\n",
       "1               0               0               0               0   \n",
       "2               0               0               0               0   \n",
       "\n",
       "   codigogrupo_39  codigogrupo_40  codigogrupo_41  codigogrupo_42  \\\n",
       "1               0               0               0               0   \n",
       "2               0               0               0               0   \n",
       "\n",
       "   codigogrupo_43  codigogrupo_44  codigogrupo_45  codigogrupo_46  \\\n",
       "1               0               0               0               0   \n",
       "2               0               0               0               0   \n",
       "\n",
       "   codigogrupo_47  codigogrupo_48  codigogrupo_49  codigogrupo_50  \\\n",
       "1               0               0               0               1   \n",
       "2               0               0               0               0   \n",
       "\n",
       "   codigogrupo_51  codigogrupo_52  codigogrupo_53  codigogrupo_55  \\\n",
       "1               0               0               0               0   \n",
       "2               0               0               0               0   \n",
       "\n",
       "   codigogrupo_56  codigogrupo_60  codigogrupo_72  codigogrupo_78  \\\n",
       "1               0               0               0               0   \n",
       "2               0               0               0               0   \n",
       "\n",
       "   codigogrupo_80  codigogrupo_81  codigogrupo_82  codigogrupo_83  \\\n",
       "1               0               0               0               0   \n",
       "2               0               0               0               0   \n",
       "\n",
       "   codigogrupo_95  \n",
       "1               0  \n",
       "2               0  "
      ]
     },
     "execution_count": 171,
     "metadata": {},
     "output_type": "execute_result"
    }
   ],
   "source": [
    "# Join de sub-dataframes\n",
    "df_items = df_items.join(df_items_montos.set_index('codigo_contrato'),\n",
    "                        on = 'codigo_contrato',\n",
    "                        how = 'left')\n",
    "\n",
    "df_items = df_items.join(df_items_cantidad.set_index('codigo_contrato'),\n",
    "                        on = 'codigo_contrato',\n",
    "                        how = 'left')\n",
    "\n",
    "df_items = df_items.join(df_itemcubso.set_index('codigo_contrato'),\n",
    "                        on = 'codigo_contrato',\n",
    "                        how = 'left')\n",
    "\n",
    "# print\n",
    "print(df_items.shape)\n",
    "df_items = df_items.drop('sum_monto_items', axis = 1)\n",
    "df_items = df_items.drop('monto_contratado_total', axis = 1)\n",
    "df_items.head(2)"
   ]
  },
  {
   "cell_type": "markdown",
   "id": "7cc29f2d",
   "metadata": {},
   "source": [
    "#### Tiempos"
   ]
  },
  {
   "cell_type": "code",
   "execution_count": 123,
   "id": "ae73476e",
   "metadata": {},
   "outputs": [
    {
     "name": "stdout",
     "output_type": "stream",
     "text": [
      "(84973, 7)\n"
     ]
    }
   ],
   "source": [
    "df_tiempos = contratos[['codigoconvocatoria',\n",
    "                        'codigo_contrato',\n",
    "                        'fecha_suscripcion_contrato',\n",
    "                        'fechapresentacionpropuesta',\n",
    "                        'fecha_buenapro',\n",
    "                        'fecha_consentimiento_bp',\n",
    "                        'fechaconvocatoria']].groupby(['codigoconvocatoria',\n",
    "                        'codigo_contrato'], as_index = False).max()\n",
    "print(df_tiempos.shape)"
   ]
  },
  {
   "cell_type": "code",
   "execution_count": 124,
   "id": "aeaebeed",
   "metadata": {},
   "outputs": [],
   "source": [
    "# Meses \n",
    "def extraer_mes(fecha):\n",
    "    return (fecha.month)\n",
    "\n",
    "def extraer_dia(fecha):\n",
    "    return (fecha.day)"
   ]
  },
  {
   "cell_type": "code",
   "execution_count": 125,
   "id": "b695685f",
   "metadata": {},
   "outputs": [],
   "source": [
    "# Mes\n",
    "df_tiempos['fecha_suscripcion_contrato_mes'] = df_tiempos.apply(lambda x: extraer_mes(x['fecha_suscripcion_contrato']),\n",
    "                                                               axis = 1)\n",
    "df_tiempos['fechapresentacionpropuesta_mes'] = df_tiempos.apply(lambda x: extraer_mes(x['fechapresentacionpropuesta']),\n",
    "                                                               axis = 1)\n",
    "df_tiempos['fecha_buenapro_mes'] = df_tiempos.apply(lambda x: extraer_mes(x['fecha_buenapro']),\n",
    "                                                               axis = 1)\n",
    "df_tiempos['fecha_consentimiento_bp_mes'] = df_tiempos.apply(lambda x: extraer_mes(x['fecha_consentimiento_bp']),\n",
    "                                                               axis = 1)\n",
    "df_tiempos['fechaconvocatoria_mes'] = df_tiempos.apply(lambda x: extraer_mes(x['fechaconvocatoria']),\n",
    "                                                               axis = 1)\n",
    "\n",
    "# Dias\n",
    "df_tiempos['fecha_suscripcion_contrato_dia'] = df_tiempos.apply(lambda x: extraer_dia(x['fecha_suscripcion_contrato']),\n",
    "                                                               axis = 1)\n",
    "df_tiempos['fechapresentacionpropuesta_dia'] = df_tiempos.apply(lambda x: extraer_dia(x['fechapresentacionpropuesta']),\n",
    "                                                               axis = 1)\n",
    "df_tiempos['fecha_buenapro_dia'] = df_tiempos.apply(lambda x: extraer_dia(x['fecha_buenapro']),\n",
    "                                                               axis = 1)\n",
    "df_tiempos['fecha_consentimiento_bp_dia'] = df_tiempos.apply(lambda x: extraer_dia(x['fecha_consentimiento_bp']),\n",
    "                                                               axis = 1)\n",
    "df_tiempos['fechaconvocatoria_dia'] = df_tiempos.apply(lambda x: extraer_dia(x['fechaconvocatoria']),\n",
    "                                                               axis = 1)"
   ]
  },
  {
   "cell_type": "code",
   "execution_count": 126,
   "id": "246e3b31",
   "metadata": {},
   "outputs": [],
   "source": [
    "# Convocatoria y suscripcion del contrato\n",
    "df_tiempos['tiempos_dif_convocatoria_suscripcion'] = df_tiempos['fecha_suscripcion_contrato'] - df_tiempos['fechaconvocatoria']\n",
    "# Dummy Convocatoria y suscripcion del contrato es negativo\n",
    "df_tiempos['tiempos_dif_convocatoria_suscripcion_negativa'] = df_tiempos.apply(lambda x: 1 if x['tiempos_dif_convocatoria_suscripcion'] < datetime.timedelta(0)  else 0, axis = 1)\n",
    "# Timedelta a integer\n",
    "df_tiempos['tiempos_dif_convocatoria_suscripcion'] = df_tiempos['tiempos_dif_convocatoria_suscripcion'].dt.days"
   ]
  },
  {
   "cell_type": "code",
   "execution_count": 127,
   "id": "e0268074",
   "metadata": {},
   "outputs": [],
   "source": [
    "# Convocatoria y presentacion de propuestas\n",
    "df_tiempos['tiempos_dif_convocatoria_presentacionpropuestas'] = df_tiempos['fechapresentacionpropuesta'] - df_tiempos['fechaconvocatoria']\n",
    "# Dummy Convocatoria y presentacion de propuestas es negativo\n",
    "df_tiempos['tiempos_dif_convocatoria_presentacionpropuestas_negativa'] = df_tiempos.apply(lambda x: 1 if x['tiempos_dif_convocatoria_presentacionpropuestas'] < datetime.timedelta(0)  else 0, axis = 1)\n",
    "# Timedelta a integer\n",
    "df_tiempos['tiempos_dif_convocatoria_presentacionpropuestas'] = df_tiempos['tiempos_dif_convocatoria_presentacionpropuestas'].dt.days"
   ]
  },
  {
   "cell_type": "code",
   "execution_count": 128,
   "id": "373a931b",
   "metadata": {},
   "outputs": [],
   "source": [
    "# BuenaPro y SuscripcionContrato\n",
    "df_tiempos['tiempos_dif_buenapro_suscripcion'] = df_tiempos['fecha_suscripcion_contrato'] - df_tiempos['fecha_buenapro']\n",
    "# Dummy Convocatoria y presentacion de propuestas es negativo\n",
    "df_tiempos['tiempos_dif_buenapro_suscripcion_negativa'] = df_tiempos.apply(lambda x: 1 if x['tiempos_dif_buenapro_suscripcion'] < datetime.timedelta(0)  else 0, axis = 1)\n",
    "# Timedelta a integer\n",
    "df_tiempos['tiempos_dif_buenapro_suscripcion'] = df_tiempos['tiempos_dif_buenapro_suscripcion'].dt.days"
   ]
  },
  {
   "cell_type": "code",
   "execution_count": 129,
   "id": "f9e2e0e3",
   "metadata": {},
   "outputs": [],
   "source": [
    "# Consentimiento y SuscripcionContrato\n",
    "df_tiempos['tiempos_dif_consentimientobuenapro_suscripcion'] = df_tiempos['fecha_suscripcion_contrato'] - df_tiempos['fecha_consentimiento_bp']\n",
    "# Dummy Convocatoria y presentacion de propuestas es negativo\n",
    "df_tiempos['tiempos_dif_consentimientobuenapro_suscripcion_negativa'] = df_tiempos.apply(lambda x: 1 if x['tiempos_dif_consentimientobuenapro_suscripcion'] < datetime.timedelta(0)  else 0, axis = 1)\n",
    "# Timedelta a integer\n",
    "df_tiempos['tiempos_dif_consentimientobuenapro_suscripcion'] = df_tiempos['tiempos_dif_consentimientobuenapro_suscripcion'].dt.days"
   ]
  },
  {
   "cell_type": "code",
   "execution_count": 130,
   "id": "cde10424",
   "metadata": {},
   "outputs": [
    {
     "name": "stdout",
     "output_type": "stream",
     "text": [
      "(84973, 25)\n"
     ]
    }
   ],
   "source": [
    "# print\n",
    "print(df_tiempos.shape)\n",
    "df_tiempos = df_tiempos.drop(['codigoconvocatoria',\n",
    "                              'fecha_suscripcion_contrato',\n",
    "                             'fechapresentacionpropuesta',\n",
    "                             'fecha_buenapro',\n",
    "                             'fecha_consentimiento_bp',\n",
    "                             'fechaconvocatoria'], axis = 1)\n",
    "df_tiempos.head(2)\n",
    "df_tiempos = df_tiempos.fillna(0)"
   ]
  },
  {
   "cell_type": "markdown",
   "id": "5bbd8268",
   "metadata": {},
   "source": [
    "#### Geografia"
   ]
  },
  {
   "cell_type": "code",
   "execution_count": 131,
   "id": "ce871d44",
   "metadata": {},
   "outputs": [
    {
     "data": {
      "text/plain": [
       "(119015, 9)"
      ]
     },
     "execution_count": 131,
     "metadata": {},
     "output_type": "execute_result"
    }
   ],
   "source": [
    "df_geo = contratos[['codigoconvocatoria','codigo_contrato','num_item','entidad_departamento','entidad_distrito','entidad_provincia',\n",
    "                   'item_departamento','item_distrito','item_provincia']].drop_duplicates()\n",
    "df_geo.shape"
   ]
  },
  {
   "cell_type": "code",
   "execution_count": 132,
   "id": "d43982ac",
   "metadata": {},
   "outputs": [],
   "source": [
    "df_geo = df_geo.fillna(value=np.nan)"
   ]
  },
  {
   "cell_type": "code",
   "execution_count": 133,
   "id": "ff5f2a90",
   "metadata": {},
   "outputs": [],
   "source": [
    "# comparar geografia de la entidad con geografia del item\n",
    "def comparar_strings(textouno,textodos):\n",
    "    if pd.isnull(textouno) or pd.isnull(textodos) :\n",
    "        resultado = -1\n",
    "    elif textouno == textodos:\n",
    "        resultado = 0\n",
    "    else:\n",
    "        resultado = 1\n",
    "    return(resultado)"
   ]
  },
  {
   "cell_type": "code",
   "execution_count": 134,
   "id": "085bc887",
   "metadata": {},
   "outputs": [],
   "source": [
    "# comparar geografia de la entidad con geografia del item\n",
    "df_geo_comparacion = df_geo.copy()\n",
    "\n",
    "df_geo_comparacion['geo_departamentoent_departamentoitem'] = df_geo_comparacion.apply(lambda x: comparar_strings(x['entidad_departamento'],\n",
    "                                                                                       x['item_departamento']),\n",
    "                                                             axis = 1)\n",
    "df_geo_comparacion['geo_distritoent_distritoitem'] = df_geo_comparacion.apply(lambda x: comparar_strings(x['entidad_distrito'],\n",
    "                                                                                       x['item_distrito']),\n",
    "                                                             axis = 1)\n",
    "df_geo_comparacion['geo_provinciaent_provinciaitem'] = df_geo_comparacion.apply(lambda x: comparar_strings(x['entidad_provincia'],\n",
    "                                                                                       x['item_provincia']),\n",
    "                                                             axis = 1)"
   ]
  },
  {
   "cell_type": "code",
   "execution_count": 135,
   "id": "236c9090",
   "metadata": {},
   "outputs": [],
   "source": [
    "#flatteen a nivel contrato usando max\n",
    "df_geo_comparacion = df_geo_comparacion.drop(['codigoconvocatoria','num_item', 'entidad_distrito',\n",
    "       'entidad_provincia', 'item_distrito', 'item_provincia'], axis = 1)\n",
    "\n",
    "df_geo_comparacion = df_geo_comparacion.groupby('codigo_contrato', as_index = False).max()"
   ]
  },
  {
   "cell_type": "code",
   "execution_count": 136,
   "id": "719f2c18",
   "metadata": {},
   "outputs": [
    {
     "data": {
      "text/plain": [
       "(84973, 6)"
      ]
     },
     "execution_count": 136,
     "metadata": {},
     "output_type": "execute_result"
    }
   ],
   "source": [
    "df_geo_comparacion.shape"
   ]
  },
  {
   "cell_type": "code",
   "execution_count": 137,
   "id": "a973d42f",
   "metadata": {},
   "outputs": [],
   "source": [
    "# onehot departamento de la entidad\n",
    "#df_geo = generar_onehot_encoding(df_geo,'entidad_departamento')"
   ]
  },
  {
   "cell_type": "code",
   "execution_count": 138,
   "id": "f3121f43",
   "metadata": {},
   "outputs": [],
   "source": [
    "# onehot departamento del item\n",
    "#df_geo = generar_onehot_encoding(df_geo,'item_departamento')"
   ]
  },
  {
   "cell_type": "code",
   "execution_count": 139,
   "id": "e625bb31",
   "metadata": {},
   "outputs": [],
   "source": [
    "#flatteen a nivel contrato usando max\n",
    "df_geo = df_geo.drop(['codigoconvocatoria','num_item', 'entidad_distrito',\n",
    "       'entidad_provincia', 'item_distrito', 'item_provincia'], axis = 1)\n",
    "\n",
    "df_geo = df_geo.groupby('codigo_contrato', as_index = False).sum()"
   ]
  },
  {
   "cell_type": "code",
   "execution_count": 140,
   "id": "1d1ec5fa",
   "metadata": {},
   "outputs": [],
   "source": [
    "# join de df_geo_comparacion y df_geo\n",
    "df_geo = df_geo.join(df_geo_comparacion[['codigo_contrato','geo_departamentoent_departamentoitem','geo_distritoent_distritoitem','geo_provinciaent_provinciaitem']].set_index('codigo_contrato'), \n",
    "                     on = 'codigo_contrato',\n",
    "                    how = 'left')"
   ]
  },
  {
   "cell_type": "code",
   "execution_count": 141,
   "id": "686b3cf0",
   "metadata": {},
   "outputs": [
    {
     "name": "stderr",
     "output_type": "stream",
     "text": [
      "/Users/mac/anaconda3/envs/IDB/lib/python3.8/site-packages/pandas/core/indexing.py:670: SettingWithCopyWarning: \n",
      "A value is trying to be set on a copy of a slice from a DataFrame\n",
      "\n",
      "See the caveats in the documentation: https://pandas.pydata.org/pandas-docs/stable/user_guide/indexing.html#returning-a-view-versus-a-copy\n",
      "  iloc._setitem_with_indexer(indexer, value)\n",
      "/Users/mac/anaconda3/envs/IDB/lib/python3.8/site-packages/pandas/core/indexing.py:670: SettingWithCopyWarning: \n",
      "A value is trying to be set on a copy of a slice from a DataFrame\n",
      "\n",
      "See the caveats in the documentation: https://pandas.pydata.org/pandas-docs/stable/user_guide/indexing.html#returning-a-view-versus-a-copy\n",
      "  iloc._setitem_with_indexer(indexer, value)\n",
      "/Users/mac/anaconda3/envs/IDB/lib/python3.8/site-packages/pandas/core/indexing.py:670: SettingWithCopyWarning: \n",
      "A value is trying to be set on a copy of a slice from a DataFrame\n",
      "\n",
      "See the caveats in the documentation: https://pandas.pydata.org/pandas-docs/stable/user_guide/indexing.html#returning-a-view-versus-a-copy\n",
      "  iloc._setitem_with_indexer(indexer, value)\n"
     ]
    }
   ],
   "source": [
    "#dummies\n",
    "#columns = df_geo.drop(['codigo_contrato'], axis = 1).columns\n",
    "columns = ['geo_departamentoent_departamentoitem','geo_distritoent_distritoitem','geo_provinciaent_provinciaitem']\n",
    "for col in columns:\n",
    "    df_geo[col].loc[df_geo[col] > 1] = 1"
   ]
  },
  {
   "cell_type": "code",
   "execution_count": 142,
   "id": "d9aded47",
   "metadata": {},
   "outputs": [
    {
     "data": {
      "text/plain": [
       "(84973, 6)"
      ]
     },
     "execution_count": 142,
     "metadata": {},
     "output_type": "execute_result"
    }
   ],
   "source": [
    "df_geo.shape"
   ]
  },
  {
   "cell_type": "markdown",
   "id": "f2971d53",
   "metadata": {},
   "source": [
    "#### Covid"
   ]
  },
  {
   "cell_type": "code",
   "execution_count": 143,
   "id": "ac13245d",
   "metadata": {},
   "outputs": [
    {
     "data": {
      "text/plain": [
       "(84973, 2)"
      ]
     },
     "execution_count": 143,
     "metadata": {},
     "output_type": "execute_result"
    }
   ],
   "source": [
    "df_covid = contratos[['codigo_contrato','codigoconvocatoria']].drop_duplicates()\n",
    "df_covid.shape"
   ]
  },
  {
   "cell_type": "code",
   "execution_count": 144,
   "id": "e444e7e5",
   "metadata": {},
   "outputs": [],
   "source": [
    "df_covid = df_covid.join(covid[['codigoconvocatoria','convocatoria_covid']].drop_duplicates().set_index('codigoconvocatoria'), \n",
    "                        on = 'codigoconvocatoria', how = 'left')"
   ]
  },
  {
   "cell_type": "code",
   "execution_count": 145,
   "id": "e89f2c5d",
   "metadata": {},
   "outputs": [],
   "source": [
    "df_covid['convocatoria_covid'] = df_covid['convocatoria_covid'].fillna(0)"
   ]
  },
  {
   "cell_type": "code",
   "execution_count": 146,
   "id": "a51c8696",
   "metadata": {},
   "outputs": [
    {
     "name": "stdout",
     "output_type": "stream",
     "text": [
      "(84973, 3)\n"
     ]
    },
    {
     "data": {
      "text/html": [
       "<div>\n",
       "<style scoped>\n",
       "    .dataframe tbody tr th:only-of-type {\n",
       "        vertical-align: middle;\n",
       "    }\n",
       "\n",
       "    .dataframe tbody tr th {\n",
       "        vertical-align: top;\n",
       "    }\n",
       "\n",
       "    .dataframe thead th {\n",
       "        text-align: right;\n",
       "    }\n",
       "</style>\n",
       "<table border=\"1\" class=\"dataframe\">\n",
       "  <thead>\n",
       "    <tr style=\"text-align: right;\">\n",
       "      <th></th>\n",
       "      <th>codigo_contrato</th>\n",
       "      <th>convocatoria_covid</th>\n",
       "    </tr>\n",
       "  </thead>\n",
       "  <tbody>\n",
       "    <tr>\n",
       "      <th>1</th>\n",
       "      <td>000430-00428797-01149803</td>\n",
       "      <td>0</td>\n",
       "    </tr>\n",
       "    <tr>\n",
       "      <th>2</th>\n",
       "      <td>010247-00427829-01148482</td>\n",
       "      <td>0</td>\n",
       "    </tr>\n",
       "  </tbody>\n",
       "</table>\n",
       "</div>"
      ],
      "text/plain": [
       "            codigo_contrato  convocatoria_covid\n",
       "1  000430-00428797-01149803                   0\n",
       "2  010247-00427829-01148482                   0"
      ]
     },
     "execution_count": 146,
     "metadata": {},
     "output_type": "execute_result"
    }
   ],
   "source": [
    "print(df_covid.shape)\n",
    "df_covid = df_covid.drop('codigoconvocatoria', axis = 1)\n",
    "df_covid.head(2)"
   ]
  },
  {
   "cell_type": "markdown",
   "id": "4d831177",
   "metadata": {},
   "source": [
    "# Dataframe"
   ]
  },
  {
   "cell_type": "code",
   "execution_count": 184,
   "id": "e9f97d07",
   "metadata": {},
   "outputs": [
    {
     "data": {
      "text/plain": [
       "(84479, 16)"
      ]
     },
     "execution_count": 184,
     "metadata": {},
     "output_type": "execute_result"
    }
   ],
   "source": [
    "# X Caracteristicas\n",
    "df.shape"
   ]
  },
  {
   "cell_type": "code",
   "execution_count": 185,
   "id": "d14ce554",
   "metadata": {},
   "outputs": [
    {
     "data": {
      "text/plain": [
       "(84479, 22)"
      ]
     },
     "execution_count": 185,
     "metadata": {},
     "output_type": "execute_result"
    }
   ],
   "source": [
    "# X Proveedores y postores\n",
    "df = df.join(df_proveedores.set_index('codigo_contrato'),\n",
    "            on = 'codigo_contrato', \n",
    "            how = 'left')\n",
    "df.shape"
   ]
  },
  {
   "cell_type": "code",
   "execution_count": 186,
   "id": "aa0ffbac",
   "metadata": {},
   "outputs": [
    {
     "data": {
      "text/plain": [
       "(84479, 25)"
      ]
     },
     "execution_count": 186,
     "metadata": {},
     "output_type": "execute_result"
    }
   ],
   "source": [
    "# Ente\n",
    "df = df.join(df_ente.set_index('codigo_contrato'),\n",
    "            on = 'codigo_contrato',\n",
    "            how = 'left')\n",
    "df.shape"
   ]
  },
  {
   "cell_type": "code",
   "execution_count": 187,
   "id": "fd29013b",
   "metadata": {},
   "outputs": [
    {
     "data": {
      "text/plain": [
       "(84479, 28)"
      ]
     },
     "execution_count": 187,
     "metadata": {},
     "output_type": "execute_result"
    }
   ],
   "source": [
    "# Ente-Proveddor\n",
    "df = df.join(df_ente_proveedor.set_index('codigo_contrato'),\n",
    "            on = 'codigo_contrato',\n",
    "            how = 'left')\n",
    "df.shape"
   ]
  },
  {
   "cell_type": "code",
   "execution_count": 188,
   "id": "6fe1071a",
   "metadata": {},
   "outputs": [
    {
     "data": {
      "text/plain": [
       "(84479, 88)"
      ]
     },
     "execution_count": 188,
     "metadata": {},
     "output_type": "execute_result"
    }
   ],
   "source": [
    "# X Items\n",
    "df = df.join(df_items.set_index('codigo_contrato'),\n",
    "            on = 'codigo_contrato', \n",
    "            how = 'left')\n",
    "df.shape"
   ]
  },
  {
   "cell_type": "code",
   "execution_count": 189,
   "id": "d25b148e",
   "metadata": {},
   "outputs": [
    {
     "data": {
      "text/plain": [
       "(84479, 106)"
      ]
     },
     "execution_count": 189,
     "metadata": {},
     "output_type": "execute_result"
    }
   ],
   "source": [
    "# X Tiempos\n",
    "df = df.join(df_tiempos.set_index('codigo_contrato'),\n",
    "            on = 'codigo_contrato', \n",
    "            how = 'left')\n",
    "df.shape"
   ]
  },
  {
   "cell_type": "code",
   "execution_count": 190,
   "id": "fe818907",
   "metadata": {},
   "outputs": [
    {
     "data": {
      "text/plain": [
       "(84479, 107)"
      ]
     },
     "execution_count": 190,
     "metadata": {},
     "output_type": "execute_result"
    }
   ],
   "source": [
    "# X Covid\n",
    "df = df.join(df_covid.set_index('codigo_contrato'),\n",
    "            on = 'codigo_contrato', \n",
    "            how = 'left')\n",
    "df.shape"
   ]
  },
  {
   "cell_type": "code",
   "execution_count": 191,
   "id": "943126ef",
   "metadata": {},
   "outputs": [
    {
     "data": {
      "text/plain": [
       "(84479, 112)"
      ]
     },
     "execution_count": 191,
     "metadata": {},
     "output_type": "execute_result"
    }
   ],
   "source": [
    "# X Geo\n",
    "df = df.join(df_geo.set_index('codigo_contrato'),\n",
    "            on = 'codigo_contrato', \n",
    "            how = 'left')\n",
    "df.shape"
   ]
  },
  {
   "cell_type": "markdown",
   "id": "efe43493",
   "metadata": {},
   "source": [
    "#### Analisis de dataframe"
   ]
  },
  {
   "cell_type": "code",
   "execution_count": 192,
   "id": "0e96c1f4",
   "metadata": {},
   "outputs": [],
   "source": [
    "# Genero dataset quitando variables onehotencoding\n",
    "df1 = df.loc[:, ~df.columns.str.contains('item_departamento')]\n",
    "df1 = df1.loc[:, ~df1.columns.str.contains('entidad_departamento')]\n",
    "df1 = df1.loc[:, ~df1.columns.str.contains('entidad_departamento')]\n",
    "df1 = df1.loc[:, ~df1.columns.str.contains('codigogrupo')]"
   ]
  },
  {
   "cell_type": "code",
   "execution_count": 193,
   "id": "fb382bd1",
   "metadata": {
    "scrolled": true
   },
   "outputs": [
    {
     "data": {
      "text/plain": [
       "codigo_contrato                                                0\n",
       "Y_sobrecostos                                                  0\n",
       "Y_sobrecostos_suma                                             0\n",
       "Y_sobretiempos                                                 0\n",
       "codigoconvocatoria                                             0\n",
       "tipo_compra                                                    0\n",
       "sector                                                         0\n",
       "tipoentidad                                                    0\n",
       "tipoprocesoseleccion                                           0\n",
       "monto_referencial_total                                        0\n",
       "monto_contratado_total                                         0\n",
       "ruc_entidad                                                    0\n",
       "ruc_codigo_ganador                                             0\n",
       "monto_referencial_vs_total                                     0\n",
       "len_monto_referencial                                          0\n",
       "len_monto_contratado_total                                     0\n",
       "cantidad_proveedores                                           0\n",
       "cantidad_postores                                            552\n",
       "tipo_proveedor                                              4548\n",
       "proveedor_cantidad_contratos_pasado                            0\n",
       "proveedor_cantidad_sobretiempos_pasado                         0\n",
       "proveedor_porcentaje_sobretiempos_contatos                     0\n",
       "ente_cantidad_contratos_pasado                                 0\n",
       "ente_cantidad_sobretiempos_pasado                              0\n",
       "ente_porcentaje_sobretiempos_contatos                          0\n",
       "ente_proveedor_cantidad_contratos_pasado                       0\n",
       "ente_proveedor_cantidad_ineficiencias_pasado                   0\n",
       "ente_proveedor_porcentaje_ineficiencias_contatos               0\n",
       "dif_montocontrato_sumitems                                     0\n",
       "dif_montocontrato_sumitems_dummy                               0\n",
       "monto_referencial_item_sum                                     0\n",
       "monto_referencial_item_mean                                    0\n",
       "monto_referencial_item_median                                  0\n",
       "monto_referencial_item_min                                     0\n",
       "monto_referencial_item_max                                     0\n",
       "monto_contratado_item_sum                                      0\n",
       "monto_contratado_item_mean                                     0\n",
       "monto_contratado_item_median                                   0\n",
       "monto_contratado_item_min                                      0\n",
       "monto_contratado_item_max                                      0\n",
       "monto_contratado_item_max_sobre_total                        117\n",
       "monto_referencial_item_max_sobre_total                         0\n",
       "grupo_familia_count                                            0\n",
       "codigoitem_count                                               0\n",
       "un_item                                                        0\n",
       "fecha_suscripcion_contrato_mes                                 0\n",
       "fechapresentacionpropuesta_mes                                 0\n",
       "fecha_buenapro_mes                                             0\n",
       "fecha_consentimiento_bp_mes                                    0\n",
       "fechaconvocatoria_mes                                          0\n",
       "fecha_suscripcion_contrato_dia                                 0\n",
       "fechapresentacionpropuesta_dia                                 0\n",
       "fecha_buenapro_dia                                             0\n",
       "fecha_consentimiento_bp_dia                                    0\n",
       "fechaconvocatoria_dia                                          0\n",
       "tiempos_dif_convocatoria_suscripcion                           0\n",
       "tiempos_dif_convocatoria_suscripcion_negativa                  0\n",
       "tiempos_dif_convocatoria_presentacionpropuestas                0\n",
       "tiempos_dif_convocatoria_presentacionpropuestas_negativa       0\n",
       "tiempos_dif_buenapro_suscripcion                               0\n",
       "tiempos_dif_buenapro_suscripcion_negativa                      0\n",
       "tiempos_dif_consentimientobuenapro_suscripcion                 0\n",
       "tiempos_dif_consentimientobuenapro_suscripcion_negativa        0\n",
       "convocatoria_covid                                             0\n",
       "geo_departamentoent_departamentoitem                           0\n",
       "geo_distritoent_distritoitem                                   0\n",
       "geo_provinciaent_provinciaitem                                 0\n",
       "dtype: int64"
      ]
     },
     "execution_count": 193,
     "metadata": {},
     "output_type": "execute_result"
    }
   ],
   "source": [
    "# Cantidad nulls en cada variable\n",
    "df1.isnull().sum()"
   ]
  },
  {
   "cell_type": "code",
   "execution_count": 194,
   "id": "74fbfe62",
   "metadata": {},
   "outputs": [
    {
     "data": {
      "text/html": [
       "<div>\n",
       "<style scoped>\n",
       "    .dataframe tbody tr th:only-of-type {\n",
       "        vertical-align: middle;\n",
       "    }\n",
       "\n",
       "    .dataframe tbody tr th {\n",
       "        vertical-align: top;\n",
       "    }\n",
       "\n",
       "    .dataframe thead th {\n",
       "        text-align: right;\n",
       "    }\n",
       "</style>\n",
       "<table border=\"1\" class=\"dataframe\">\n",
       "  <thead>\n",
       "    <tr style=\"text-align: right;\">\n",
       "      <th></th>\n",
       "      <th>Y_sobrecostos</th>\n",
       "      <th>Y_sobrecostos_suma</th>\n",
       "      <th>Y_sobretiempos</th>\n",
       "      <th>codigoconvocatoria</th>\n",
       "      <th>monto_referencial_total</th>\n",
       "      <th>monto_contratado_total</th>\n",
       "      <th>ruc_entidad</th>\n",
       "      <th>monto_referencial_vs_total</th>\n",
       "      <th>len_monto_referencial</th>\n",
       "      <th>len_monto_contratado_total</th>\n",
       "      <th>cantidad_proveedores</th>\n",
       "      <th>cantidad_postores</th>\n",
       "      <th>proveedor_cantidad_contratos_pasado</th>\n",
       "      <th>proveedor_cantidad_sobretiempos_pasado</th>\n",
       "      <th>proveedor_porcentaje_sobretiempos_contatos</th>\n",
       "      <th>ente_cantidad_contratos_pasado</th>\n",
       "      <th>ente_cantidad_sobretiempos_pasado</th>\n",
       "      <th>ente_porcentaje_sobretiempos_contatos</th>\n",
       "      <th>ente_proveedor_cantidad_contratos_pasado</th>\n",
       "      <th>ente_proveedor_cantidad_ineficiencias_pasado</th>\n",
       "      <th>ente_proveedor_porcentaje_ineficiencias_contatos</th>\n",
       "      <th>dif_montocontrato_sumitems</th>\n",
       "      <th>dif_montocontrato_sumitems_dummy</th>\n",
       "      <th>monto_referencial_item_sum</th>\n",
       "      <th>monto_referencial_item_mean</th>\n",
       "      <th>monto_referencial_item_median</th>\n",
       "      <th>monto_referencial_item_min</th>\n",
       "      <th>monto_referencial_item_max</th>\n",
       "      <th>monto_contratado_item_sum</th>\n",
       "      <th>monto_contratado_item_mean</th>\n",
       "      <th>monto_contratado_item_median</th>\n",
       "      <th>monto_contratado_item_min</th>\n",
       "      <th>monto_contratado_item_max</th>\n",
       "      <th>monto_contratado_item_max_sobre_total</th>\n",
       "      <th>monto_referencial_item_max_sobre_total</th>\n",
       "      <th>grupo_familia_count</th>\n",
       "      <th>codigoitem_count</th>\n",
       "      <th>un_item</th>\n",
       "      <th>fecha_suscripcion_contrato_mes</th>\n",
       "      <th>fechapresentacionpropuesta_mes</th>\n",
       "      <th>fecha_buenapro_mes</th>\n",
       "      <th>fecha_consentimiento_bp_mes</th>\n",
       "      <th>fechaconvocatoria_mes</th>\n",
       "      <th>fecha_suscripcion_contrato_dia</th>\n",
       "      <th>fechapresentacionpropuesta_dia</th>\n",
       "      <th>fecha_buenapro_dia</th>\n",
       "      <th>fecha_consentimiento_bp_dia</th>\n",
       "      <th>fechaconvocatoria_dia</th>\n",
       "      <th>tiempos_dif_convocatoria_suscripcion</th>\n",
       "      <th>tiempos_dif_convocatoria_suscripcion_negativa</th>\n",
       "      <th>tiempos_dif_convocatoria_presentacionpropuestas</th>\n",
       "      <th>tiempos_dif_convocatoria_presentacionpropuestas_negativa</th>\n",
       "      <th>tiempos_dif_buenapro_suscripcion</th>\n",
       "      <th>tiempos_dif_buenapro_suscripcion_negativa</th>\n",
       "      <th>tiempos_dif_consentimientobuenapro_suscripcion</th>\n",
       "      <th>tiempos_dif_consentimientobuenapro_suscripcion_negativa</th>\n",
       "      <th>convocatoria_covid</th>\n",
       "      <th>geo_departamentoent_departamentoitem</th>\n",
       "      <th>geo_distritoent_distritoitem</th>\n",
       "      <th>geo_provinciaent_provinciaitem</th>\n",
       "    </tr>\n",
       "  </thead>\n",
       "  <tbody>\n",
       "    <tr>\n",
       "      <th>count</th>\n",
       "      <td>84,479</td>\n",
       "      <td>84,479</td>\n",
       "      <td>84,479</td>\n",
       "      <td>84,479</td>\n",
       "      <td>84,479</td>\n",
       "      <td>84,479</td>\n",
       "      <td>84,479</td>\n",
       "      <td>84,479</td>\n",
       "      <td>84,479</td>\n",
       "      <td>84,479</td>\n",
       "      <td>84,479</td>\n",
       "      <td>83,927</td>\n",
       "      <td>84,479</td>\n",
       "      <td>84,479</td>\n",
       "      <td>84,479</td>\n",
       "      <td>84,479</td>\n",
       "      <td>84,479</td>\n",
       "      <td>84,479</td>\n",
       "      <td>84,479</td>\n",
       "      <td>84,479</td>\n",
       "      <td>84,479</td>\n",
       "      <td>84,479</td>\n",
       "      <td>84,479</td>\n",
       "      <td>84,479</td>\n",
       "      <td>84,479</td>\n",
       "      <td>84,479</td>\n",
       "      <td>84,479</td>\n",
       "      <td>84,479</td>\n",
       "      <td>84,479</td>\n",
       "      <td>84,479</td>\n",
       "      <td>84,479</td>\n",
       "      <td>84,479</td>\n",
       "      <td>84,479</td>\n",
       "      <td>84,362</td>\n",
       "      <td>84,479</td>\n",
       "      <td>84,479</td>\n",
       "      <td>84,479</td>\n",
       "      <td>84,479</td>\n",
       "      <td>84,479</td>\n",
       "      <td>84,479</td>\n",
       "      <td>84,479</td>\n",
       "      <td>84,479</td>\n",
       "      <td>84,479</td>\n",
       "      <td>84,479</td>\n",
       "      <td>84,479</td>\n",
       "      <td>84,479</td>\n",
       "      <td>84,479</td>\n",
       "      <td>84,479</td>\n",
       "      <td>84,479</td>\n",
       "      <td>84,479</td>\n",
       "      <td>84,479</td>\n",
       "      <td>84,479</td>\n",
       "      <td>84,479</td>\n",
       "      <td>84,479</td>\n",
       "      <td>84,479</td>\n",
       "      <td>84,479</td>\n",
       "      <td>84,479</td>\n",
       "      <td>84,479</td>\n",
       "      <td>84,479</td>\n",
       "      <td>84,479</td>\n",
       "    </tr>\n",
       "    <tr>\n",
       "      <th>mean</th>\n",
       "      <td>0</td>\n",
       "      <td>0</td>\n",
       "      <td>0</td>\n",
       "      <td>551,588</td>\n",
       "      <td>46,440,257</td>\n",
       "      <td>251,873</td>\n",
       "      <td>20,308,822,131</td>\n",
       "      <td>1</td>\n",
       "      <td>6</td>\n",
       "      <td>5</td>\n",
       "      <td>6</td>\n",
       "      <td>12</td>\n",
       "      <td>64</td>\n",
       "      <td>1</td>\n",
       "      <td>2</td>\n",
       "      <td>1,479</td>\n",
       "      <td>16</td>\n",
       "      <td>2</td>\n",
       "      <td>42</td>\n",
       "      <td>0</td>\n",
       "      <td>1</td>\n",
       "      <td>-118</td>\n",
       "      <td>0</td>\n",
       "      <td>8,668,304</td>\n",
       "      <td>3,950,159</td>\n",
       "      <td>2,770,907</td>\n",
       "      <td>1,866,875</td>\n",
       "      <td>8,367,559</td>\n",
       "      <td>251,992</td>\n",
       "      <td>231,913</td>\n",
       "      <td>231,136</td>\n",
       "      <td>226,212</td>\n",
       "      <td>239,650</td>\n",
       "      <td>1</td>\n",
       "      <td>1</td>\n",
       "      <td>1</td>\n",
       "      <td>1</td>\n",
       "      <td>1</td>\n",
       "      <td>7</td>\n",
       "      <td>6</td>\n",
       "      <td>6</td>\n",
       "      <td>6</td>\n",
       "      <td>7</td>\n",
       "      <td>16</td>\n",
       "      <td>15</td>\n",
       "      <td>15</td>\n",
       "      <td>15</td>\n",
       "      <td>18</td>\n",
       "      <td>60</td>\n",
       "      <td>0</td>\n",
       "      <td>13</td>\n",
       "      <td>0</td>\n",
       "      <td>17</td>\n",
       "      <td>0</td>\n",
       "      <td>24</td>\n",
       "      <td>0</td>\n",
       "      <td>0</td>\n",
       "      <td>-0</td>\n",
       "      <td>-0</td>\n",
       "      <td>-0</td>\n",
       "    </tr>\n",
       "    <tr>\n",
       "      <th>std</th>\n",
       "      <td>0</td>\n",
       "      <td>0</td>\n",
       "      <td>0</td>\n",
       "      <td>80,797</td>\n",
       "      <td>120,922,088</td>\n",
       "      <td>3,127,226</td>\n",
       "      <td>177,922,268</td>\n",
       "      <td>1</td>\n",
       "      <td>1</td>\n",
       "      <td>1</td>\n",
       "      <td>12</td>\n",
       "      <td>21</td>\n",
       "      <td>166</td>\n",
       "      <td>3</td>\n",
       "      <td>6</td>\n",
       "      <td>3,398</td>\n",
       "      <td>28</td>\n",
       "      <td>5</td>\n",
       "      <td>145</td>\n",
       "      <td>2</td>\n",
       "      <td>7</td>\n",
       "      <td>22,275</td>\n",
       "      <td>0</td>\n",
       "      <td>292,757,368</td>\n",
       "      <td>155,214,820</td>\n",
       "      <td>143,924,809</td>\n",
       "      <td>126,469,844</td>\n",
       "      <td>292,731,303</td>\n",
       "      <td>3,127,303</td>\n",
       "      <td>3,107,069</td>\n",
       "      <td>3,106,963</td>\n",
       "      <td>3,105,002</td>\n",
       "      <td>3,112,297</td>\n",
       "      <td>0</td>\n",
       "      <td>0</td>\n",
       "      <td>2</td>\n",
       "      <td>2</td>\n",
       "      <td>0</td>\n",
       "      <td>3</td>\n",
       "      <td>4</td>\n",
       "      <td>3</td>\n",
       "      <td>3</td>\n",
       "      <td>3</td>\n",
       "      <td>9</td>\n",
       "      <td>10</td>\n",
       "      <td>9</td>\n",
       "      <td>9</td>\n",
       "      <td>9</td>\n",
       "      <td>63</td>\n",
       "      <td>0</td>\n",
       "      <td>152</td>\n",
       "      <td>0</td>\n",
       "      <td>19</td>\n",
       "      <td>0</td>\n",
       "      <td>793</td>\n",
       "      <td>0</td>\n",
       "      <td>0</td>\n",
       "      <td>0</td>\n",
       "      <td>1</td>\n",
       "      <td>0</td>\n",
       "    </tr>\n",
       "    <tr>\n",
       "      <th>min</th>\n",
       "      <td>0</td>\n",
       "      <td>0</td>\n",
       "      <td>0</td>\n",
       "      <td>424,106</td>\n",
       "      <td>11,045</td>\n",
       "      <td>0</td>\n",
       "      <td>20,100,003,199</td>\n",
       "      <td>0</td>\n",
       "      <td>5</td>\n",
       "      <td>1</td>\n",
       "      <td>1</td>\n",
       "      <td>1</td>\n",
       "      <td>0</td>\n",
       "      <td>0</td>\n",
       "      <td>0</td>\n",
       "      <td>0</td>\n",
       "      <td>0</td>\n",
       "      <td>0</td>\n",
       "      <td>0</td>\n",
       "      <td>0</td>\n",
       "      <td>0</td>\n",
       "      <td>-4,574,267</td>\n",
       "      <td>0</td>\n",
       "      <td>11,045</td>\n",
       "      <td>11,045</td>\n",
       "      <td>9,445</td>\n",
       "      <td>2,562</td>\n",
       "      <td>11,045</td>\n",
       "      <td>0</td>\n",
       "      <td>0</td>\n",
       "      <td>0</td>\n",
       "      <td>0</td>\n",
       "      <td>0</td>\n",
       "      <td>0</td>\n",
       "      <td>0</td>\n",
       "      <td>0</td>\n",
       "      <td>0</td>\n",
       "      <td>0</td>\n",
       "      <td>1</td>\n",
       "      <td>0</td>\n",
       "      <td>0</td>\n",
       "      <td>0</td>\n",
       "      <td>1</td>\n",
       "      <td>1</td>\n",
       "      <td>0</td>\n",
       "      <td>0</td>\n",
       "      <td>0</td>\n",
       "      <td>1</td>\n",
       "      <td>-450</td>\n",
       "      <td>0</td>\n",
       "      <td>-43,211</td>\n",
       "      <td>0</td>\n",
       "      <td>-794</td>\n",
       "      <td>0</td>\n",
       "      <td>-457</td>\n",
       "      <td>0</td>\n",
       "      <td>0</td>\n",
       "      <td>-1</td>\n",
       "      <td>-1</td>\n",
       "      <td>-1</td>\n",
       "    </tr>\n",
       "    <tr>\n",
       "      <th>25%</th>\n",
       "      <td>0</td>\n",
       "      <td>0</td>\n",
       "      <td>0</td>\n",
       "      <td>488,913</td>\n",
       "      <td>76,236</td>\n",
       "      <td>45,900</td>\n",
       "      <td>20,153,408,191</td>\n",
       "      <td>0</td>\n",
       "      <td>5</td>\n",
       "      <td>5</td>\n",
       "      <td>1</td>\n",
       "      <td>2</td>\n",
       "      <td>1</td>\n",
       "      <td>0</td>\n",
       "      <td>0</td>\n",
       "      <td>11</td>\n",
       "      <td>0</td>\n",
       "      <td>0</td>\n",
       "      <td>0</td>\n",
       "      <td>0</td>\n",
       "      <td>0</td>\n",
       "      <td>0</td>\n",
       "      <td>0</td>\n",
       "      <td>66,410</td>\n",
       "      <td>65,000</td>\n",
       "      <td>65,000</td>\n",
       "      <td>62,756</td>\n",
       "      <td>65,641</td>\n",
       "      <td>45,863</td>\n",
       "      <td>43,648</td>\n",
       "      <td>43,470</td>\n",
       "      <td>42,209</td>\n",
       "      <td>44,910</td>\n",
       "      <td>1</td>\n",
       "      <td>1</td>\n",
       "      <td>1</td>\n",
       "      <td>1</td>\n",
       "      <td>0</td>\n",
       "      <td>5</td>\n",
       "      <td>3</td>\n",
       "      <td>4</td>\n",
       "      <td>4</td>\n",
       "      <td>4</td>\n",
       "      <td>9</td>\n",
       "      <td>6</td>\n",
       "      <td>8</td>\n",
       "      <td>7</td>\n",
       "      <td>10</td>\n",
       "      <td>23</td>\n",
       "      <td>0</td>\n",
       "      <td>1</td>\n",
       "      <td>0</td>\n",
       "      <td>9</td>\n",
       "      <td>0</td>\n",
       "      <td>3</td>\n",
       "      <td>0</td>\n",
       "      <td>0</td>\n",
       "      <td>0</td>\n",
       "      <td>0</td>\n",
       "      <td>0</td>\n",
       "    </tr>\n",
       "    <tr>\n",
       "      <th>50%</th>\n",
       "      <td>0</td>\n",
       "      <td>0</td>\n",
       "      <td>0</td>\n",
       "      <td>546,909</td>\n",
       "      <td>184,874</td>\n",
       "      <td>79,790</td>\n",
       "      <td>20,199,759,672</td>\n",
       "      <td>1</td>\n",
       "      <td>6</td>\n",
       "      <td>5</td>\n",
       "      <td>1</td>\n",
       "      <td>3</td>\n",
       "      <td>6</td>\n",
       "      <td>0</td>\n",
       "      <td>0</td>\n",
       "      <td>45</td>\n",
       "      <td>0</td>\n",
       "      <td>0</td>\n",
       "      <td>0</td>\n",
       "      <td>0</td>\n",
       "      <td>0</td>\n",
       "      <td>0</td>\n",
       "      <td>0</td>\n",
       "      <td>136,650</td>\n",
       "      <td>129,060</td>\n",
       "      <td>128,087</td>\n",
       "      <td>115,637</td>\n",
       "      <td>131,495</td>\n",
       "      <td>79,800</td>\n",
       "      <td>74,200</td>\n",
       "      <td>73,900</td>\n",
       "      <td>71,485</td>\n",
       "      <td>76,500</td>\n",
       "      <td>1</td>\n",
       "      <td>1</td>\n",
       "      <td>1</td>\n",
       "      <td>1</td>\n",
       "      <td>1</td>\n",
       "      <td>6</td>\n",
       "      <td>6</td>\n",
       "      <td>6</td>\n",
       "      <td>6</td>\n",
       "      <td>7</td>\n",
       "      <td>16</td>\n",
       "      <td>14</td>\n",
       "      <td>15</td>\n",
       "      <td>15</td>\n",
       "      <td>18</td>\n",
       "      <td>35</td>\n",
       "      <td>0</td>\n",
       "      <td>3</td>\n",
       "      <td>0</td>\n",
       "      <td>15</td>\n",
       "      <td>0</td>\n",
       "      <td>9</td>\n",
       "      <td>0</td>\n",
       "      <td>0</td>\n",
       "      <td>0</td>\n",
       "      <td>0</td>\n",
       "      <td>0</td>\n",
       "    </tr>\n",
       "    <tr>\n",
       "      <th>75%</th>\n",
       "      <td>0</td>\n",
       "      <td>0</td>\n",
       "      <td>0</td>\n",
       "      <td>595,711</td>\n",
       "      <td>1,129,943</td>\n",
       "      <td>179,425</td>\n",
       "      <td>20,527,179,221</td>\n",
       "      <td>1</td>\n",
       "      <td>7</td>\n",
       "      <td>6</td>\n",
       "      <td>2</td>\n",
       "      <td>8</td>\n",
       "      <td>34</td>\n",
       "      <td>0</td>\n",
       "      <td>0</td>\n",
       "      <td>457</td>\n",
       "      <td>14</td>\n",
       "      <td>2</td>\n",
       "      <td>3</td>\n",
       "      <td>0</td>\n",
       "      <td>0</td>\n",
       "      <td>0</td>\n",
       "      <td>0</td>\n",
       "      <td>389,074</td>\n",
       "      <td>349,789</td>\n",
       "      <td>338,575</td>\n",
       "      <td>280,777</td>\n",
       "      <td>368,332</td>\n",
       "      <td>179,615</td>\n",
       "      <td>164,992</td>\n",
       "      <td>164,500</td>\n",
       "      <td>159,771</td>\n",
       "      <td>170,000</td>\n",
       "      <td>1</td>\n",
       "      <td>1</td>\n",
       "      <td>1</td>\n",
       "      <td>1</td>\n",
       "      <td>1</td>\n",
       "      <td>9</td>\n",
       "      <td>9</td>\n",
       "      <td>9</td>\n",
       "      <td>9</td>\n",
       "      <td>11</td>\n",
       "      <td>24</td>\n",
       "      <td>23</td>\n",
       "      <td>23</td>\n",
       "      <td>23</td>\n",
       "      <td>26</td>\n",
       "      <td>68</td>\n",
       "      <td>0</td>\n",
       "      <td>12</td>\n",
       "      <td>0</td>\n",
       "      <td>23</td>\n",
       "      <td>0</td>\n",
       "      <td>14</td>\n",
       "      <td>0</td>\n",
       "      <td>0</td>\n",
       "      <td>0</td>\n",
       "      <td>0</td>\n",
       "      <td>0</td>\n",
       "    </tr>\n",
       "    <tr>\n",
       "      <th>max</th>\n",
       "      <td>1</td>\n",
       "      <td>1</td>\n",
       "      <td>1</td>\n",
       "      <td>726,980</td>\n",
       "      <td>615,751,003</td>\n",
       "      <td>615,751,003</td>\n",
       "      <td>20,606,497,483</td>\n",
       "      <td>100</td>\n",
       "      <td>9</td>\n",
       "      <td>9</td>\n",
       "      <td>41</td>\n",
       "      <td>75</td>\n",
       "      <td>1,442</td>\n",
       "      <td>23</td>\n",
       "      <td>100</td>\n",
       "      <td>15,502</td>\n",
       "      <td>144</td>\n",
       "      <td>100</td>\n",
       "      <td>1,314</td>\n",
       "      <td>20</td>\n",
       "      <td>100</td>\n",
       "      <td>1,493,640</td>\n",
       "      <td>1</td>\n",
       "      <td>11,081,531,371</td>\n",
       "      <td>11,080,510,547</td>\n",
       "      <td>11,080,510,547</td>\n",
       "      <td>11,080,510,547</td>\n",
       "      <td>11,080,510,547</td>\n",
       "      <td>615,751,003</td>\n",
       "      <td>615,751,003</td>\n",
       "      <td>615,751,003</td>\n",
       "      <td>615,751,003</td>\n",
       "      <td>615,751,003</td>\n",
       "      <td>1</td>\n",
       "      <td>1</td>\n",
       "      <td>125</td>\n",
       "      <td>125</td>\n",
       "      <td>1</td>\n",
       "      <td>12</td>\n",
       "      <td>12</td>\n",
       "      <td>12</td>\n",
       "      <td>12</td>\n",
       "      <td>12</td>\n",
       "      <td>31</td>\n",
       "      <td>31</td>\n",
       "      <td>31</td>\n",
       "      <td>31</td>\n",
       "      <td>31</td>\n",
       "      <td>3,710</td>\n",
       "      <td>1</td>\n",
       "      <td>413</td>\n",
       "      <td>1</td>\n",
       "      <td>660</td>\n",
       "      <td>1</td>\n",
       "      <td>44,416</td>\n",
       "      <td>1</td>\n",
       "      <td>1</td>\n",
       "      <td>1</td>\n",
       "      <td>1</td>\n",
       "      <td>1</td>\n",
       "    </tr>\n",
       "  </tbody>\n",
       "</table>\n",
       "</div>"
      ],
      "text/plain": [
       "       Y_sobrecostos  Y_sobrecostos_suma  Y_sobretiempos  codigoconvocatoria  \\\n",
       "count         84,479              84,479          84,479              84,479   \n",
       "mean               0                   0               0             551,588   \n",
       "std                0                   0               0              80,797   \n",
       "min                0                   0               0             424,106   \n",
       "25%                0                   0               0             488,913   \n",
       "50%                0                   0               0             546,909   \n",
       "75%                0                   0               0             595,711   \n",
       "max                1                   1               1             726,980   \n",
       "\n",
       "       monto_referencial_total  monto_contratado_total    ruc_entidad  \\\n",
       "count                   84,479                  84,479         84,479   \n",
       "mean                46,440,257                 251,873 20,308,822,131   \n",
       "std                120,922,088               3,127,226    177,922,268   \n",
       "min                     11,045                       0 20,100,003,199   \n",
       "25%                     76,236                  45,900 20,153,408,191   \n",
       "50%                    184,874                  79,790 20,199,759,672   \n",
       "75%                  1,129,943                 179,425 20,527,179,221   \n",
       "max                615,751,003             615,751,003 20,606,497,483   \n",
       "\n",
       "       monto_referencial_vs_total  len_monto_referencial  \\\n",
       "count                      84,479                 84,479   \n",
       "mean                            1                      6   \n",
       "std                             1                      1   \n",
       "min                             0                      5   \n",
       "25%                             0                      5   \n",
       "50%                             1                      6   \n",
       "75%                             1                      7   \n",
       "max                           100                      9   \n",
       "\n",
       "       len_monto_contratado_total  cantidad_proveedores  cantidad_postores  \\\n",
       "count                      84,479                84,479             83,927   \n",
       "mean                            5                     6                 12   \n",
       "std                             1                    12                 21   \n",
       "min                             1                     1                  1   \n",
       "25%                             5                     1                  2   \n",
       "50%                             5                     1                  3   \n",
       "75%                             6                     2                  8   \n",
       "max                             9                    41                 75   \n",
       "\n",
       "       proveedor_cantidad_contratos_pasado  \\\n",
       "count                               84,479   \n",
       "mean                                    64   \n",
       "std                                    166   \n",
       "min                                      0   \n",
       "25%                                      1   \n",
       "50%                                      6   \n",
       "75%                                     34   \n",
       "max                                  1,442   \n",
       "\n",
       "       proveedor_cantidad_sobretiempos_pasado  \\\n",
       "count                                  84,479   \n",
       "mean                                        1   \n",
       "std                                         3   \n",
       "min                                         0   \n",
       "25%                                         0   \n",
       "50%                                         0   \n",
       "75%                                         0   \n",
       "max                                        23   \n",
       "\n",
       "       proveedor_porcentaje_sobretiempos_contatos  \\\n",
       "count                                      84,479   \n",
       "mean                                            2   \n",
       "std                                             6   \n",
       "min                                             0   \n",
       "25%                                             0   \n",
       "50%                                             0   \n",
       "75%                                             0   \n",
       "max                                           100   \n",
       "\n",
       "       ente_cantidad_contratos_pasado  ente_cantidad_sobretiempos_pasado  \\\n",
       "count                          84,479                             84,479   \n",
       "mean                            1,479                                 16   \n",
       "std                             3,398                                 28   \n",
       "min                                 0                                  0   \n",
       "25%                                11                                  0   \n",
       "50%                                45                                  0   \n",
       "75%                               457                                 14   \n",
       "max                            15,502                                144   \n",
       "\n",
       "       ente_porcentaje_sobretiempos_contatos  \\\n",
       "count                                 84,479   \n",
       "mean                                       2   \n",
       "std                                        5   \n",
       "min                                        0   \n",
       "25%                                        0   \n",
       "50%                                        0   \n",
       "75%                                        2   \n",
       "max                                      100   \n",
       "\n",
       "       ente_proveedor_cantidad_contratos_pasado  \\\n",
       "count                                    84,479   \n",
       "mean                                         42   \n",
       "std                                         145   \n",
       "min                                           0   \n",
       "25%                                           0   \n",
       "50%                                           0   \n",
       "75%                                           3   \n",
       "max                                       1,314   \n",
       "\n",
       "       ente_proveedor_cantidad_ineficiencias_pasado  \\\n",
       "count                                        84,479   \n",
       "mean                                              0   \n",
       "std                                               2   \n",
       "min                                               0   \n",
       "25%                                               0   \n",
       "50%                                               0   \n",
       "75%                                               0   \n",
       "max                                              20   \n",
       "\n",
       "       ente_proveedor_porcentaje_ineficiencias_contatos  \\\n",
       "count                                            84,479   \n",
       "mean                                                  1   \n",
       "std                                                   7   \n",
       "min                                                   0   \n",
       "25%                                                   0   \n",
       "50%                                                   0   \n",
       "75%                                                   0   \n",
       "max                                                 100   \n",
       "\n",
       "       dif_montocontrato_sumitems  dif_montocontrato_sumitems_dummy  \\\n",
       "count                      84,479                            84,479   \n",
       "mean                         -118                                 0   \n",
       "std                        22,275                                 0   \n",
       "min                    -4,574,267                                 0   \n",
       "25%                             0                                 0   \n",
       "50%                             0                                 0   \n",
       "75%                             0                                 0   \n",
       "max                     1,493,640                                 1   \n",
       "\n",
       "       monto_referencial_item_sum  monto_referencial_item_mean  \\\n",
       "count                      84,479                       84,479   \n",
       "mean                    8,668,304                    3,950,159   \n",
       "std                   292,757,368                  155,214,820   \n",
       "min                        11,045                       11,045   \n",
       "25%                        66,410                       65,000   \n",
       "50%                       136,650                      129,060   \n",
       "75%                       389,074                      349,789   \n",
       "max                11,081,531,371               11,080,510,547   \n",
       "\n",
       "       monto_referencial_item_median  monto_referencial_item_min  \\\n",
       "count                         84,479                      84,479   \n",
       "mean                       2,770,907                   1,866,875   \n",
       "std                      143,924,809                 126,469,844   \n",
       "min                            9,445                       2,562   \n",
       "25%                           65,000                      62,756   \n",
       "50%                          128,087                     115,637   \n",
       "75%                          338,575                     280,777   \n",
       "max                   11,080,510,547              11,080,510,547   \n",
       "\n",
       "       monto_referencial_item_max  monto_contratado_item_sum  \\\n",
       "count                      84,479                     84,479   \n",
       "mean                    8,367,559                    251,992   \n",
       "std                   292,731,303                  3,127,303   \n",
       "min                        11,045                          0   \n",
       "25%                        65,641                     45,863   \n",
       "50%                       131,495                     79,800   \n",
       "75%                       368,332                    179,615   \n",
       "max                11,080,510,547                615,751,003   \n",
       "\n",
       "       monto_contratado_item_mean  monto_contratado_item_median  \\\n",
       "count                      84,479                        84,479   \n",
       "mean                      231,913                       231,136   \n",
       "std                     3,107,069                     3,106,963   \n",
       "min                             0                             0   \n",
       "25%                        43,648                        43,470   \n",
       "50%                        74,200                        73,900   \n",
       "75%                       164,992                       164,500   \n",
       "max                   615,751,003                   615,751,003   \n",
       "\n",
       "       monto_contratado_item_min  monto_contratado_item_max  \\\n",
       "count                     84,479                     84,479   \n",
       "mean                     226,212                    239,650   \n",
       "std                    3,105,002                  3,112,297   \n",
       "min                            0                          0   \n",
       "25%                       42,209                     44,910   \n",
       "50%                       71,485                     76,500   \n",
       "75%                      159,771                    170,000   \n",
       "max                  615,751,003                615,751,003   \n",
       "\n",
       "       monto_contratado_item_max_sobre_total  \\\n",
       "count                                 84,362   \n",
       "mean                                       1   \n",
       "std                                        0   \n",
       "min                                        0   \n",
       "25%                                        1   \n",
       "50%                                        1   \n",
       "75%                                        1   \n",
       "max                                        1   \n",
       "\n",
       "       monto_referencial_item_max_sobre_total  grupo_familia_count  \\\n",
       "count                                  84,479               84,479   \n",
       "mean                                        1                    1   \n",
       "std                                         0                    2   \n",
       "min                                         0                    0   \n",
       "25%                                         1                    1   \n",
       "50%                                         1                    1   \n",
       "75%                                         1                    1   \n",
       "max                                         1                  125   \n",
       "\n",
       "       codigoitem_count  un_item  fecha_suscripcion_contrato_mes  \\\n",
       "count            84,479   84,479                          84,479   \n",
       "mean                  1        1                               7   \n",
       "std                   2        0                               3   \n",
       "min                   0        0                               1   \n",
       "25%                   1        0                               5   \n",
       "50%                   1        1                               6   \n",
       "75%                   1        1                               9   \n",
       "max                 125        1                              12   \n",
       "\n",
       "       fechapresentacionpropuesta_mes  fecha_buenapro_mes  \\\n",
       "count                          84,479              84,479   \n",
       "mean                                6                   6   \n",
       "std                                 4                   3   \n",
       "min                                 0                   0   \n",
       "25%                                 3                   4   \n",
       "50%                                 6                   6   \n",
       "75%                                 9                   9   \n",
       "max                                12                  12   \n",
       "\n",
       "       fecha_consentimiento_bp_mes  fechaconvocatoria_mes  \\\n",
       "count                       84,479                 84,479   \n",
       "mean                             6                      7   \n",
       "std                              3                      3   \n",
       "min                              0                      1   \n",
       "25%                              4                      4   \n",
       "50%                              6                      7   \n",
       "75%                              9                     11   \n",
       "max                             12                     12   \n",
       "\n",
       "       fecha_suscripcion_contrato_dia  fechapresentacionpropuesta_dia  \\\n",
       "count                          84,479                          84,479   \n",
       "mean                               16                              15   \n",
       "std                                 9                              10   \n",
       "min                                 1                               0   \n",
       "25%                                 9                               6   \n",
       "50%                                16                              14   \n",
       "75%                                24                              23   \n",
       "max                                31                              31   \n",
       "\n",
       "       fecha_buenapro_dia  fecha_consentimiento_bp_dia  fechaconvocatoria_dia  \\\n",
       "count              84,479                       84,479                 84,479   \n",
       "mean                   15                           15                     18   \n",
       "std                     9                            9                      9   \n",
       "min                     0                            0                      1   \n",
       "25%                     8                            7                     10   \n",
       "50%                    15                           15                     18   \n",
       "75%                    23                           23                     26   \n",
       "max                    31                           31                     31   \n",
       "\n",
       "       tiempos_dif_convocatoria_suscripcion  \\\n",
       "count                                84,479   \n",
       "mean                                     60   \n",
       "std                                      63   \n",
       "min                                    -450   \n",
       "25%                                      23   \n",
       "50%                                      35   \n",
       "75%                                      68   \n",
       "max                                   3,710   \n",
       "\n",
       "       tiempos_dif_convocatoria_suscripcion_negativa  \\\n",
       "count                                         84,479   \n",
       "mean                                               0   \n",
       "std                                                0   \n",
       "min                                                0   \n",
       "25%                                                0   \n",
       "50%                                                0   \n",
       "75%                                                0   \n",
       "max                                                1   \n",
       "\n",
       "       tiempos_dif_convocatoria_presentacionpropuestas  \\\n",
       "count                                           84,479   \n",
       "mean                                                13   \n",
       "std                                                152   \n",
       "min                                            -43,211   \n",
       "25%                                                  1   \n",
       "50%                                                  3   \n",
       "75%                                                 12   \n",
       "max                                                413   \n",
       "\n",
       "       tiempos_dif_convocatoria_presentacionpropuestas_negativa  \\\n",
       "count                                                    84,479   \n",
       "mean                                                          0   \n",
       "std                                                           0   \n",
       "min                                                           0   \n",
       "25%                                                           0   \n",
       "50%                                                           0   \n",
       "75%                                                           0   \n",
       "max                                                           1   \n",
       "\n",
       "       tiempos_dif_buenapro_suscripcion  \\\n",
       "count                            84,479   \n",
       "mean                                 17   \n",
       "std                                  19   \n",
       "min                                -794   \n",
       "25%                                   9   \n",
       "50%                                  15   \n",
       "75%                                  23   \n",
       "max                                 660   \n",
       "\n",
       "       tiempos_dif_buenapro_suscripcion_negativa  \\\n",
       "count                                     84,479   \n",
       "mean                                           0   \n",
       "std                                            0   \n",
       "min                                            0   \n",
       "25%                                            0   \n",
       "50%                                            0   \n",
       "75%                                            0   \n",
       "max                                            1   \n",
       "\n",
       "       tiempos_dif_consentimientobuenapro_suscripcion  \\\n",
       "count                                          84,479   \n",
       "mean                                               24   \n",
       "std                                               793   \n",
       "min                                              -457   \n",
       "25%                                                 3   \n",
       "50%                                                 9   \n",
       "75%                                                14   \n",
       "max                                            44,416   \n",
       "\n",
       "       tiempos_dif_consentimientobuenapro_suscripcion_negativa  \\\n",
       "count                                                   84,479   \n",
       "mean                                                         0   \n",
       "std                                                          0   \n",
       "min                                                          0   \n",
       "25%                                                          0   \n",
       "50%                                                          0   \n",
       "75%                                                          0   \n",
       "max                                                          1   \n",
       "\n",
       "       convocatoria_covid  geo_departamentoent_departamentoitem  \\\n",
       "count              84,479                                84,479   \n",
       "mean                    0                                    -0   \n",
       "std                     0                                     0   \n",
       "min                     0                                    -1   \n",
       "25%                     0                                     0   \n",
       "50%                     0                                     0   \n",
       "75%                     0                                     0   \n",
       "max                     1                                     1   \n",
       "\n",
       "       geo_distritoent_distritoitem  geo_provinciaent_provinciaitem  \n",
       "count                        84,479                          84,479  \n",
       "mean                             -0                              -0  \n",
       "std                               1                               0  \n",
       "min                              -1                              -1  \n",
       "25%                               0                               0  \n",
       "50%                               0                               0  \n",
       "75%                               0                               0  \n",
       "max                               1                               1  "
      ]
     },
     "execution_count": 194,
     "metadata": {},
     "output_type": "execute_result"
    }
   ],
   "source": [
    "df1.describe()"
   ]
  },
  {
   "cell_type": "markdown",
   "id": "597138ce",
   "metadata": {},
   "source": [
    "#### Exporto dataframe"
   ]
  },
  {
   "cell_type": "markdown",
   "id": "d73869e4",
   "metadata": {},
   "source": [
    "##### Sobrecostos"
   ]
  },
  {
   "cell_type": "markdown",
   "id": "5d8269f6",
   "metadata": {},
   "source": [
    "###### Binaria"
   ]
  },
  {
   "cell_type": "code",
   "execution_count": 195,
   "id": "6781d1b3",
   "metadata": {},
   "outputs": [],
   "source": [
    "# Sobrecostos binaria para Lightgbm \n",
    "#df.to_csv('modelo_predictivo/data/dataframe_v3.csv', index = False)"
   ]
  },
  {
   "cell_type": "code",
   "execution_count": 159,
   "id": "72477b60",
   "metadata": {},
   "outputs": [],
   "source": [
    "# Sobrecostos binaria con ohe\n",
    "#df.to_csv('modelo_predictivo/data/dataframe_v3.csv', index = False)"
   ]
  },
  {
   "cell_type": "markdown",
   "id": "08ed2e33",
   "metadata": {},
   "source": [
    "##### Sobretiempos"
   ]
  },
  {
   "cell_type": "markdown",
   "id": "75bb4825",
   "metadata": {},
   "source": [
    "###### Binaria"
   ]
  },
  {
   "cell_type": "code",
   "execution_count": 198,
   "id": "05165743",
   "metadata": {},
   "outputs": [],
   "source": [
    "# Sobretiempos binaria para Lightgbm \n",
    "df.to_csv('modelo_predictivo/data/dataframe_v4_sin_ohe.csv', index = False)"
   ]
  },
  {
   "cell_type": "code",
   "execution_count": 161,
   "id": "1fe36ed8",
   "metadata": {},
   "outputs": [],
   "source": [
    "# Sobretiempos binaria con ohe\n",
    "#df.to_csv('modelo_predictivo/data/dataframe_v4.csv', index = False)"
   ]
  },
  {
   "cell_type": "code",
   "execution_count": null,
   "id": "86977cff",
   "metadata": {},
   "outputs": [],
   "source": []
  }
 ],
 "metadata": {
  "kernelspec": {
   "display_name": "Python 3",
   "language": "python",
   "name": "python3"
  },
  "language_info": {
   "codemirror_mode": {
    "name": "ipython",
    "version": 3
   },
   "file_extension": ".py",
   "mimetype": "text/x-python",
   "name": "python",
   "nbconvert_exporter": "python",
   "pygments_lexer": "ipython3",
   "version": "3.8.8"
  }
 },
 "nbformat": 4,
 "nbformat_minor": 5
}
